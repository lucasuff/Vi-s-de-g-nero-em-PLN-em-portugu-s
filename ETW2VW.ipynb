{
  "nbformat": 4,
  "nbformat_minor": 0,
  "metadata": {
    "colab": {
      "name": "ETW2VW.ipynb",
      "provenance": [],
      "collapsed_sections": [],
      "mount_file_id": "1eQ3WdWeElIQiy2OUHvLGLpl0ciojdgwP",
      "authorship_tag": "ABX9TyMC9DKctgEf9l4ZX8InIzeG",
      "include_colab_link": true
    },
    "kernelspec": {
      "display_name": "Python 3",
      "name": "python3"
    },
    "language_info": {
      "name": "python"
    }
  },
  "cells": [
    {
      "cell_type": "markdown",
      "metadata": {
        "id": "view-in-github",
        "colab_type": "text"
      },
      "source": [
        "<a href=\"https://colab.research.google.com/github/lucasuff/Vies-de-genero-em-PLN-em-portugues/blob/main/ETW2VW.ipynb\" target=\"_parent\"><img src=\"https://colab.research.google.com/assets/colab-badge.svg\" alt=\"Open In Colab\"/></a>"
      ]
    },
    {
      "cell_type": "code",
      "metadata": {
        "colab": {
          "base_uri": "https://localhost:8080/",
          "height": 900
        },
        "id": "attGiEJjf70t",
        "outputId": "dee3f4c4-f04d-4939-cb0d-f1c97375eed8"
      },
      "source": [
        ".%pip install responsibly"
      ],
      "execution_count": null,
      "outputs": [
        {
          "output_type": "stream",
          "name": "stdout",
          "text": [
            "Collecting responsibly\n",
            "  Downloading responsibly-0.1.3-py3-none-any.whl (28.2 MB)\n",
            "\u001b[K     |████████████████████████████████| 28.2 MB 1.6 MB/s \n",
            "\u001b[?25hCollecting matplotlib<3,>=2.2\n",
            "  Downloading matplotlib-2.2.5-cp37-cp37m-manylinux1_x86_64.whl (12.8 MB)\n",
            "\u001b[K     |████████████████████████████████| 12.8 MB 10.8 MB/s \n",
            "\u001b[?25hRequirement already satisfied: click>=6.0 in /usr/local/lib/python3.7/dist-packages (from responsibly) (7.1.2)\n",
            "Requirement already satisfied: pandas>=0.23 in /usr/local/lib/python3.7/dist-packages (from responsibly) (1.1.5)\n",
            "Requirement already satisfied: scikit-learn>=0.19 in /usr/local/lib/python3.7/dist-packages (from responsibly) (1.0.1)\n",
            "Collecting gensim<3.8,>=3.7\n",
            "  Downloading gensim-3.7.3-cp37-cp37m-manylinux1_x86_64.whl (24.2 MB)\n",
            "\u001b[K     |████████████████████████████████| 24.2 MB 1.4 MB/s \n",
            "\u001b[?25hRequirement already satisfied: seaborn>=0.9 in /usr/local/lib/python3.7/dist-packages (from responsibly) (0.11.2)\n",
            "Requirement already satisfied: numpy>=1.15 in /usr/local/lib/python3.7/dist-packages (from responsibly) (1.19.5)\n",
            "Requirement already satisfied: tqdm>=4.24 in /usr/local/lib/python3.7/dist-packages (from responsibly) (4.62.3)\n",
            "Requirement already satisfied: mlxtend<0.17,>=0.13 in /usr/local/lib/python3.7/dist-packages (from responsibly) (0.14.0)\n",
            "Requirement already satisfied: scipy>=1.1 in /usr/local/lib/python3.7/dist-packages (from responsibly) (1.4.1)\n",
            "Requirement already satisfied: six>=1.10 in /usr/local/lib/python3.7/dist-packages (from responsibly) (1.15.0)\n",
            "Requirement already satisfied: tabulate>=0.8 in /usr/local/lib/python3.7/dist-packages (from responsibly) (0.8.9)\n",
            "Requirement already satisfied: smart-open>=1.7.0 in /usr/local/lib/python3.7/dist-packages (from gensim<3.8,>=3.7->responsibly) (5.2.1)\n",
            "Requirement already satisfied: pytz in /usr/local/lib/python3.7/dist-packages (from matplotlib<3,>=2.2->responsibly) (2018.9)\n",
            "Requirement already satisfied: cycler>=0.10 in /usr/local/lib/python3.7/dist-packages (from matplotlib<3,>=2.2->responsibly) (0.11.0)\n",
            "Requirement already satisfied: python-dateutil>=2.1 in /usr/local/lib/python3.7/dist-packages (from matplotlib<3,>=2.2->responsibly) (2.8.2)\n",
            "Requirement already satisfied: kiwisolver>=1.0.1 in /usr/local/lib/python3.7/dist-packages (from matplotlib<3,>=2.2->responsibly) (1.3.2)\n",
            "Requirement already satisfied: pyparsing!=2.0.4,!=2.1.2,!=2.1.6,>=2.0.1 in /usr/local/lib/python3.7/dist-packages (from matplotlib<3,>=2.2->responsibly) (3.0.6)\n",
            "Requirement already satisfied: setuptools in /usr/local/lib/python3.7/dist-packages (from mlxtend<0.17,>=0.13->responsibly) (57.4.0)\n",
            "Requirement already satisfied: joblib>=0.11 in /usr/local/lib/python3.7/dist-packages (from scikit-learn>=0.19->responsibly) (1.1.0)\n",
            "Requirement already satisfied: threadpoolctl>=2.0.0 in /usr/local/lib/python3.7/dist-packages (from scikit-learn>=0.19->responsibly) (3.0.0)\n",
            "Installing collected packages: matplotlib, gensim, responsibly\n",
            "  Attempting uninstall: matplotlib\n",
            "    Found existing installation: matplotlib 3.2.2\n",
            "    Uninstalling matplotlib-3.2.2:\n",
            "      Successfully uninstalled matplotlib-3.2.2\n",
            "  Attempting uninstall: gensim\n",
            "    Found existing installation: gensim 3.6.0\n",
            "    Uninstalling gensim-3.6.0:\n",
            "      Successfully uninstalled gensim-3.6.0\n",
            "\u001b[31mERROR: pip's dependency resolver does not currently take into account all the packages that are installed. This behaviour is the source of the following dependency conflicts.\n",
            "plotnine 0.6.0 requires matplotlib>=3.1.1, but you have matplotlib 2.2.5 which is incompatible.\n",
            "mizani 0.6.0 requires matplotlib>=3.1.1, but you have matplotlib 2.2.5 which is incompatible.\n",
            "arviz 0.11.4 requires matplotlib>=3.0, but you have matplotlib 2.2.5 which is incompatible.\n",
            "albumentations 0.1.12 requires imgaug<0.2.7,>=0.2.5, but you have imgaug 0.2.9 which is incompatible.\u001b[0m\n",
            "Successfully installed gensim-3.7.3 matplotlib-2.2.5 responsibly-0.1.3\n"
          ]
        },
        {
          "output_type": "display_data",
          "data": {
            "application/vnd.colab-display-data+json": {
              "pip_warning": {
                "packages": [
                  "matplotlib",
                  "mpl_toolkits"
                ]
              }
            }
          },
          "metadata": {}
        }
      ]
    },
    {
      "cell_type": "code",
      "metadata": {
        "colab": {
          "base_uri": "https://localhost:8080/"
        },
        "id": "Z8t35AsZdsiR",
        "outputId": "4fb6f28c-b009-45a9-9bd4-952e665216f9"
      },
      "source": [
        "%pip install -U pip setuptools wheel\n",
        "%pip install -U spacy"
      ],
      "execution_count": null,
      "outputs": [
        {
          "output_type": "stream",
          "name": "stdout",
          "text": [
            "Requirement already satisfied: pip in /usr/local/lib/python3.7/dist-packages (21.3.1)\n",
            "Requirement already satisfied: setuptools in /usr/local/lib/python3.7/dist-packages (59.2.0)\n",
            "Requirement already satisfied: wheel in /usr/local/lib/python3.7/dist-packages (0.37.0)\n",
            "\u001b[33mWARNING: Running pip as the 'root' user can result in broken permissions and conflicting behaviour with the system package manager. It is recommended to use a virtual environment instead: https://pip.pypa.io/warnings/venv\u001b[0m\n",
            "Requirement already satisfied: spacy in /usr/local/lib/python3.7/dist-packages (2.2.4)\n",
            "Collecting spacy\n",
            "  Downloading spacy-3.2.0-cp37-cp37m-manylinux_2_17_x86_64.manylinux2014_x86_64.whl (6.0 MB)\n",
            "     |████████████████████████████████| 6.0 MB 4.1 MB/s            \n",
            "\u001b[?25hCollecting typer<0.5.0,>=0.3.0\n",
            "  Downloading typer-0.4.0-py3-none-any.whl (27 kB)\n",
            "Collecting catalogue<2.1.0,>=2.0.6\n",
            "  Downloading catalogue-2.0.6-py3-none-any.whl (17 kB)\n",
            "Requirement already satisfied: jinja2 in /usr/local/lib/python3.7/dist-packages (from spacy) (2.11.3)\n",
            "Requirement already satisfied: cymem<2.1.0,>=2.0.2 in /usr/local/lib/python3.7/dist-packages (from spacy) (2.0.6)\n",
            "Requirement already satisfied: wasabi<1.1.0,>=0.8.1 in /usr/local/lib/python3.7/dist-packages (from spacy) (0.8.2)\n",
            "Requirement already satisfied: requests<3.0.0,>=2.13.0 in /usr/local/lib/python3.7/dist-packages (from spacy) (2.23.0)\n",
            "Requirement already satisfied: typing-extensions<4.0.0.0,>=3.7.4 in /usr/local/lib/python3.7/dist-packages (from spacy) (3.10.0.2)\n",
            "Requirement already satisfied: murmurhash<1.1.0,>=0.28.0 in /usr/local/lib/python3.7/dist-packages (from spacy) (1.0.6)\n",
            "Requirement already satisfied: preshed<3.1.0,>=3.0.2 in /usr/local/lib/python3.7/dist-packages (from spacy) (3.0.6)\n",
            "Collecting thinc<8.1.0,>=8.0.12\n",
            "  Downloading thinc-8.0.13-cp37-cp37m-manylinux_2_17_x86_64.manylinux2014_x86_64.whl (628 kB)\n",
            "     |████████████████████████████████| 628 kB 20.2 MB/s            \n",
            "\u001b[?25hRequirement already satisfied: packaging>=20.0 in /usr/local/lib/python3.7/dist-packages (from spacy) (21.3)\n",
            "Collecting pydantic!=1.8,!=1.8.1,<1.9.0,>=1.7.4\n",
            "  Downloading pydantic-1.8.2-cp37-cp37m-manylinux2014_x86_64.whl (10.1 MB)\n",
            "     |████████████████████████████████| 10.1 MB 40.6 MB/s            \n",
            "\u001b[?25hRequirement already satisfied: tqdm<5.0.0,>=4.38.0 in /usr/local/lib/python3.7/dist-packages (from spacy) (4.62.3)\n",
            "Requirement already satisfied: blis<0.8.0,>=0.4.0 in /usr/local/lib/python3.7/dist-packages (from spacy) (0.4.1)\n",
            "Collecting langcodes<4.0.0,>=3.2.0\n",
            "  Downloading langcodes-3.3.0-py3-none-any.whl (181 kB)\n",
            "     |████████████████████████████████| 181 kB 58.7 MB/s            \n",
            "\u001b[?25hRequirement already satisfied: setuptools in /usr/local/lib/python3.7/dist-packages (from spacy) (59.2.0)\n",
            "Collecting pathy>=0.3.5\n",
            "  Downloading pathy-0.6.1-py3-none-any.whl (42 kB)\n",
            "     |████████████████████████████████| 42 kB 1.4 MB/s             \n",
            "\u001b[?25hRequirement already satisfied: numpy>=1.15.0 in /usr/local/lib/python3.7/dist-packages (from spacy) (1.19.5)\n",
            "Collecting spacy-loggers<2.0.0,>=1.0.0\n",
            "  Downloading spacy_loggers-1.0.1-py3-none-any.whl (7.0 kB)\n",
            "Collecting spacy-legacy<3.1.0,>=3.0.8\n",
            "  Downloading spacy_legacy-3.0.8-py2.py3-none-any.whl (14 kB)\n",
            "Collecting srsly<3.0.0,>=2.4.1\n",
            "  Downloading srsly-2.4.2-cp37-cp37m-manylinux_2_17_x86_64.manylinux2014_x86_64.whl (451 kB)\n",
            "     |████████████████████████████████| 451 kB 60.8 MB/s            \n",
            "\u001b[?25hRequirement already satisfied: zipp>=0.5 in /usr/local/lib/python3.7/dist-packages (from catalogue<2.1.0,>=2.0.6->spacy) (3.6.0)\n",
            "Requirement already satisfied: pyparsing!=3.0.5,>=2.0.2 in /usr/local/lib/python3.7/dist-packages (from packaging>=20.0->spacy) (3.0.6)\n",
            "Requirement already satisfied: smart-open<6.0.0,>=5.0.0 in /usr/local/lib/python3.7/dist-packages (from pathy>=0.3.5->spacy) (5.2.1)\n",
            "Requirement already satisfied: idna<3,>=2.5 in /usr/local/lib/python3.7/dist-packages (from requests<3.0.0,>=2.13.0->spacy) (2.10)\n",
            "Requirement already satisfied: urllib3!=1.25.0,!=1.25.1,<1.26,>=1.21.1 in /usr/local/lib/python3.7/dist-packages (from requests<3.0.0,>=2.13.0->spacy) (1.24.3)\n",
            "Requirement already satisfied: chardet<4,>=3.0.2 in /usr/local/lib/python3.7/dist-packages (from requests<3.0.0,>=2.13.0->spacy) (3.0.4)\n",
            "Requirement already satisfied: certifi>=2017.4.17 in /usr/local/lib/python3.7/dist-packages (from requests<3.0.0,>=2.13.0->spacy) (2021.10.8)\n",
            "Requirement already satisfied: click<9.0.0,>=7.1.1 in /usr/local/lib/python3.7/dist-packages (from typer<0.5.0,>=0.3.0->spacy) (7.1.2)\n",
            "Requirement already satisfied: MarkupSafe>=0.23 in /usr/local/lib/python3.7/dist-packages (from jinja2->spacy) (2.0.1)\n",
            "Installing collected packages: catalogue, typer, srsly, pydantic, thinc, spacy-loggers, spacy-legacy, pathy, langcodes, spacy\n",
            "  Attempting uninstall: catalogue\n",
            "    Found existing installation: catalogue 1.0.0\n",
            "    Uninstalling catalogue-1.0.0:\n",
            "      Successfully uninstalled catalogue-1.0.0\n",
            "  Attempting uninstall: srsly\n",
            "    Found existing installation: srsly 1.0.5\n",
            "    Uninstalling srsly-1.0.5:\n",
            "      Successfully uninstalled srsly-1.0.5\n",
            "  Attempting uninstall: thinc\n",
            "    Found existing installation: thinc 7.4.0\n",
            "    Uninstalling thinc-7.4.0:\n",
            "      Successfully uninstalled thinc-7.4.0\n",
            "  Attempting uninstall: spacy\n",
            "    Found existing installation: spacy 2.2.4\n",
            "    Uninstalling spacy-2.2.4:\n",
            "      Successfully uninstalled spacy-2.2.4\n",
            "Successfully installed catalogue-2.0.6 langcodes-3.3.0 pathy-0.6.1 pydantic-1.8.2 spacy-3.2.0 spacy-legacy-3.0.8 spacy-loggers-1.0.1 srsly-2.4.2 thinc-8.0.13 typer-0.4.0\n",
            "\u001b[33mWARNING: Running pip as the 'root' user can result in broken permissions and conflicting behaviour with the system package manager. It is recommended to use a virtual environment instead: https://pip.pypa.io/warnings/venv\u001b[0m\n"
          ]
        }
      ]
    },
    {
      "cell_type": "code",
      "metadata": {
        "colab": {
          "base_uri": "https://localhost:8080/"
        },
        "id": "JMn-1_MoA1lv",
        "outputId": "a4ba68c3-f382-4074-a06d-0c1f34d9dbb4"
      },
      "source": [
        "!pip install stylecloud"
      ],
      "execution_count": null,
      "outputs": [
        {
          "output_type": "stream",
          "name": "stdout",
          "text": [
            "Collecting stylecloud\n",
            "  Downloading stylecloud-0.5.2.tar.gz (262 kB)\n",
            "     |████████████████████████████████| 262 kB 4.2 MB/s            \n",
            "\u001b[?25h  Preparing metadata (setup.py) ... \u001b[?25l\u001b[?25hdone\n",
            "Requirement already satisfied: wordcloud in /usr/local/lib/python3.7/dist-packages (from stylecloud) (1.5.0)\n",
            "Collecting icon-font-to-png\n",
            "  Downloading icon_font_to_png-0.4.1-py2.py3-none-any.whl (161 kB)\n",
            "     |████████████████████████████████| 161 kB 44.8 MB/s            \n",
            "\u001b[?25hRequirement already satisfied: palettable in /usr/local/lib/python3.7/dist-packages (from stylecloud) (3.3.0)\n",
            "Collecting fire\n",
            "  Downloading fire-0.4.0.tar.gz (87 kB)\n",
            "     |████████████████████████████████| 87 kB 6.4 MB/s             \n",
            "\u001b[?25h  Preparing metadata (setup.py) ... \u001b[?25l\u001b[?25hdone\n",
            "Requirement already satisfied: matplotlib in /usr/local/lib/python3.7/dist-packages (from stylecloud) (2.2.5)\n",
            "Requirement already satisfied: six in /usr/local/lib/python3.7/dist-packages (from fire->stylecloud) (1.15.0)\n",
            "Requirement already satisfied: termcolor in /usr/local/lib/python3.7/dist-packages (from fire->stylecloud) (1.1.0)\n",
            "Collecting tinycss>=0.4\n",
            "  Downloading tinycss-0.4.tar.gz (87 kB)\n",
            "     |████████████████████████████████| 87 kB 6.1 MB/s             \n",
            "\u001b[?25h  Preparing metadata (setup.py) ... \u001b[?25l\u001b[?25hdone\n",
            "Requirement already satisfied: Pillow>=4.0.0 in /usr/local/lib/python3.7/dist-packages (from icon-font-to-png->stylecloud) (7.1.2)\n",
            "Requirement already satisfied: requests>=2.12.5 in /usr/local/lib/python3.7/dist-packages (from icon-font-to-png->stylecloud) (2.23.0)\n",
            "Requirement already satisfied: python-dateutil>=2.1 in /usr/local/lib/python3.7/dist-packages (from matplotlib->stylecloud) (2.8.2)\n",
            "Requirement already satisfied: pyparsing!=2.0.4,!=2.1.2,!=2.1.6,>=2.0.1 in /usr/local/lib/python3.7/dist-packages (from matplotlib->stylecloud) (3.0.6)\n",
            "Requirement already satisfied: numpy>=1.7.1 in /usr/local/lib/python3.7/dist-packages (from matplotlib->stylecloud) (1.19.5)\n",
            "Requirement already satisfied: cycler>=0.10 in /usr/local/lib/python3.7/dist-packages (from matplotlib->stylecloud) (0.11.0)\n",
            "Requirement already satisfied: kiwisolver>=1.0.1 in /usr/local/lib/python3.7/dist-packages (from matplotlib->stylecloud) (1.3.2)\n",
            "Requirement already satisfied: pytz in /usr/local/lib/python3.7/dist-packages (from matplotlib->stylecloud) (2018.9)\n",
            "Requirement already satisfied: chardet<4,>=3.0.2 in /usr/local/lib/python3.7/dist-packages (from requests>=2.12.5->icon-font-to-png->stylecloud) (3.0.4)\n",
            "Requirement already satisfied: idna<3,>=2.5 in /usr/local/lib/python3.7/dist-packages (from requests>=2.12.5->icon-font-to-png->stylecloud) (2.10)\n",
            "Requirement already satisfied: certifi>=2017.4.17 in /usr/local/lib/python3.7/dist-packages (from requests>=2.12.5->icon-font-to-png->stylecloud) (2021.10.8)\n",
            "Requirement already satisfied: urllib3!=1.25.0,!=1.25.1,<1.26,>=1.21.1 in /usr/local/lib/python3.7/dist-packages (from requests>=2.12.5->icon-font-to-png->stylecloud) (1.24.3)\n",
            "Building wheels for collected packages: stylecloud, fire, tinycss\n",
            "  Building wheel for stylecloud (setup.py) ... \u001b[?25l\u001b[?25hdone\n",
            "  Created wheel for stylecloud: filename=stylecloud-0.5.2-py3-none-any.whl size=259508 sha256=4903318d97f73fac6596d1c02b44b01c640782e3dc223cba9e904db020d88325\n",
            "  Stored in directory: /root/.cache/pip/wheels/77/42/7a/f52b5f84c04196fd4c2a3dceeb1bbeaee1c93a4fe271b5eb41\n",
            "  Building wheel for fire (setup.py) ... \u001b[?25l\u001b[?25hdone\n",
            "  Created wheel for fire: filename=fire-0.4.0-py2.py3-none-any.whl size=115943 sha256=dba0351dc50b9b0568b9d9457ab0a6ca4fe0dce0df1a92205bb264128184d04e\n",
            "  Stored in directory: /root/.cache/pip/wheels/8a/67/fb/2e8a12fa16661b9d5af1f654bd199366799740a85c64981226\n",
            "  Building wheel for tinycss (setup.py) ... \u001b[?25l\u001b[?25hdone\n",
            "  Created wheel for tinycss: filename=tinycss-0.4-py3-none-any.whl size=43955 sha256=20a2564d1aeb0fee03f23958d82c318095fbccfc0ab0879938e7fb8e300118b2\n",
            "  Stored in directory: /root/.cache/pip/wheels/6c/66/e8/e53d7a476011891fa51a5ee83a2d1852b19b258f975055429b\n",
            "Successfully built stylecloud fire tinycss\n",
            "Installing collected packages: tinycss, icon-font-to-png, fire, stylecloud\n",
            "Successfully installed fire-0.4.0 icon-font-to-png-0.4.1 stylecloud-0.5.2 tinycss-0.4\n",
            "\u001b[33mWARNING: Running pip as the 'root' user can result in broken permissions and conflicting behaviour with the system package manager. It is recommended to use a virtual environment instead: https://pip.pypa.io/warnings/venv\u001b[0m\n"
          ]
        }
      ]
    },
    {
      "cell_type": "code",
      "metadata": {
        "colab": {
          "base_uri": "https://localhost:8080/"
        },
        "id": "-tlBDyE4qKpN",
        "outputId": "0a3fd21e-f110-4a0b-c4dd-a859e2c53620"
      },
      "source": [
        "import spacy.cli\n",
        "spacy.cli.download(\"pt_core_news_sm\")\n",
        "\n",
        "import spacy\n",
        "nlp = spacy.load(\"pt_core_news_sm\")"
      ],
      "execution_count": null,
      "outputs": [
        {
          "output_type": "stream",
          "name": "stdout",
          "text": [
            "\u001b[38;5;2m✔ Download and installation successful\u001b[0m\n",
            "You can now load the model via spacy.load('pt_core_news_sm')\n"
          ]
        }
      ]
    },
    {
      "cell_type": "code",
      "metadata": {
        "id": "2ZhA3KBDBBBN"
      },
      "source": [
        "import json\n",
        "\n",
        "file = open(\"/content/drive/MyDrive/curso_word2vec/contents_woman.json\", \"r\")\n",
        "trip_contents = json.load(file)\n",
        "file.close()"
      ],
      "execution_count": null,
      "outputs": []
    },
    {
      "cell_type": "code",
      "metadata": {
        "id": "_aK8XlbVHEUl"
      },
      "source": [
        "file = open(\"/content/drive/MyDrive/curso_word2vec/elpais_woman_contents.json\", \"r\")\n",
        "elpais_contents = json.load(file)\n",
        "file.close()"
      ],
      "execution_count": null,
      "outputs": []
    },
    {
      "cell_type": "code",
      "metadata": {
        "id": "-syFt4JQrbtP"
      },
      "source": [
        "acceptable_words = [\"ADJ\", \"PRON\", \"NOUN\", \"PROPN\", \"VERB\", \"DET\", \"X\"]"
      ],
      "execution_count": null,
      "outputs": []
    },
    {
      "cell_type": "code",
      "metadata": {
        "id": "g1oezqUavH53"
      },
      "source": [
        "trip_docs = list(map(lambda text : nlp(text), trip_contents)) \n",
        "elpais_docs = list(map(lambda text : nlp(text), elpais_contents)) "
      ],
      "execution_count": null,
      "outputs": []
    },
    {
      "cell_type": "code",
      "metadata": {
        "id": "I2sUi-kmvVUZ"
      },
      "source": [
        "trip_tokenized_names = []\n",
        "for doc in trip_docs:\n",
        "  trip_tokenized_names.append([token.orth_.lower() for token in doc if token.pos_ in acceptable_words])\n",
        "\n",
        "elpais_tokenized_names = []\n",
        "for doc in elpais_docs:\n",
        "  elpais_tokenized_names.append([token.orth_.lower() for token in doc if token.pos_ in acceptable_words])"
      ],
      "execution_count": null,
      "outputs": []
    },
    {
      "cell_type": "code",
      "metadata": {
        "id": "F-bNlplGB-m3"
      },
      "source": [
        "tokenized_names = trip_tokenized_names+elpais_tokenized_names"
      ],
      "execution_count": null,
      "outputs": []
    },
    {
      "cell_type": "code",
      "metadata": {
        "id": "sHBrpTb3BtpE"
      },
      "source": [
        "from gensim.models import Word2Vec\n",
        "\n",
        "modelo = Word2Vec(tokenized_names, size=300, min_count=1)"
      ],
      "execution_count": null,
      "outputs": []
    },
    {
      "cell_type": "code",
      "metadata": {
        "id": "lzOT_ef4gmuM",
        "colab": {
          "base_uri": "https://localhost:8080/"
        },
        "outputId": "96b233ca-1115-4e3a-9a6d-b3fcf698cb4d"
      },
      "source": [
        "print(modelo.wv.vocab)"
      ],
      "execution_count": null,
      "outputs": [
        {
          "output_type": "stream",
          "name": "stderr",
          "text": [
            "IOPub data rate exceeded.\n",
            "The notebook server will temporarily stop sending output\n",
            "to the client in order to avoid crashing it.\n",
            "To change this limit, set the config variable\n",
            "`--NotebookApp.iopub_data_rate_limit`.\n",
            "\n",
            "Current values:\n",
            "NotebookApp.iopub_data_rate_limit=1000000.0 (bytes/sec)\n",
            "NotebookApp.rate_limit_window=3.0 (secs)\n",
            "\n"
          ]
        }
      ]
    },
    {
      "cell_type": "code",
      "source": [
        "print(len(modelo.wv.vocab))"
      ],
      "metadata": {
        "colab": {
          "base_uri": "https://localhost:8080/"
        },
        "id": "fk2bL_Zav9AK",
        "outputId": "1c288ffd-bf91-408c-9abc-f9f795fa5885"
      },
      "execution_count": null,
      "outputs": [
        {
          "output_type": "stream",
          "name": "stdout",
          "text": [
            "158640\n"
          ]
        }
      ]
    },
    {
      "cell_type": "code",
      "metadata": {
        "id": "40Qxt7Dc-ODM"
      },
      "source": [
        "with open(\"/content/drive/MyDrive/curso_word2vec/vocabulary.json\", \"w\") as f:\n",
        "  f.write(json.dumps(words))"
      ],
      "execution_count": null,
      "outputs": []
    },
    {
      "cell_type": "code",
      "metadata": {
        "colab": {
          "base_uri": "https://localhost:8080/"
        },
        "id": "bS5gzsJrgPRV",
        "outputId": "7da13db9-10b3-4237-d8a9-d5a77d53cd4b"
      },
      "source": [
        "modelo.most_similar(\"mulher\")"
      ],
      "execution_count": null,
      "outputs": [
        {
          "output_type": "stream",
          "name": "stderr",
          "text": [
            "/usr/local/lib/python3.7/dist-packages/ipykernel_launcher.py:1: DeprecationWarning: Call to deprecated `most_similar` (Method will be removed in 4.0.0, use self.wv.most_similar() instead).\n",
            "  \"\"\"Entry point for launching an IPython kernel.\n"
          ]
        },
        {
          "output_type": "execute_result",
          "data": {
            "text/plain": [
              "[('homem', 0.6986367106437683),\n",
              " ('pessoa', 0.682819128036499),\n",
              " ('menina', 0.6633551120758057),\n",
              " ('vítima', 0.6448701620101929),\n",
              " ('garota', 0.6304962635040283),\n",
              " ('rea-lidade', 0.6074693202972412),\n",
              " ('figura', 0.6024558544158936),\n",
              " ('jovem', 0.5973970890045166),\n",
              " ('mulheres', 0.593261182308197),\n",
              " ('palavra', 0.5882571935653687)]"
            ]
          },
          "metadata": {},
          "execution_count": 12
        }
      ]
    },
    {
      "cell_type": "code",
      "metadata": {
        "colab": {
          "base_uri": "https://localhost:8080/"
        },
        "id": "QO1Bv7g9gSCX",
        "outputId": "0454094f-1892-4bf4-a901-2ee4f7e7549d"
      },
      "source": [
        "modelo.most_similar(\"homem\")"
      ],
      "execution_count": null,
      "outputs": [
        {
          "output_type": "stream",
          "name": "stderr",
          "text": [
            "/usr/local/lib/python3.7/dist-packages/ipykernel_launcher.py:1: DeprecationWarning: Call to deprecated `most_similar` (Method will be removed in 4.0.0, use self.wv.most_similar() instead).\n",
            "  \"\"\"Entry point for launching an IPython kernel.\n"
          ]
        },
        {
          "output_type": "execute_result",
          "data": {
            "text/plain": [
              "[('sujeito', 0.7590804100036621),\n",
              " ('estereótipo', 0.747560977935791),\n",
              " ('desqualificá-lo', 0.7412887215614319),\n",
              " ('menino', 0.7133222818374634),\n",
              " ('negro', 0.7085132598876953),\n",
              " ('mulher', 0.6986366510391235),\n",
              " ('gay', 0.6945589780807495),\n",
              " ('jovem', 0.6940738558769226),\n",
              " ('puta', 0.6888861656188965),\n",
              " ('macho', 0.6856129765510559)]"
            ]
          },
          "metadata": {},
          "execution_count": 13
        }
      ]
    },
    {
      "cell_type": "markdown",
      "metadata": {
        "id": "IQSWjXS77-8k"
      },
      "source": [
        "## Doesnt match"
      ]
    },
    {
      "cell_type": "code",
      "metadata": {
        "colab": {
          "base_uri": "https://localhost:8080/",
          "height": 130
        },
        "id": "kajI2K6qeyhL",
        "outputId": "0e9e2aaf-4f9a-4593-f4d3-9668878d85d8"
      },
      "source": [
        "modelo.doesnt_match(\"gato girafa macaco pessoa\".split())"
      ],
      "execution_count": null,
      "outputs": [
        {
          "output_type": "stream",
          "name": "stderr",
          "text": [
            "/usr/local/lib/python3.7/dist-packages/ipykernel_launcher.py:1: DeprecationWarning: Call to deprecated `doesnt_match` (Method will be removed in 4.0.0, use self.wv.doesnt_match() instead).\n",
            "  \"\"\"Entry point for launching an IPython kernel.\n",
            "/usr/local/lib/python3.7/dist-packages/gensim/models/keyedvectors.py:876: FutureWarning: arrays to stack must be passed as a \"sequence\" type such as list or tuple. Support for non-sequence iterables such as generators is deprecated as of NumPy 1.16 and will raise an error in the future.\n",
            "  vectors = vstack(self.word_vec(word, use_norm=True) for word in used_words).astype(REAL)\n"
          ]
        },
        {
          "output_type": "execute_result",
          "data": {
            "application/vnd.google.colaboratory.intrinsic+json": {
              "type": "string"
            },
            "text/plain": [
              "'pessoa'"
            ]
          },
          "metadata": {},
          "execution_count": 14
        }
      ]
    },
    {
      "cell_type": "code",
      "metadata": {
        "colab": {
          "base_uri": "https://localhost:8080/",
          "height": 130
        },
        "id": "EkSrBwo28aet",
        "outputId": "19883f7d-fa57-4233-d295-b347c9cbfe19"
      },
      "source": [
        "modelo.doesnt_match(\"caneta lápis borracha papel avião\".split())"
      ],
      "execution_count": null,
      "outputs": [
        {
          "output_type": "stream",
          "name": "stderr",
          "text": [
            "/usr/local/lib/python3.7/dist-packages/ipykernel_launcher.py:1: DeprecationWarning: Call to deprecated `doesnt_match` (Method will be removed in 4.0.0, use self.wv.doesnt_match() instead).\n",
            "  \"\"\"Entry point for launching an IPython kernel.\n",
            "/usr/local/lib/python3.7/dist-packages/gensim/models/keyedvectors.py:876: FutureWarning: arrays to stack must be passed as a \"sequence\" type such as list or tuple. Support for non-sequence iterables such as generators is deprecated as of NumPy 1.16 and will raise an error in the future.\n",
            "  vectors = vstack(self.word_vec(word, use_norm=True) for word in used_words).astype(REAL)\n"
          ]
        },
        {
          "output_type": "execute_result",
          "data": {
            "application/vnd.google.colaboratory.intrinsic+json": {
              "type": "string"
            },
            "text/plain": [
              "'avião'"
            ]
          },
          "metadata": {},
          "execution_count": 15
        }
      ]
    },
    {
      "cell_type": "code",
      "metadata": {
        "colab": {
          "base_uri": "https://localhost:8080/",
          "height": 130
        },
        "id": "xGIpim-We2HR",
        "outputId": "ab281b28-453a-44d0-8134-78a9d9c335f2"
      },
      "source": [
        "modelo.doesnt_match(\"enfermeira enfermeiro advogada advogado empregada empregado engenheiro engenheira\".split())"
      ],
      "execution_count": null,
      "outputs": [
        {
          "output_type": "stream",
          "name": "stderr",
          "text": [
            "/usr/local/lib/python3.7/dist-packages/ipykernel_launcher.py:1: DeprecationWarning: Call to deprecated `doesnt_match` (Method will be removed in 4.0.0, use self.wv.doesnt_match() instead).\n",
            "  \"\"\"Entry point for launching an IPython kernel.\n",
            "/usr/local/lib/python3.7/dist-packages/gensim/models/keyedvectors.py:876: FutureWarning: arrays to stack must be passed as a \"sequence\" type such as list or tuple. Support for non-sequence iterables such as generators is deprecated as of NumPy 1.16 and will raise an error in the future.\n",
            "  vectors = vstack(self.word_vec(word, use_norm=True) for word in used_words).astype(REAL)\n"
          ]
        },
        {
          "output_type": "execute_result",
          "data": {
            "application/vnd.google.colaboratory.intrinsic+json": {
              "type": "string"
            },
            "text/plain": [
              "'empregado'"
            ]
          },
          "metadata": {},
          "execution_count": 16
        }
      ]
    },
    {
      "cell_type": "code",
      "metadata": {
        "colab": {
          "base_uri": "https://localhost:8080/",
          "height": 130
        },
        "id": "OfJBltsue4v3",
        "outputId": "667de544-6d6f-47ee-b033-3afd5bec0fdf"
      },
      "source": [
        "modelo.doesnt_match(\"sucesso dinheiro chefe homem mulher\".split())"
      ],
      "execution_count": null,
      "outputs": [
        {
          "output_type": "stream",
          "name": "stderr",
          "text": [
            "/usr/local/lib/python3.7/dist-packages/ipykernel_launcher.py:1: DeprecationWarning: Call to deprecated `doesnt_match` (Method will be removed in 4.0.0, use self.wv.doesnt_match() instead).\n",
            "  \"\"\"Entry point for launching an IPython kernel.\n",
            "/usr/local/lib/python3.7/dist-packages/gensim/models/keyedvectors.py:876: FutureWarning: arrays to stack must be passed as a \"sequence\" type such as list or tuple. Support for non-sequence iterables such as generators is deprecated as of NumPy 1.16 and will raise an error in the future.\n",
            "  vectors = vstack(self.word_vec(word, use_norm=True) for word in used_words).astype(REAL)\n"
          ]
        },
        {
          "output_type": "execute_result",
          "data": {
            "application/vnd.google.colaboratory.intrinsic+json": {
              "type": "string"
            },
            "text/plain": [
              "'chefe'"
            ]
          },
          "metadata": {},
          "execution_count": 17
        }
      ]
    },
    {
      "cell_type": "markdown",
      "metadata": {
        "id": "6C82b5T78BsZ"
      },
      "source": [
        "## Most Similar"
      ]
    },
    {
      "cell_type": "code",
      "metadata": {
        "colab": {
          "base_uri": "https://localhost:8080/"
        },
        "id": "O7ppFzg1fGZk",
        "outputId": "27dc91f6-8e22-452d-92c7-6d0143c4b3e8"
      },
      "source": [
        "modelo.most_similar(positive=[\"professor\", \"mulher\"], negative=[\"homem\"])"
      ],
      "execution_count": null,
      "outputs": [
        {
          "output_type": "stream",
          "name": "stderr",
          "text": [
            "/usr/local/lib/python3.7/dist-packages/ipykernel_launcher.py:1: DeprecationWarning: Call to deprecated `most_similar` (Method will be removed in 4.0.0, use self.wv.most_similar() instead).\n",
            "  \"\"\"Entry point for launching an IPython kernel.\n"
          ]
        },
        {
          "output_type": "execute_result",
          "data": {
            "text/plain": [
              "[('usp', 0.7599380016326904),\n",
              " ('professora', 0.7497907876968384),\n",
              " ('psicologia', 0.7399095892906189),\n",
              " ('coordenadora', 0.7062993049621582),\n",
              " ('harvard', 0.7037403583526611),\n",
              " ('sociologia', 0.7036489248275757),\n",
              " ('pesquisadora', 0.7006822824478149),\n",
              " ('pós-graduação', 0.6902296543121338),\n",
              " ('unicamp', 0.6879696249961853),\n",
              " ('reboh', 0.6833409667015076)]"
            ]
          },
          "metadata": {},
          "execution_count": 18
        }
      ]
    },
    {
      "cell_type": "code",
      "metadata": {
        "colab": {
          "base_uri": "https://localhost:8080/"
        },
        "id": "Nq39Xmc1fIsi",
        "outputId": "21221557-76e1-4433-e6b6-371854b20647"
      },
      "source": [
        "modelo.most_similar(positive=[\"rei\", \"mulher\"], negative=[\"homem\"])"
      ],
      "execution_count": null,
      "outputs": [
        {
          "output_type": "stream",
          "name": "stderr",
          "text": [
            "/usr/local/lib/python3.7/dist-packages/ipykernel_launcher.py:1: DeprecationWarning: Call to deprecated `most_similar` (Method will be removed in 4.0.0, use self.wv.most_similar() instead).\n",
            "  \"\"\"Entry point for launching an IPython kernel.\n"
          ]
        },
        {
          "output_type": "execute_result",
          "data": {
            "text/plain": [
              "[('luedji', 0.7345995306968689),\n",
              " ('gilberto', 0.7208956480026245),\n",
              " ('cirque', 0.7208788394927979),\n",
              " ('bodanzky', 0.7195290327072144),\n",
              " ('nora', 0.7190608978271484),\n",
              " ('goifman', 0.7177214622497559),\n",
              " ('muylaert', 0.713951051235199),\n",
              " ('gaby', 0.7138070464134216),\n",
              " ('moreno', 0.7128840684890747),\n",
              " ('marta', 0.7113717198371887)]"
            ]
          },
          "metadata": {},
          "execution_count": 19
        }
      ]
    },
    {
      "cell_type": "code",
      "metadata": {
        "colab": {
          "base_uri": "https://localhost:8080/"
        },
        "id": "Jbn45RX4fK-g",
        "outputId": "ac260c3e-7eee-4cd1-c7ac-b5fa423194e1"
      },
      "source": [
        "modelo.most_similar(positive=[\"médico\", \"mulher\"], negative=[\"homem\"])"
      ],
      "execution_count": null,
      "outputs": [
        {
          "output_type": "stream",
          "name": "stderr",
          "text": [
            "/usr/local/lib/python3.7/dist-packages/ipykernel_launcher.py:1: DeprecationWarning: Call to deprecated `most_similar` (Method will be removed in 4.0.0, use self.wv.most_similar() instead).\n",
            "  \"\"\"Entry point for launching an IPython kernel.\n"
          ]
        },
        {
          "output_type": "execute_result",
          "data": {
            "text/plain": [
              "[('médica', 0.6875506043434143),\n",
              " ('clínica', 0.6198185682296753),\n",
              " ('saúde', 0.5942820310592651),\n",
              " ('consentir', 0.575529158115387),\n",
              " ('licença', 0.5537155866622925),\n",
              " ('vítima', 0.5491777658462524),\n",
              " ('ocorrência', 0.5440057516098022),\n",
              " ('gravidez', 0.5420808792114258),\n",
              " ('internação', 0.5395140051841736),\n",
              " ('doméstica', 0.5368821620941162)]"
            ]
          },
          "metadata": {},
          "execution_count": 20
        }
      ]
    },
    {
      "cell_type": "code",
      "metadata": {
        "colab": {
          "base_uri": "https://localhost:8080/"
        },
        "id": "qXDtvGpUfNn0",
        "outputId": "f2931700-a8c4-48d9-a348-e19f81ee2a46"
      },
      "source": [
        "modelo.most_similar(positive=[\"chefe\", \"mulher\"], negative=[\"homem\"])"
      ],
      "execution_count": null,
      "outputs": [
        {
          "output_type": "stream",
          "name": "stderr",
          "text": [
            "/usr/local/lib/python3.7/dist-packages/ipykernel_launcher.py:1: DeprecationWarning: Call to deprecated `most_similar` (Method will be removed in 4.0.0, use self.wv.most_similar() instead).\n",
            "  \"\"\"Entry point for launching an IPython kernel.\n"
          ]
        },
        {
          "output_type": "execute_result",
          "data": {
            "text/plain": [
              "[('ministra', 0.6932086944580078),\n",
              " ('clécio', 0.6702167391777039),\n",
              " ('secretária', 0.661176860332489),\n",
              " ('artemis', 0.6375414133071899),\n",
              " ('assessora', 0.6347614526748657),\n",
              " ('nauert', 0.6335107088088989),\n",
              " ('secretaria', 0.6309632062911987),\n",
              " ('assumiu', 0.6306694746017456),\n",
              " ('secretário', 0.6249232292175293),\n",
              " ('titular', 0.622279703617096)]"
            ]
          },
          "metadata": {},
          "execution_count": 21
        }
      ]
    },
    {
      "cell_type": "code",
      "metadata": {
        "colab": {
          "base_uri": "https://localhost:8080/"
        },
        "id": "PRBxfER2fPjN",
        "outputId": "e985f1ec-01c7-433e-eebc-159801ac05e7"
      },
      "source": [
        "modelo.most_similar(positive=[\"patrão\", \"mulher\"], negative=[\"homem\"])"
      ],
      "execution_count": null,
      "outputs": [
        {
          "output_type": "stream",
          "name": "stderr",
          "text": [
            "/usr/local/lib/python3.7/dist-packages/ipykernel_launcher.py:1: DeprecationWarning: Call to deprecated `most_similar` (Method will be removed in 4.0.0, use self.wv.most_similar() instead).\n",
            "  \"\"\"Entry point for launching an IPython kernel.\n"
          ]
        },
        {
          "output_type": "execute_result",
          "data": {
            "text/plain": [
              "[('furinhos</b', 0.7371601462364197),\n",
              " ('noivinha', 0.7226482629776001),\n",
              " ('guerreira', 0.7190499305725098),\n",
              " ('mina', 0.714838981628418),\n",
              " ('certidão', 0.7133393287658691),\n",
              " ('tomasse', 0.7128562927246094),\n",
              " ('seal', 0.7106159925460815),\n",
              " ('belíssima', 0.7099682092666626),\n",
              " ('mahazsandália', 0.7098920345306396),\n",
              " ('par\\xadticular', 0.7078778743743896)]"
            ]
          },
          "metadata": {},
          "execution_count": 22
        }
      ]
    },
    {
      "cell_type": "code",
      "metadata": {
        "colab": {
          "base_uri": "https://localhost:8080/"
        },
        "id": "ByJUlshRfRRt",
        "outputId": "002c3ead-1156-437d-fce0-4206b105684f"
      },
      "source": [
        "modelo.most_similar(positive=[\"futebol\", \"mulher\"], negative=[\"homem\"])"
      ],
      "execution_count": null,
      "outputs": [
        {
          "output_type": "stream",
          "name": "stderr",
          "text": [
            "/usr/local/lib/python3.7/dist-packages/ipykernel_launcher.py:1: DeprecationWarning: Call to deprecated `most_similar` (Method will be removed in 4.0.0, use self.wv.most_similar() instead).\n",
            "  \"\"\"Entry point for launching an IPython kernel.\n"
          ]
        },
        {
          "output_type": "execute_result",
          "data": {
            "text/plain": [
              "[('surf', 0.559564471244812),\n",
              " ('sonoamerica', 0.5443731546401978),\n",
              " ('barra-ondina', 0.5425496101379395),\n",
              " ('cena', 0.5281643271446228),\n",
              " ('viajávamos', 0.5224781036376953),\n",
              " ('vigem', 0.5115749835968018),\n",
              " ('estoquegaleria', 0.5108984708786011),\n",
              " ('dança', 0.5092301964759827),\n",
              " ('afastada?a', 0.5062760710716248),\n",
              " ('pisado', 0.5007256269454956)]"
            ]
          },
          "metadata": {},
          "execution_count": 23
        }
      ]
    },
    {
      "cell_type": "code",
      "metadata": {
        "colab": {
          "base_uri": "https://localhost:8080/"
        },
        "id": "7b8kiAX9fTZo",
        "outputId": "d025e395-bc3f-49bf-e445-ed92cd9b7a00"
      },
      "source": [
        "modelo.most_similar(positive=[\"inteligente\", \"mulher\"], negative=[\"homem\"])"
      ],
      "execution_count": null,
      "outputs": [
        {
          "output_type": "stream",
          "name": "stderr",
          "text": [
            "/usr/local/lib/python3.7/dist-packages/ipykernel_launcher.py:1: DeprecationWarning: Call to deprecated `most_similar` (Method will be removed in 4.0.0, use self.wv.most_similar() instead).\n",
            "  \"\"\"Entry point for launching an IPython kernel.\n"
          ]
        },
        {
          "output_type": "execute_result",
          "data": {
            "text/plain": [
              "[('mais?eu', 0.7387758493423462),\n",
              " ('magra', 0.7297752499580383),\n",
              " ('rihana', 0.7193174362182617),\n",
              " ('antenada', 0.7083109617233276),\n",
              " ('gostosa', 0.7066162824630737),\n",
              " ('caricatura', 0.7056030035018921),\n",
              " ('gorda', 0.7055440545082092),\n",
              " ('sub\\xadpessoa', 0.6991771459579468),\n",
              " ('bem-feita', 0.6945693492889404),\n",
              " ('fantasia', 0.694338321685791)]"
            ]
          },
          "metadata": {},
          "execution_count": 24
        }
      ]
    },
    {
      "cell_type": "code",
      "metadata": {
        "colab": {
          "base_uri": "https://localhost:8080/"
        },
        "id": "cu1BTt8qfVJ1",
        "outputId": "43fd3ba1-ec7f-449a-f1f2-cb5f0159f2b6"
      },
      "source": [
        "modelo.most_similar(positive=[\"inteligente\", \"homem\"], negative=[\"mulher\"])"
      ],
      "execution_count": null,
      "outputs": [
        {
          "output_type": "stream",
          "name": "stderr",
          "text": [
            "/usr/local/lib/python3.7/dist-packages/ipykernel_launcher.py:1: DeprecationWarning: Call to deprecated `most_similar` (Method will be removed in 4.0.0, use self.wv.most_similar() instead).\n",
            "  \"\"\"Entry point for launching an IPython kernel.\n"
          ]
        },
        {
          "output_type": "execute_result",
          "data": {
            "text/plain": [
              "[('pau', 0.7748095989227295),\n",
              " ('sujeito', 0.7737823724746704),\n",
              " ('clichê', 0.770494818687439),\n",
              " ('corajoso', 0.7471023201942444),\n",
              " ('macho', 0.7369439601898193),\n",
              " ('estereótipo', 0.7301512360572815),\n",
              " ('racista', 0.7281456589698792),\n",
              " ('idiota', 0.7275968790054321),\n",
              " ('enjoou', 0.7271324992179871),\n",
              " ('bandido', 0.7237290143966675)]"
            ]
          },
          "metadata": {},
          "execution_count": 25
        }
      ]
    },
    {
      "cell_type": "markdown",
      "metadata": {
        "id": "BeMQ7Fg38E53"
      },
      "source": [
        "## Gender Direction"
      ]
    },
    {
      "cell_type": "code",
      "metadata": {
        "id": "5qsyfnxzhGpO"
      },
      "source": [
        "from responsibly.we import BiasWordEmbedding\n",
        "from numpy.linalg import norm\n",
        "\n",
        "we_genero = BiasWordEmbedding(modelo.wv, only_lower=True)"
      ],
      "execution_count": null,
      "outputs": []
    },
    {
      "cell_type": "code",
      "metadata": {
        "id": "KjGV_9i8hITj"
      },
      "source": [
        "fem = ['mulher', 'menina', 'esposa', 'senhora', 'irmã', 'mãe', 'avó','feminino', 'garota', 'senhora', 'prima']\n",
        "masc = ['homem', 'menino', 'marido', 'senhor', 'irmão', 'pai', 'avô', 'masculino', 'garoto', 'senhor', 'primo']\n",
        "\n",
        "we_genero._identify_direction('Femenino', 'Masculino',\n",
        "                                          definitional=(fem, masc),\n",
        "                                          method='sum')"
      ],
      "execution_count": null,
      "outputs": []
    },
    {
      "cell_type": "code",
      "metadata": {
        "id": "24xNas_ehJ7U"
      },
      "source": [
        "gender_direction = we_genero.direction\n",
        "\n",
        "gender_direction /= norm(gender_direction)"
      ],
      "execution_count": null,
      "outputs": []
    },
    {
      "cell_type": "code",
      "metadata": {
        "id": "PqTEi5kxiAHd"
      },
      "source": [
        "modelo = modelo.wv"
      ],
      "execution_count": null,
      "outputs": []
    },
    {
      "cell_type": "code",
      "metadata": {
        "colab": {
          "base_uri": "https://localhost:8080/"
        },
        "id": "Axa9UwPKhMEr",
        "outputId": "4848a7bf-0933-41e6-bf57-1f2a07685e66"
      },
      "source": [
        "gender_direction @ modelo.word_vec('arquiteta')"
      ],
      "execution_count": null,
      "outputs": [
        {
          "output_type": "execute_result",
          "data": {
            "text/plain": [
              "0.297043"
            ]
          },
          "metadata": {},
          "execution_count": 30
        }
      ]
    },
    {
      "cell_type": "code",
      "metadata": {
        "colab": {
          "base_uri": "https://localhost:8080/"
        },
        "id": "iLn0awJkh-Bb",
        "outputId": "19e0898b-7980-4d97-f65c-04ac089e0f46"
      },
      "source": [
        "gender_direction @ modelo.word_vec('arquiteto')"
      ],
      "execution_count": null,
      "outputs": [
        {
          "output_type": "execute_result",
          "data": {
            "text/plain": [
              "-0.18939553"
            ]
          },
          "metadata": {},
          "execution_count": 31
        }
      ]
    },
    {
      "cell_type": "code",
      "metadata": {
        "colab": {
          "base_uri": "https://localhost:8080/"
        },
        "id": "NnRXWxHfiF0G",
        "outputId": "45cf2fc1-fc6a-42c9-ab59-c4c0f2489884"
      },
      "source": [
        "gender_direction @ modelo.word_vec('médica')"
      ],
      "execution_count": null,
      "outputs": [
        {
          "output_type": "execute_result",
          "data": {
            "text/plain": [
              "0.27367505"
            ]
          },
          "metadata": {},
          "execution_count": 32
        }
      ]
    },
    {
      "cell_type": "code",
      "metadata": {
        "colab": {
          "base_uri": "https://localhost:8080/"
        },
        "id": "ZLKGDt-ViHfm",
        "outputId": "670053b1-456f-4115-c4c3-4b6bea4adee4"
      },
      "source": [
        "gender_direction @ modelo.word_vec('médico')"
      ],
      "execution_count": null,
      "outputs": [
        {
          "output_type": "execute_result",
          "data": {
            "text/plain": [
              "-0.26876405"
            ]
          },
          "metadata": {},
          "execution_count": 33
        }
      ]
    },
    {
      "cell_type": "code",
      "metadata": {
        "colab": {
          "base_uri": "https://localhost:8080/"
        },
        "id": "0NLwsVcgamD1",
        "outputId": "5d777380-e2ac-449f-cbd2-d956e7521674"
      },
      "source": [
        "gender_direction @ modelo.word_vec('pediatra')"
      ],
      "execution_count": null,
      "outputs": [
        {
          "output_type": "execute_result",
          "data": {
            "text/plain": [
              "-0.23743224"
            ]
          },
          "metadata": {},
          "execution_count": 34
        }
      ]
    },
    {
      "cell_type": "code",
      "metadata": {
        "colab": {
          "base_uri": "https://localhost:8080/"
        },
        "id": "ji1fk8CjauiS",
        "outputId": "7c2e3663-5dce-4bef-f223-80ab7de1d27a"
      },
      "source": [
        "gender_direction @ modelo.word_vec('dermatologista')"
      ],
      "execution_count": null,
      "outputs": [
        {
          "output_type": "execute_result",
          "data": {
            "text/plain": [
              "0.31582555"
            ]
          },
          "metadata": {},
          "execution_count": 35
        }
      ]
    },
    {
      "cell_type": "code",
      "metadata": {
        "colab": {
          "base_uri": "https://localhost:8080/"
        },
        "id": "IYJheP2-awAD",
        "outputId": "c6b5e817-30cf-4eeb-86ed-5e3550165272"
      },
      "source": [
        "gender_direction @ modelo.word_vec('psiquiatra')"
      ],
      "execution_count": null,
      "outputs": [
        {
          "output_type": "execute_result",
          "data": {
            "text/plain": [
              "-0.1318226"
            ]
          },
          "metadata": {},
          "execution_count": 36
        }
      ]
    },
    {
      "cell_type": "code",
      "metadata": {
        "colab": {
          "base_uri": "https://localhost:8080/"
        },
        "id": "i88RjM2BcsZo",
        "outputId": "ec00421d-7473-4789-f84b-31733975462b"
      },
      "source": [
        "gender_direction @ modelo.word_vec('ginecologista')"
      ],
      "execution_count": null,
      "outputs": [
        {
          "output_type": "execute_result",
          "data": {
            "text/plain": [
              "0.12754609"
            ]
          },
          "metadata": {},
          "execution_count": 37
        }
      ]
    },
    {
      "cell_type": "code",
      "metadata": {
        "colab": {
          "base_uri": "https://localhost:8080/"
        },
        "id": "sK8fuE8DiJEb",
        "outputId": "df6c2a5c-e21a-4046-9834-1d0b7660649f"
      },
      "source": [
        "gender_direction @ modelo.word_vec('jogadora')"
      ],
      "execution_count": null,
      "outputs": [
        {
          "output_type": "execute_result",
          "data": {
            "text/plain": [
              "0.067330584"
            ]
          },
          "metadata": {},
          "execution_count": 38
        }
      ]
    },
    {
      "cell_type": "code",
      "metadata": {
        "colab": {
          "base_uri": "https://localhost:8080/"
        },
        "id": "uz5GEmm7iKYU",
        "outputId": "9715d5de-360c-4e6a-aedd-5ed6d83df0dd"
      },
      "source": [
        "gender_direction @ modelo.word_vec('jogador')"
      ],
      "execution_count": null,
      "outputs": [
        {
          "output_type": "execute_result",
          "data": {
            "text/plain": [
              "-0.42299122"
            ]
          },
          "metadata": {},
          "execution_count": 39
        }
      ]
    },
    {
      "cell_type": "code",
      "metadata": {
        "colab": {
          "base_uri": "https://localhost:8080/"
        },
        "id": "HXpzzh4biLoi",
        "outputId": "085ad7aa-c0df-48e2-fa31-795b40363657"
      },
      "source": [
        "gender_direction @ modelo.word_vec('professora')"
      ],
      "execution_count": null,
      "outputs": [
        {
          "output_type": "execute_result",
          "data": {
            "text/plain": [
              "0.30246302"
            ]
          },
          "metadata": {},
          "execution_count": 40
        }
      ]
    },
    {
      "cell_type": "code",
      "metadata": {
        "colab": {
          "base_uri": "https://localhost:8080/"
        },
        "id": "X3LEnYVYiNHw",
        "outputId": "17416b51-d25c-4914-f375-7365c136c6c0"
      },
      "source": [
        "gender_direction @ modelo.word_vec('professor')"
      ],
      "execution_count": null,
      "outputs": [
        {
          "output_type": "execute_result",
          "data": {
            "text/plain": [
              "-0.29334033"
            ]
          },
          "metadata": {},
          "execution_count": 41
        }
      ]
    },
    {
      "cell_type": "code",
      "metadata": {
        "colab": {
          "base_uri": "https://localhost:8080/"
        },
        "id": "OEpe6vzriOro",
        "outputId": "a905d315-cf75-48f2-ec65-f8dc180e69d7"
      },
      "source": [
        "gender_direction @ modelo.word_vec('arquiteto')"
      ],
      "execution_count": null,
      "outputs": [
        {
          "output_type": "execute_result",
          "data": {
            "text/plain": [
              "-0.18939553"
            ]
          },
          "metadata": {},
          "execution_count": 42
        }
      ]
    },
    {
      "cell_type": "code",
      "metadata": {
        "colab": {
          "base_uri": "https://localhost:8080/"
        },
        "id": "sXVkDwIuiQl4",
        "outputId": "aff29542-960c-456c-b0a0-ab90bc36eb45"
      },
      "source": [
        "gender_direction @ modelo.word_vec('engenharia')"
      ],
      "execution_count": null,
      "outputs": [
        {
          "output_type": "execute_result",
          "data": {
            "text/plain": [
              "0.032418158"
            ]
          },
          "metadata": {},
          "execution_count": 43
        }
      ]
    },
    {
      "cell_type": "code",
      "metadata": {
        "colab": {
          "base_uri": "https://localhost:8080/"
        },
        "id": "TtQceXzniR-b",
        "outputId": "f20ecf20-abce-4d6a-fa09-e52682b6ecb7"
      },
      "source": [
        "gender_direction @ modelo.word_vec('medicina')"
      ],
      "execution_count": null,
      "outputs": [
        {
          "output_type": "execute_result",
          "data": {
            "text/plain": [
              "0.03905979"
            ]
          },
          "metadata": {},
          "execution_count": 44
        }
      ]
    },
    {
      "cell_type": "code",
      "metadata": {
        "colab": {
          "base_uri": "https://localhost:8080/"
        },
        "id": "1WCO4IVjiTOu",
        "outputId": "6c74d214-993e-4dc7-e4dc-93299f226146"
      },
      "source": [
        "gender_direction @ modelo.word_vec('física')"
      ],
      "execution_count": null,
      "outputs": [
        {
          "output_type": "execute_result",
          "data": {
            "text/plain": [
              "0.036295075"
            ]
          },
          "metadata": {},
          "execution_count": 45
        }
      ]
    },
    {
      "cell_type": "code",
      "metadata": {
        "colab": {
          "base_uri": "https://localhost:8080/"
        },
        "id": "sMcRsA_AiUlU",
        "outputId": "b371b089-501e-47dd-d455-d28c74ef470b"
      },
      "source": [
        "gender_direction @ modelo.word_vec('enfermagem')"
      ],
      "execution_count": null,
      "outputs": [
        {
          "output_type": "execute_result",
          "data": {
            "text/plain": [
              "0.10657154"
            ]
          },
          "metadata": {},
          "execution_count": 46
        }
      ]
    },
    {
      "cell_type": "code",
      "metadata": {
        "colab": {
          "base_uri": "https://localhost:8080/"
        },
        "id": "g6p9jb9iiarf",
        "outputId": "a867f93b-e49b-4562-9a84-afcdf1de098f"
      },
      "source": [
        "gender_direction @ modelo.word_vec('futebol')"
      ],
      "execution_count": null,
      "outputs": [
        {
          "output_type": "execute_result",
          "data": {
            "text/plain": [
              "-0.30892152"
            ]
          },
          "metadata": {},
          "execution_count": 47
        }
      ]
    },
    {
      "cell_type": "code",
      "metadata": {
        "colab": {
          "base_uri": "https://localhost:8080/"
        },
        "id": "wu1VgjfUicAM",
        "outputId": "7f9a5447-0966-4dae-b1f8-5b484681dc00"
      },
      "source": [
        "gender_direction @ modelo.word_vec('vôlei')"
      ],
      "execution_count": null,
      "outputs": [
        {
          "output_type": "execute_result",
          "data": {
            "text/plain": [
              "-0.023668028"
            ]
          },
          "metadata": {},
          "execution_count": 48
        }
      ]
    },
    {
      "cell_type": "code",
      "metadata": {
        "colab": {
          "base_uri": "https://localhost:8080/"
        },
        "id": "96xoyU8sidWt",
        "outputId": "05133f9a-e581-41d9-d92a-b30ac2f5cb5c"
      },
      "source": [
        "gender_direction @ modelo.word_vec('natação')"
      ],
      "execution_count": null,
      "outputs": [
        {
          "output_type": "execute_result",
          "data": {
            "text/plain": [
              "-0.03264129"
            ]
          },
          "metadata": {},
          "execution_count": 49
        }
      ]
    },
    {
      "cell_type": "code",
      "metadata": {
        "colab": {
          "base_uri": "https://localhost:8080/"
        },
        "id": "z98UcyfdiemX",
        "outputId": "b9e0a702-5f2d-4f95-c35c-a833c1cc42e5"
      },
      "source": [
        "gender_direction @ modelo.word_vec('ginástica')"
      ],
      "execution_count": null,
      "outputs": [
        {
          "output_type": "execute_result",
          "data": {
            "text/plain": [
              "0.23496124"
            ]
          },
          "metadata": {},
          "execution_count": 50
        }
      ]
    },
    {
      "cell_type": "code",
      "metadata": {
        "colab": {
          "base_uri": "https://localhost:8080/",
          "height": 621
        },
        "id": "0UNfNK3GigL8",
        "outputId": "3952a7a7-179f-40c6-e957-082ab37a4305"
      },
      "source": [
        "profissoes_neutras = [\n",
        "    'chefe',\n",
        "    'colunista',\n",
        "    'assistente',\n",
        "    'taxista',\n",
        "    'psiquiatra',\n",
        "    'policial',\n",
        "    'dentista',\n",
        "    'eletricista',\n",
        "    'economista',\n",
        "    'atleta',\n",
        "    'terapeuta',\n",
        "    'piloto',\n",
        "    'modelo',\n",
        "    'estudante',\n",
        "    'comerciante',\n",
        "    'militar',\n",
        "    'cientista',\n",
        "    'designer',\n",
        "    'gerente',\n",
        "    'artista',\n",
        "    'analista',\n",
        "    'jornalista',\n",
        "    'diarista',\n",
        "    \"pediatra\",\n",
        "    'psiquiatra',\n",
        "    'dermatologista',\n",
        "    'ginecologista'\n",
        "]\n",
        "\n",
        "import matplotlib.pylab as plt\n",
        "\n",
        "f, ax = plt.subplots(1, figsize=(10, 10))\n",
        "\n",
        "we_genero.plot_projection_scores(\n",
        "    profissoes_neutras + fem[:1] + masc[:1],\n",
        "    n_extreme=20,\n",
        "    ax=ax);"
      ],
      "execution_count": null,
      "outputs": [
        {
          "output_type": "display_data",
          "data": {
            "image/png": "[encoded data removed]",
            "text/plain": [
              "<Figure size 720x720 with 1 Axes>"
            ]
          },
          "metadata": {
            "needs_background": "light"
          }
        }
      ]
    },
    {
      "cell_type": "code",
      "metadata": {
        "colab": {
          "base_uri": "https://localhost:8080/",
          "height": 621
        },
        "id": "2q_OqPxji235",
        "outputId": "4b9be7e6-9da8-4326-96d5-be5b1c639738"
      },
      "source": [
        "profissoes_nao_neutras = [\n",
        "    'médico',\n",
        "    'médica',\n",
        "    'professor',\n",
        "    'professora',\n",
        "    'engenheiro',\n",
        "    'engenheira',\n",
        "    'patrão',\n",
        "    'patroa',\n",
        "    'secretário',\n",
        "    'secretária',\n",
        "    'advogado',\n",
        "    'advogada',\n",
        "    'enfermeira',\n",
        "    'enfermeiro',\n",
        "    'maquiador',\n",
        "    'maquiadora',\n",
        "    'jogador',\n",
        "    'jogadora',\n",
        "    'vendedor',\n",
        "    'vendedora',\n",
        "    'veterinária',\n",
        "    'veterinário'\n",
        "]\n",
        "\n",
        "import matplotlib.pylab as plt\n",
        "\n",
        "f, ax = plt.subplots(1, figsize=(10, 10))\n",
        "\n",
        "we_genero.plot_projection_scores(\n",
        "    profissoes_nao_neutras + fem[:1] + masc[:1],\n",
        "    n_extreme=20,\n",
        "    ax=ax);"
      ],
      "execution_count": null,
      "outputs": [
        {
          "output_type": "display_data",
          "data": {
            "image/png": "[encoded data removed]",
            "text/plain": [
              "<Figure size 720x720 with 1 Axes>"
            ]
          },
          "metadata": {
            "needs_background": "light"
          }
        }
      ]
    },
    {
      "cell_type": "code",
      "metadata": {
        "colab": {
          "base_uri": "https://localhost:8080/",
          "height": 621
        },
        "id": "koH94gf8jBKL",
        "outputId": "988e2fac-07d3-4054-9ef2-91f1232a2e99"
      },
      "source": [
        "profissoes = [\n",
        "    'médico',\n",
        "    'médica',\n",
        "    'professor',\n",
        "    'professora',\n",
        "    'engenheiro',\n",
        "    'engenheira',\n",
        "    'patrão',\n",
        "    'patroa',\n",
        "    'secretário',\n",
        "    'secretária',\n",
        "    'advogado',\n",
        "    'advogada',\n",
        "    'enfermeira',\n",
        "    'enfermeiro',\n",
        "    'maquiador',\n",
        "    'maquiadora',\n",
        "    'jogador',\n",
        "    'jogadora',\n",
        "    'vendedor',\n",
        "    'vendedora',\n",
        "    'chefe',\n",
        "    'colunista',\n",
        "    'assistente',\n",
        "    'taxista',\n",
        "    'psiquiatra',\n",
        "    'policial',\n",
        "    'dentista',\n",
        "    'eletricista',\n",
        "    'economista',\n",
        "    'atleta',\n",
        "    'terapeuta',\n",
        "    'piloto',\n",
        "    'modelo',\n",
        "    'estudante',\n",
        "    'comerciante',\n",
        "    'militar',\n",
        "    'cientista',\n",
        "    'designer',\n",
        "    'gerente',\n",
        "    'artista',\n",
        "    'analista',\n",
        "    'jornalista',\n",
        "    'diarista'\n",
        "]\n",
        "\n",
        "import matplotlib.pylab as plt\n",
        "\n",
        "f, ax = plt.subplots(1, figsize=(10, 10))\n",
        "\n",
        "we_genero.plot_projection_scores(\n",
        "    profissoes + fem[:1] + masc[:1],\n",
        "    n_extreme=20,\n",
        "    ax=ax);"
      ],
      "execution_count": null,
      "outputs": [
        {
          "output_type": "display_data",
          "data": {
            "image/png": "[encoded data removed]",
            "text/plain": [
              "<Figure size 720x720 with 1 Axes>"
            ]
          },
          "metadata": {
            "needs_background": "light"
          }
        }
      ]
    },
    {
      "cell_type": "code",
      "metadata": {
        "colab": {
          "base_uri": "https://localhost:8080/",
          "height": 621
        },
        "id": "RoVrS2jSjHuv",
        "outputId": "34ddca91-1d57-4be9-aa75-09700fdd48d3"
      },
      "source": [
        "adjetivos = [\n",
        "    'inteligente',\n",
        "    'humilde',\n",
        "    'amável',\n",
        "    'doce',\n",
        "    'paciente',\n",
        "    'popular',\n",
        "    'flexível',\n",
        "    'grande',\n",
        "    'brilhante',\n",
        "    'inocente',\n",
        "    'fácil',\n",
        "    'agradável',\n",
        "    'infeliz',\n",
        "    'capaz',\n",
        "    'difícil'\n",
        "]\n",
        "\n",
        "import matplotlib.pylab as plt\n",
        "\n",
        "f, ax = plt.subplots(1, figsize=(10, 10))\n",
        "\n",
        "we_genero.plot_projection_scores(\n",
        "    adjetivos + fem[:1] + masc[:1],\n",
        "    n_extreme=20,\n",
        "    ax=ax);"
      ],
      "execution_count": null,
      "outputs": [
        {
          "output_type": "display_data",
          "data": {
            "image/png": "[encoded data removed]",
            "text/plain": [
              "<Figure size 720x720 with 1 Axes>"
            ]
          },
          "metadata": {
            "needs_background": "light"
          }
        }
      ]
    },
    {
      "cell_type": "markdown",
      "metadata": {
        "id": "wRvNFip6gItX"
      },
      "source": [
        "## Trabalhando com frases"
      ]
    },
    {
      "cell_type": "code",
      "metadata": {
        "colab": {
          "base_uri": "https://localhost:8080/"
        },
        "id": "dIzVFA2UgKrr",
        "outputId": "f9be1337-499c-45e4-ed33-7c6f863fe563"
      },
      "source": [
        "import nltk\n",
        "import string\n",
        "nltk.download('punkt')\n",
        "\n",
        "def tokenizer(text):\n",
        "  text = text.lower()\n",
        "  alphanumeric_list = []\n",
        "\n",
        "  for valid_token in nltk.word_tokenize(text):\n",
        "    if valid_token in string.punctuation: continue\n",
        "    alphanumeric_list.append(valid_token)\n",
        "\n",
        "  return alphanumeric_list"
      ],
      "execution_count": null,
      "outputs": [
        {
          "output_type": "stream",
          "name": "stdout",
          "text": [
            "[nltk_data] Downloading package punkt to /root/nltk_data...\n",
            "[nltk_data]   Unzipping tokenizers/punkt.zip.\n"
          ]
        }
      ]
    },
    {
      "cell_type": "code",
      "metadata": {
        "id": "7li3P0xthKgf"
      },
      "source": [
        "import numpy as np\n",
        "def vectors_combination_by_sum(words_numbers): \n",
        "  result = np.zeros(300)\n",
        "\n",
        "  for wn in words_numbers:\n",
        "    result += modelo.get_vector(wn)\n",
        "\n",
        "  return result"
      ],
      "execution_count": null,
      "outputs": []
    },
    {
      "cell_type": "code",
      "metadata": {
        "colab": {
          "base_uri": "https://localhost:8080/"
        },
        "id": "8aa9JDx_iN7J",
        "outputId": "3f942220-049e-4cc2-a921-d79f5210205f"
      },
      "source": [
        "phrase_vector = vectors_combination_by_sum(tokenizer(\"ela uma médica\"))\n",
        "gender_direction @ phrase_vector"
      ],
      "execution_count": null,
      "outputs": [
        {
          "output_type": "execute_result",
          "data": {
            "text/plain": [
              "0.4225195153854301"
            ]
          },
          "metadata": {},
          "execution_count": 57
        }
      ]
    },
    {
      "cell_type": "code",
      "metadata": {
        "colab": {
          "base_uri": "https://localhost:8080/"
        },
        "id": "ZeB7sSbpi2Jn",
        "outputId": "6e012b40-b4e6-45dc-a3ca-e97153140ddf"
      },
      "source": [
        "phrase_vector = vectors_combination_by_sum(tokenizer(\"ele médico\"))\n",
        "gender_direction @ phrase_vector"
      ],
      "execution_count": null,
      "outputs": [
        {
          "output_type": "execute_result",
          "data": {
            "text/plain": [
              "-0.4747751644129483"
            ]
          },
          "metadata": {},
          "execution_count": 58
        }
      ]
    },
    {
      "cell_type": "code",
      "metadata": {
        "colab": {
          "base_uri": "https://localhost:8080/"
        },
        "id": "n5ByLCH6qv4w",
        "outputId": "142a60bb-3783-466f-c246-a5068d751dba"
      },
      "source": [
        "phrase_vector = vectors_combination_by_sum(tokenizer(\"brinca boneca\"))\n",
        "gender_direction @ phrase_vector"
      ],
      "execution_count": null,
      "outputs": [
        {
          "output_type": "execute_result",
          "data": {
            "text/plain": [
              "0.4322412502899068"
            ]
          },
          "metadata": {},
          "execution_count": 59
        }
      ]
    },
    {
      "cell_type": "code",
      "metadata": {
        "colab": {
          "base_uri": "https://localhost:8080/"
        },
        "id": "YytrBN4lqyDh",
        "outputId": "a4a38532-64eb-4fc8-e41f-7b77f141c571"
      },
      "source": [
        "phrase_vector = vectors_combination_by_sum(tokenizer(\"brinca boneco\"))\n",
        "gender_direction @ phrase_vector"
      ],
      "execution_count": null,
      "outputs": [
        {
          "output_type": "execute_result",
          "data": {
            "text/plain": [
              "-0.19238906517315343"
            ]
          },
          "metadata": {},
          "execution_count": 60
        }
      ]
    },
    {
      "cell_type": "code",
      "metadata": {
        "colab": {
          "base_uri": "https://localhost:8080/"
        },
        "id": "NSg_mV-Ni4Xp",
        "outputId": "9633d89a-70bb-42bf-a5fe-14dc80500545"
      },
      "source": [
        "phrase_vector = vectors_combination_by_sum(tokenizer(\"profissional sucesso\"))\n",
        "gender_direction @ phrase_vector"
      ],
      "execution_count": null,
      "outputs": [
        {
          "output_type": "execute_result",
          "data": {
            "text/plain": [
              "-0.3293687344533657"
            ]
          },
          "metadata": {},
          "execution_count": 61
        }
      ]
    },
    {
      "cell_type": "code",
      "metadata": {
        "colab": {
          "base_uri": "https://localhost:8080/"
        },
        "id": "d-NAkOGpqpmC",
        "outputId": "0a977d51-56a7-483a-f236-69a9800fb82e"
      },
      "source": [
        "phrase_vector = vectors_combination_by_sum(tokenizer(\"lidera time\"))\n",
        "gender_direction @ phrase_vector"
      ],
      "execution_count": null,
      "outputs": [
        {
          "output_type": "execute_result",
          "data": {
            "text/plain": [
              "-0.6118033569776358"
            ]
          },
          "metadata": {},
          "execution_count": 62
        }
      ]
    },
    {
      "cell_type": "code",
      "metadata": {
        "colab": {
          "base_uri": "https://localhost:8080/"
        },
        "id": "2UY7w1-kjX80",
        "outputId": "236dfe6e-ab14-460e-9abc-6ff069edf0c2"
      },
      "source": [
        "phrase_vector = vectors_combination_by_sum(tokenizer(\"limpa casa\"))\n",
        "gender_direction @ phrase_vector"
      ],
      "execution_count": null,
      "outputs": [
        {
          "output_type": "execute_result",
          "data": {
            "text/plain": [
              "0.30002820213996656"
            ]
          },
          "metadata": {},
          "execution_count": 63
        }
      ]
    },
    {
      "cell_type": "code",
      "metadata": {
        "colab": {
          "base_uri": "https://localhost:8080/"
        },
        "id": "FW8sSW6sjhYB",
        "outputId": "33032c0e-6224-4d5a-d9cc-4f6aaa1bafc5"
      },
      "source": [
        "phrase_vector = vectors_combination_by_sum(tokenizer(\"joga futebol\"))\n",
        "gender_direction @ phrase_vector"
      ],
      "execution_count": null,
      "outputs": [
        {
          "output_type": "execute_result",
          "data": {
            "text/plain": [
              "-0.34550134046372755"
            ]
          },
          "metadata": {},
          "execution_count": 64
        }
      ]
    },
    {
      "cell_type": "code",
      "metadata": {
        "colab": {
          "base_uri": "https://localhost:8080/"
        },
        "id": "zkI1x1nLjttz",
        "outputId": "16e65070-93ec-4fc9-b440-e270507be9b4"
      },
      "source": [
        "phrase_vector = vectors_combination_by_sum(tokenizer(\"joga vôlei\"))\n",
        "gender_direction @ phrase_vector"
      ],
      "execution_count": null,
      "outputs": [
        {
          "output_type": "execute_result",
          "data": {
            "text/plain": [
              "-0.060247841745457734"
            ]
          },
          "metadata": {},
          "execution_count": 65
        }
      ]
    },
    {
      "cell_type": "code",
      "metadata": {
        "colab": {
          "base_uri": "https://localhost:8080/"
        },
        "id": "oYuCU_uxky7o",
        "outputId": "78c99c15-3ead-42c3-d43a-1191981ed59c"
      },
      "source": [
        "# !!!\n",
        "phrase_vector = vectors_combination_by_sum(tokenizer(\"estudante medicina\"))\n",
        "gender_direction @ phrase_vector"
      ],
      "execution_count": null,
      "outputs": [
        {
          "output_type": "execute_result",
          "data": {
            "text/plain": [
              "0.13704123208482705"
            ]
          },
          "metadata": {},
          "execution_count": 66
        }
      ]
    },
    {
      "cell_type": "code",
      "metadata": {
        "colab": {
          "base_uri": "https://localhost:8080/"
        },
        "id": "9_-EY8xzqWxz",
        "outputId": "b8c190c6-e5a2-4bdb-8762-1e124b1c9351"
      },
      "source": [
        "# !!!\n",
        "phrase_vector = vectors_combination_by_sum(tokenizer(\"estudante engenharia\"))\n",
        "gender_direction @ phrase_vector"
      ],
      "execution_count": null,
      "outputs": [
        {
          "output_type": "execute_result",
          "data": {
            "text/plain": [
              "0.1303996186042914"
            ]
          },
          "metadata": {},
          "execution_count": 67
        }
      ]
    },
    {
      "cell_type": "code",
      "metadata": {
        "colab": {
          "base_uri": "https://localhost:8080/"
        },
        "id": "rOy0-bKGqaO5",
        "outputId": "8864659a-cfd7-4f7e-e4cf-2ee8e645bd75"
      },
      "source": [
        "# !!!\n",
        "phrase_vector = vectors_combination_by_sum(tokenizer(\"estudante enfermagem\"))\n",
        "gender_direction @ phrase_vector"
      ],
      "execution_count": null,
      "outputs": [
        {
          "output_type": "execute_result",
          "data": {
            "text/plain": [
              "0.2045529879247768"
            ]
          },
          "metadata": {},
          "execution_count": 68
        }
      ]
    },
    {
      "cell_type": "code",
      "metadata": {
        "colab": {
          "base_uri": "https://localhost:8080/"
        },
        "id": "HZhK0iUCrLYj",
        "outputId": "8a046d59-d922-48bb-8648-5bc76a41b0a2"
      },
      "source": [
        "phrase_vector = vectors_combination_by_sum(tokenizer(\"especialista assunto\"))\n",
        "gender_direction @ phrase_vector"
      ],
      "execution_count": null,
      "outputs": [
        {
          "output_type": "execute_result",
          "data": {
            "text/plain": [
              "-0.29039663726070114"
            ]
          },
          "metadata": {},
          "execution_count": 69
        }
      ]
    },
    {
      "cell_type": "code",
      "metadata": {
        "colab": {
          "base_uri": "https://localhost:8080/"
        },
        "id": "hjfcwdgWrWdz",
        "outputId": "dec02f1d-db9c-4928-aae9-fbc06ffc1e18"
      },
      "source": [
        "phrase_vector = vectors_combination_by_sum(tokenizer(\"especialista área\"))\n",
        "gender_direction @ phrase_vector"
      ],
      "execution_count": null,
      "outputs": [
        {
          "output_type": "execute_result",
          "data": {
            "text/plain": [
              "0.04466802381559776"
            ]
          },
          "metadata": {},
          "execution_count": 70
        }
      ]
    },
    {
      "cell_type": "code",
      "metadata": {
        "id": "oK8Jh7YXA-4g"
      },
      "source": [
        "import stylecloud\n",
        "%matplotlib inline\n",
        "def ciyun(res, name, style):#RES word vector output Correlation The highest word Name Save file name style word cloud picture style settings\n",
        "    result=''\n",
        "    for each in res:\n",
        "        result=result+' '+str(each[0])\n",
        "    stylecloud.gen_stylecloud(\n",
        "        text=result, # The result of the above word is passed to the text parameters\n",
        "        size=512,\n",
        "        # font_path = 'msyh.ttc', #      \n",
        "        palette='cartocolors.qualitative.Pastel_7', #      , select from PaletTable\n",
        "        gradient='horizontal', #              \n",
        "        icon_name=style,  #    , select from Font Awesome\n",
        "        output_name=name+\".png\"\n",
        "        ) #        "
      ],
      "execution_count": null,
      "outputs": []
    },
    {
      "cell_type": "code",
      "metadata": {
        "id": "4OO2zEHcLpFd"
      },
      "source": [
        "sum_vector = vectors_combination_by_sum(tokenizer(\"diarista chefe colunista assistente taxista psiquiatra policial dentista eletricista economista atleta terapeuta piloto modelo estudante comerciante militar cientista designer gerente artista analista jornalista diarista pediatra psiquiatra dermatologista ginecologista médico médica engenheiro engenheira advogado advogada empregado empregada\"))\n",
        "similar_words = modelo.similar_by_vector(sum_vector, topn=1500)"
      ],
      "execution_count": null,
      "outputs": []
    },
    {
      "cell_type": "code",
      "metadata": {
        "id": "iudFKnWXbjsj"
      },
      "source": [
        "f = []\n",
        "m = []\n",
        "for t in similar_words:\n",
        "  t = list(t)\n",
        "  if not \"ex\" in t[0] and len(t[0])>3 and len(list(nlp(t[0]).ents))==0:\n",
        "    t[1] *= gender_direction @ modelo[t[0]]\n",
        "    if t[1] > 0:\n",
        "      f += [tuple(t)]\n",
        "    else:\n",
        "      t[1] -= 1\n",
        "      m += [tuple(t)]\n",
        "    "
      ],
      "execution_count": null,
      "outputs": []
    },
    {
      "cell_type": "code",
      "metadata": {
        "id": "XdEpXx-caSE3"
      },
      "source": [
        "f.sort(key=lambda tup: tup[1])\n",
        "f.reverse() \n",
        "\n",
        "m.sort(key=lambda tup: tup[1])\n",
        "m.reverse() "
      ],
      "execution_count": null,
      "outputs": []
    },
    {
      "cell_type": "code",
      "metadata": {
        "id": "3bApO2gIbjs2"
      },
      "source": [
        "ciyun(f, \"mulher_sem_nomes\",'fas fa-book-open')"
      ],
      "execution_count": null,
      "outputs": []
    },
    {
      "cell_type": "code",
      "metadata": {
        "id": "lF0VsC4pbjs2"
      },
      "source": [
        "ciyun(m, \"homem_sem_nomes\",'fas fa-book-open')"
      ],
      "execution_count": null,
      "outputs": []
    }
  ]
}