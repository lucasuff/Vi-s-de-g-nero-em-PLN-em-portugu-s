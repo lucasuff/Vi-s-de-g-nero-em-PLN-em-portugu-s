{
  "nbformat": 4,
  "nbformat_minor": 0,
  "metadata": {
    "colab": {
      "name": "PW2V.ipynb",
      "provenance": [],
      "collapsed_sections": [
        "_mieFNL5RF9t",
        "MYMWBq5uRLaJ",
        "H6zCOlgXRPH1"
      ],
      "mount_file_id": "1ZUNwRjY9_vQ5iEXr9YC7avw404YNmSiw",
      "authorship_tag": "ABX9TyOe1I2gNl8VNY75XWuLwzDC",
      "include_colab_link": true
    },
    "kernelspec": {
      "display_name": "Python 3",
      "name": "python3"
    },
    "language_info": {
      "name": "python"
    }
  },
  "cells": [
    {
      "cell_type": "markdown",
      "metadata": {
        "id": "view-in-github",
        "colab_type": "text"
      },
      "source": [
        "<a href=\"https://colab.research.google.com/github/lucasuff/Vies-de-genero-em-PLN-em-portugues/blob/main/PW2V.ipynb\" target=\"_parent\"><img src=\"https://colab.research.google.com/assets/colab-badge.svg\" alt=\"Open In Colab\"/></a>"
      ]
    },
    {
      "cell_type": "code",
      "metadata": {
        "colab": {
          "base_uri": "https://localhost:8080/",
          "height": 871
        },
        "id": "4pJ7pDIntPiw",
        "outputId": "e911a2ff-9d49-48d6-a97e-b5c02e732acc"
      },
      "source": [
        "%pip install responsibly"
      ],
      "execution_count": null,
      "outputs": [
        {
          "output_type": "stream",
          "name": "stdout",
          "text": [
            "Collecting responsibly\n",
            "  Downloading responsibly-0.1.3-py3-none-any.whl (28.2 MB)\n",
            "\u001b[K     |████████████████████████████████| 28.2 MB 4.1 kB/s \n",
            "\u001b[?25hRequirement already satisfied: click>=6.0 in /usr/local/lib/python3.7/dist-packages (from responsibly) (7.1.2)\n",
            "Requirement already satisfied: mlxtend<0.17,>=0.13 in /usr/local/lib/python3.7/dist-packages (from responsibly) (0.14.0)\n",
            "Requirement already satisfied: scikit-learn>=0.19 in /usr/local/lib/python3.7/dist-packages (from responsibly) (0.22.2.post1)\n",
            "Collecting gensim<3.8,>=3.7\n",
            "  Downloading gensim-3.7.3-cp37-cp37m-manylinux1_x86_64.whl (24.2 MB)\n",
            "\u001b[K     |████████████████████████████████| 24.2 MB 106 kB/s \n",
            "\u001b[?25hRequirement already satisfied: tabulate>=0.8 in /usr/local/lib/python3.7/dist-packages (from responsibly) (0.8.9)\n",
            "Requirement already satisfied: seaborn>=0.9 in /usr/local/lib/python3.7/dist-packages (from responsibly) (0.11.2)\n",
            "Requirement already satisfied: tqdm>=4.24 in /usr/local/lib/python3.7/dist-packages (from responsibly) (4.62.3)\n",
            "Requirement already satisfied: pandas>=0.23 in /usr/local/lib/python3.7/dist-packages (from responsibly) (1.1.5)\n",
            "Requirement already satisfied: numpy>=1.15 in /usr/local/lib/python3.7/dist-packages (from responsibly) (1.19.5)\n",
            "Requirement already satisfied: six>=1.10 in /usr/local/lib/python3.7/dist-packages (from responsibly) (1.15.0)\n",
            "Collecting matplotlib<3,>=2.2\n",
            "  Downloading matplotlib-2.2.5-cp37-cp37m-manylinux1_x86_64.whl (12.8 MB)\n",
            "\u001b[K     |████████████████████████████████| 12.8 MB 152 kB/s \n",
            "\u001b[?25hRequirement already satisfied: scipy>=1.1 in /usr/local/lib/python3.7/dist-packages (from responsibly) (1.4.1)\n",
            "Requirement already satisfied: smart-open>=1.7.0 in /usr/local/lib/python3.7/dist-packages (from gensim<3.8,>=3.7->responsibly) (5.2.1)\n",
            "Requirement already satisfied: kiwisolver>=1.0.1 in /usr/local/lib/python3.7/dist-packages (from matplotlib<3,>=2.2->responsibly) (1.3.2)\n",
            "Requirement already satisfied: pyparsing!=2.0.4,!=2.1.2,!=2.1.6,>=2.0.1 in /usr/local/lib/python3.7/dist-packages (from matplotlib<3,>=2.2->responsibly) (2.4.7)\n",
            "Requirement already satisfied: pytz in /usr/local/lib/python3.7/dist-packages (from matplotlib<3,>=2.2->responsibly) (2018.9)\n",
            "Requirement already satisfied: python-dateutil>=2.1 in /usr/local/lib/python3.7/dist-packages (from matplotlib<3,>=2.2->responsibly) (2.8.2)\n",
            "Requirement already satisfied: cycler>=0.10 in /usr/local/lib/python3.7/dist-packages (from matplotlib<3,>=2.2->responsibly) (0.10.0)\n",
            "Requirement already satisfied: setuptools in /usr/local/lib/python3.7/dist-packages (from mlxtend<0.17,>=0.13->responsibly) (57.4.0)\n",
            "Requirement already satisfied: joblib>=0.11 in /usr/local/lib/python3.7/dist-packages (from scikit-learn>=0.19->responsibly) (1.0.1)\n",
            "Installing collected packages: matplotlib, gensim, responsibly\n",
            "  Attempting uninstall: matplotlib\n",
            "    Found existing installation: matplotlib 3.2.2\n",
            "    Uninstalling matplotlib-3.2.2:\n",
            "      Successfully uninstalled matplotlib-3.2.2\n",
            "  Attempting uninstall: gensim\n",
            "    Found existing installation: gensim 3.6.0\n",
            "    Uninstalling gensim-3.6.0:\n",
            "      Successfully uninstalled gensim-3.6.0\n",
            "\u001b[31mERROR: pip's dependency resolver does not currently take into account all the packages that are installed. This behaviour is the source of the following dependency conflicts.\n",
            "plotnine 0.6.0 requires matplotlib>=3.1.1, but you have matplotlib 2.2.5 which is incompatible.\n",
            "mizani 0.6.0 requires matplotlib>=3.1.1, but you have matplotlib 2.2.5 which is incompatible.\n",
            "arviz 0.11.4 requires matplotlib>=3.0, but you have matplotlib 2.2.5 which is incompatible.\n",
            "albumentations 0.1.12 requires imgaug<0.2.7,>=0.2.5, but you have imgaug 0.2.9 which is incompatible.\u001b[0m\n",
            "Successfully installed gensim-3.7.3 matplotlib-2.2.5 responsibly-0.1.3\n"
          ]
        },
        {
          "output_type": "display_data",
          "data": {
            "application/vnd.colab-display-data+json": {
              "pip_warning": {
                "packages": [
                  "matplotlib",
                  "mpl_toolkits"
                ]
              }
            }
          },
          "metadata": {}
        }
      ]
    },
    {
      "cell_type": "code",
      "metadata": {
        "colab": {
          "base_uri": "https://localhost:8080/"
        },
        "id": "_22pXGWbKudo",
        "outputId": "f5137ffe-ffb0-4bec-d05a-8fd3f15fd019"
      },
      "source": [
        "!pip install stylecloud"
      ],
      "execution_count": null,
      "outputs": [
        {
          "output_type": "stream",
          "name": "stdout",
          "text": [
            "Collecting stylecloud\n",
            "  Downloading stylecloud-0.5.2.tar.gz (262 kB)\n",
            "\u001b[K     |████████████████████████████████| 262 kB 36.5 MB/s \n",
            "\u001b[?25hRequirement already satisfied: wordcloud in /usr/local/lib/python3.7/dist-packages (from stylecloud) (1.5.0)\n",
            "Collecting icon-font-to-png\n",
            "  Downloading icon_font_to_png-0.4.1-py2.py3-none-any.whl (161 kB)\n",
            "\u001b[K     |████████████████████████████████| 161 kB 61.8 MB/s \n",
            "\u001b[?25hRequirement already satisfied: palettable in /usr/local/lib/python3.7/dist-packages (from stylecloud) (3.3.0)\n",
            "Collecting fire\n",
            "  Downloading fire-0.4.0.tar.gz (87 kB)\n",
            "\u001b[K     |████████████████████████████████| 87 kB 9.3 MB/s \n",
            "\u001b[?25hRequirement already satisfied: matplotlib in /usr/local/lib/python3.7/dist-packages (from stylecloud) (2.2.5)\n",
            "Requirement already satisfied: six in /usr/local/lib/python3.7/dist-packages (from fire->stylecloud) (1.15.0)\n",
            "Requirement already satisfied: termcolor in /usr/local/lib/python3.7/dist-packages (from fire->stylecloud) (1.1.0)\n",
            "Requirement already satisfied: Pillow>=4.0.0 in /usr/local/lib/python3.7/dist-packages (from icon-font-to-png->stylecloud) (7.1.2)\n",
            "Collecting tinycss>=0.4\n",
            "  Downloading tinycss-0.4.tar.gz (87 kB)\n",
            "\u001b[K     |████████████████████████████████| 87 kB 9.3 MB/s \n",
            "\u001b[?25hRequirement already satisfied: requests>=2.12.5 in /usr/local/lib/python3.7/dist-packages (from icon-font-to-png->stylecloud) (2.23.0)\n",
            "Requirement already satisfied: idna<3,>=2.5 in /usr/local/lib/python3.7/dist-packages (from requests>=2.12.5->icon-font-to-png->stylecloud) (2.10)\n",
            "Requirement already satisfied: certifi>=2017.4.17 in /usr/local/lib/python3.7/dist-packages (from requests>=2.12.5->icon-font-to-png->stylecloud) (2021.5.30)\n",
            "Requirement already satisfied: chardet<4,>=3.0.2 in /usr/local/lib/python3.7/dist-packages (from requests>=2.12.5->icon-font-to-png->stylecloud) (3.0.4)\n",
            "Requirement already satisfied: urllib3!=1.25.0,!=1.25.1,<1.26,>=1.21.1 in /usr/local/lib/python3.7/dist-packages (from requests>=2.12.5->icon-font-to-png->stylecloud) (1.24.3)\n",
            "Requirement already satisfied: pyparsing!=2.0.4,!=2.1.2,!=2.1.6,>=2.0.1 in /usr/local/lib/python3.7/dist-packages (from matplotlib->stylecloud) (2.4.7)\n",
            "Requirement already satisfied: python-dateutil>=2.1 in /usr/local/lib/python3.7/dist-packages (from matplotlib->stylecloud) (2.8.2)\n",
            "Requirement already satisfied: kiwisolver>=1.0.1 in /usr/local/lib/python3.7/dist-packages (from matplotlib->stylecloud) (1.3.2)\n",
            "Requirement already satisfied: numpy>=1.7.1 in /usr/local/lib/python3.7/dist-packages (from matplotlib->stylecloud) (1.19.5)\n",
            "Requirement already satisfied: cycler>=0.10 in /usr/local/lib/python3.7/dist-packages (from matplotlib->stylecloud) (0.10.0)\n",
            "Requirement already satisfied: pytz in /usr/local/lib/python3.7/dist-packages (from matplotlib->stylecloud) (2018.9)\n",
            "Building wheels for collected packages: stylecloud, fire, tinycss\n",
            "  Building wheel for stylecloud (setup.py) ... \u001b[?25l\u001b[?25hdone\n",
            "  Created wheel for stylecloud: filename=stylecloud-0.5.2-py3-none-any.whl size=259508 sha256=55f562a16868ed9629444a4c76f2b4137ee04a598c635ea7661473b7e73fd2b3\n",
            "  Stored in directory: /root/.cache/pip/wheels/77/42/7a/f52b5f84c04196fd4c2a3dceeb1bbeaee1c93a4fe271b5eb41\n",
            "  Building wheel for fire (setup.py) ... \u001b[?25l\u001b[?25hdone\n",
            "  Created wheel for fire: filename=fire-0.4.0-py2.py3-none-any.whl size=115943 sha256=91dffa58a84cc0234773c602cf70e11db6c2ccbfe6819818ee9a32a8aed367b0\n",
            "  Stored in directory: /root/.cache/pip/wheels/8a/67/fb/2e8a12fa16661b9d5af1f654bd199366799740a85c64981226\n",
            "  Building wheel for tinycss (setup.py) ... \u001b[?25l\u001b[?25hdone\n",
            "  Created wheel for tinycss: filename=tinycss-0.4-py3-none-any.whl size=43955 sha256=1ed3054b299a543b6b260997fb11d50b7713261083b49d13418b5183966179c2\n",
            "  Stored in directory: /root/.cache/pip/wheels/6c/66/e8/e53d7a476011891fa51a5ee83a2d1852b19b258f975055429b\n",
            "Successfully built stylecloud fire tinycss\n",
            "Installing collected packages: tinycss, icon-font-to-png, fire, stylecloud\n",
            "Successfully installed fire-0.4.0 icon-font-to-png-0.4.1 stylecloud-0.5.2 tinycss-0.4\n"
          ]
        }
      ]
    },
    {
      "cell_type": "code",
      "metadata": {
        "colab": {
          "base_uri": "https://localhost:8080/"
        },
        "id": "_3Ols730nEES",
        "outputId": "85742977-2f2d-43e1-a424-e9c832d728f2"
      },
      "source": [
        "!unzip \"/content/drive/MyDrive/curso_word2vec/cbow_s300.zip\""
      ],
      "execution_count": null,
      "outputs": [
        {
          "output_type": "stream",
          "name": "stdout",
          "text": [
            "Archive:  /content/drive/MyDrive/curso_word2vec/cbow_s300.zip\n",
            "  inflating: cbow_s300.txt           \n"
          ]
        }
      ]
    },
    {
      "cell_type": "code",
      "metadata": {
        "id": "FEwqLeAVviDK"
      },
      "source": [
        "from gensim.models import KeyedVectors\n",
        "\n",
        "modelo = KeyedVectors.load_word2vec_format(\"cbow_s300.txt\")"
      ],
      "execution_count": null,
      "outputs": []
    },
    {
      "cell_type": "code",
      "metadata": {
        "colab": {
          "base_uri": "https://localhost:8080/"
        },
        "id": "vi2SNoUMgp8Z",
        "outputId": "cb86a61b-bf30-4f43-fe1d-baa4d5e55806"
      },
      "source": [
        "print(len(modelo.wv.vocab))"
      ],
      "execution_count": null,
      "outputs": [
        {
          "output_type": "stream",
          "name": "stdout",
          "text": [
            "929606\n"
          ]
        },
        {
          "output_type": "stream",
          "name": "stderr",
          "text": [
            "/usr/local/lib/python3.7/dist-packages/ipykernel_launcher.py:1: DeprecationWarning: Call to deprecated `wv` (Attribute will be removed in 4.0.0, use self instead).\n",
            "  \"\"\"Entry point for launching an IPython kernel.\n"
          ]
        }
      ]
    },
    {
      "cell_type": "code",
      "metadata": {
        "colab": {
          "base_uri": "https://localhost:8080/"
        },
        "id": "N4UBE6vhk44O",
        "outputId": "56c3f05e-43cf-4238-eb6b-6f040765ef26"
      },
      "source": [
        "modelo.most_similar(\"mulher\")"
      ],
      "execution_count": null,
      "outputs": [
        {
          "output_type": "execute_result",
          "data": {
            "text/plain": [
              "[('menina', 0.7304356098175049),\n",
              " ('mãe', 0.7248324155807495),\n",
              " ('esposa', 0.7070266604423523),\n",
              " ('rapariga', 0.6926296949386597),\n",
              " ('garota', 0.6918615102767944),\n",
              " ('namorada', 0.689795732498169),\n",
              " ('filha', 0.6894294619560242),\n",
              " ('parenta', 0.6788346171379089),\n",
              " ('sobrinha', 0.671368420124054),\n",
              " ('garotinha', 0.6690018177032471)]"
            ]
          },
          "metadata": {},
          "execution_count": 5
        }
      ]
    },
    {
      "cell_type": "code",
      "metadata": {
        "colab": {
          "base_uri": "https://localhost:8080/"
        },
        "id": "ezyha1NKk6wh",
        "outputId": "225ce188-c6cc-41ee-af1b-e8fb2ce44ef9"
      },
      "source": [
        "modelo.most_similar(\"homem\")"
      ],
      "execution_count": null,
      "outputs": [
        {
          "output_type": "execute_result",
          "data": {
            "text/plain": [
              "[('rapaz', 0.746058464050293),\n",
              " ('garoto', 0.6757828593254089),\n",
              " ('indivíduo', 0.6752874851226807),\n",
              " ('mendigo', 0.6490020751953125),\n",
              " ('ladrão', 0.641203761100769),\n",
              " ('menino', 0.6409417986869812),\n",
              " ('homen', 0.6301383972167969),\n",
              " ('cavalheiro', 0.6294417381286621),\n",
              " ('rapazola', 0.6239607334136963),\n",
              " ('bandido', 0.6235723495483398)]"
            ]
          },
          "metadata": {},
          "execution_count": 6
        }
      ]
    },
    {
      "cell_type": "markdown",
      "metadata": {
        "id": "_mieFNL5RF9t"
      },
      "source": [
        "## Doesnt match "
      ]
    },
    {
      "cell_type": "code",
      "metadata": {
        "colab": {
          "base_uri": "https://localhost:8080/"
        },
        "id": "lWGz2J_CNSJy",
        "outputId": "f1132160-35d8-45a5-b9de-59bd7d791ddd"
      },
      "source": [
        "modelo.doesnt_match(\"gato girafa macaco pessoa\".split())"
      ],
      "execution_count": null,
      "outputs": [
        {
          "output_type": "stream",
          "name": "stderr",
          "text": [
            "/usr/local/lib/python3.7/dist-packages/gensim/models/keyedvectors.py:876: FutureWarning: arrays to stack must be passed as a \"sequence\" type such as list or tuple. Support for non-sequence iterables such as generators is deprecated as of NumPy 1.16 and will raise an error in the future.\n",
            "  vectors = vstack(self.word_vec(word, use_norm=True) for word in used_words).astype(REAL)\n"
          ]
        },
        {
          "output_type": "execute_result",
          "data": {
            "application/vnd.google.colaboratory.intrinsic+json": {
              "type": "string"
            },
            "text/plain": [
              "'pessoa'"
            ]
          },
          "metadata": {},
          "execution_count": 7
        }
      ]
    },
    {
      "cell_type": "code",
      "metadata": {
        "colab": {
          "base_uri": "https://localhost:8080/"
        },
        "id": "rN5-LAKINV9p",
        "outputId": "91cca0c5-3d47-4049-887b-5c17c13c6575"
      },
      "source": [
        "modelo.doesnt_match(\"caneta lápis borracha papel avião\".split())"
      ],
      "execution_count": null,
      "outputs": [
        {
          "output_type": "stream",
          "name": "stderr",
          "text": [
            "/usr/local/lib/python3.7/dist-packages/gensim/models/keyedvectors.py:876: FutureWarning: arrays to stack must be passed as a \"sequence\" type such as list or tuple. Support for non-sequence iterables such as generators is deprecated as of NumPy 1.16 and will raise an error in the future.\n",
            "  vectors = vstack(self.word_vec(word, use_norm=True) for word in used_words).astype(REAL)\n"
          ]
        },
        {
          "output_type": "execute_result",
          "data": {
            "application/vnd.google.colaboratory.intrinsic+json": {
              "type": "string"
            },
            "text/plain": [
              "'avião'"
            ]
          },
          "metadata": {},
          "execution_count": 8
        }
      ]
    },
    {
      "cell_type": "code",
      "metadata": {
        "colab": {
          "base_uri": "https://localhost:8080/"
        },
        "id": "hRF0uOjJIJCy",
        "outputId": "050e190c-effe-48a2-9a3c-a8770c326d4a"
      },
      "source": [
        "modelo.doesnt_match(\"enfermeira enfermeiro advogada advogado empregada empregado engenheiro engenheira\".split())"
      ],
      "execution_count": null,
      "outputs": [
        {
          "output_type": "stream",
          "name": "stderr",
          "text": [
            "/usr/local/lib/python3.7/dist-packages/gensim/models/keyedvectors.py:876: FutureWarning: arrays to stack must be passed as a \"sequence\" type such as list or tuple. Support for non-sequence iterables such as generators is deprecated as of NumPy 1.16 and will raise an error in the future.\n",
            "  vectors = vstack(self.word_vec(word, use_norm=True) for word in used_words).astype(REAL)\n"
          ]
        },
        {
          "output_type": "execute_result",
          "data": {
            "application/vnd.google.colaboratory.intrinsic+json": {
              "type": "string"
            },
            "text/plain": [
              "'empregado'"
            ]
          },
          "metadata": {},
          "execution_count": 9
        }
      ]
    },
    {
      "cell_type": "code",
      "metadata": {
        "colab": {
          "base_uri": "https://localhost:8080/"
        },
        "id": "2xydWOR5IkE5",
        "outputId": "c27e5a8d-7946-44e1-bc40-aa2774469349"
      },
      "source": [
        "# !!!!!\n",
        "modelo.doesnt_match(\"sucesso dinheiro chefe homem mulher\".split())"
      ],
      "execution_count": null,
      "outputs": [
        {
          "output_type": "stream",
          "name": "stderr",
          "text": [
            "/usr/local/lib/python3.7/dist-packages/gensim/models/keyedvectors.py:876: FutureWarning: arrays to stack must be passed as a \"sequence\" type such as list or tuple. Support for non-sequence iterables such as generators is deprecated as of NumPy 1.16 and will raise an error in the future.\n",
            "  vectors = vstack(self.word_vec(word, use_norm=True) for word in used_words).astype(REAL)\n"
          ]
        },
        {
          "output_type": "execute_result",
          "data": {
            "application/vnd.google.colaboratory.intrinsic+json": {
              "type": "string"
            },
            "text/plain": [
              "'mulher'"
            ]
          },
          "metadata": {},
          "execution_count": 10
        }
      ]
    },
    {
      "cell_type": "markdown",
      "metadata": {
        "id": "MYMWBq5uRLaJ"
      },
      "source": [
        "## Most Similar"
      ]
    },
    {
      "cell_type": "code",
      "metadata": {
        "colab": {
          "base_uri": "https://localhost:8080/"
        },
        "id": "Z1F-zF2zMWE7",
        "outputId": "9187b28a-1114-4534-ec01-f8346e59eb80"
      },
      "source": [
        "modelo.most_similar(positive=[\"estrelas\", \"nuvem\"], negative=[\"estrela\"])"
      ],
      "execution_count": null,
      "outputs": [
        {
          "output_type": "execute_result",
          "data": {
            "text/plain": [
              "[('nuvens', 0.5417453050613403),\n",
              " ('sombras', 0.4925973415374756),\n",
              " ('potжncias', 0.46983349323272705),\n",
              " ('faces', 0.46719563007354736),\n",
              " ('superfí-cies', 0.4646725654602051),\n",
              " ('galáxias', 0.46463635563850403),\n",
              " ('névoas', 0.45732784271240234),\n",
              " ('centelhas', 0.4558478593826294),\n",
              " ('ondas', 0.4554678797721863),\n",
              " ('partã\\xadculas', 0.4542694091796875)]"
            ]
          },
          "metadata": {},
          "execution_count": 11
        }
      ]
    },
    {
      "cell_type": "code",
      "metadata": {
        "colab": {
          "base_uri": "https://localhost:8080/"
        },
        "id": "s_sqjKW0Ms7u",
        "outputId": "c82a39b3-90e0-47c8-cead-b5618e685017"
      },
      "source": [
        "modelo.most_similar(positive=[\"corrida\", \"caminhar\"], negative=[\"correr\"])"
      ],
      "execution_count": null,
      "outputs": [
        {
          "output_type": "execute_result",
          "data": {
            "text/plain": [
              "[('caminhada', 0.5607437491416931),\n",
              " ('viagem', 0.48310109972953796),\n",
              " ('competição', 0.440503865480423),\n",
              " ('tourné', 0.4290638566017151),\n",
              " ('excursã£o', 0.4208611845970154),\n",
              " ('disputa', 0.42036372423171997),\n",
              " ('sucessã£o', 0.4069059491157532),\n",
              " ('pista', 0.4067094922065735),\n",
              " ('formaçao', 0.4060864746570587),\n",
              " ('liguilha', 0.40357092022895813)]"
            ]
          },
          "metadata": {},
          "execution_count": 12
        }
      ]
    },
    {
      "cell_type": "code",
      "metadata": {
        "colab": {
          "base_uri": "https://localhost:8080/"
        },
        "id": "_i0GWV6vM35q",
        "outputId": "8a0d2bdc-ccc0-4439-a3eb-6a8a969b6209"
      },
      "source": [
        "modelo.most_similar(positive=[\"comi\", \"beber\"], negative=[\"comer\"])"
      ],
      "execution_count": null,
      "outputs": [
        {
          "output_type": "execute_result",
          "data": {
            "text/plain": [
              "[('bebi', 0.7422503232955933),\n",
              " ('bebo', 0.6052626371383667),\n",
              " ('derramei', 0.5611637830734253),\n",
              " ('experimentei', 0.5460955500602722),\n",
              " ('bebeu', 0.5414687395095825),\n",
              " ('cheirei', 0.5287095308303833),\n",
              " ('bebemos', 0.5246739983558655),\n",
              " ('bebia', 0.5204845070838928),\n",
              " ('usei', 0.5084165930747986),\n",
              " ('vendi', 0.5048673152923584)]"
            ]
          },
          "metadata": {},
          "execution_count": 13
        }
      ]
    },
    {
      "cell_type": "code",
      "metadata": {
        "colab": {
          "base_uri": "https://localhost:8080/"
        },
        "id": "z2eKXm2KNDZv",
        "outputId": "0de86a6c-4233-4b94-f27e-5950482fbca1"
      },
      "source": [
        "modelo.most_similar(positive=[\"estarei\", \"ser\"], negative=[\"estar\"])"
      ],
      "execution_count": null,
      "outputs": [
        {
          "output_type": "execute_result",
          "data": {
            "text/plain": [
              "[('serei', 0.511792778968811),\n",
              " ('fui', 0.5069789290428162),\n",
              " ('será', 0.4539341628551483),\n",
              " ('levo', 0.45254313945770264),\n",
              " ('acharei', 0.4189050793647766),\n",
              " ('voltarei', 0.41487619280815125),\n",
              " ('sendo', 0.41132429242134094),\n",
              " ('encontrei', 0.4014155864715576),\n",
              " ('sobreviverei', 0.400144100189209),\n",
              " ('considere-o', 0.398559033870697)]"
            ]
          },
          "metadata": {},
          "execution_count": 14
        }
      ]
    },
    {
      "cell_type": "code",
      "metadata": {
        "colab": {
          "base_uri": "https://localhost:8080/"
        },
        "id": "ugdf-NPDMkVc",
        "outputId": "7c665dad-c1c5-4364-ec30-e543e7a1a2b8"
      },
      "source": [
        "modelo.most_similar(positive=[\"professor\", \"mulher\"], negative=[\"homem\"])"
      ],
      "execution_count": null,
      "outputs": [
        {
          "output_type": "execute_result",
          "data": {
            "text/plain": [
              "[('professora', 0.6192208528518677),\n",
              " ('aluna', 0.5449554324150085),\n",
              " ('esposa', 0.4978231191635132),\n",
              " ('ex-aluna', 0.4884248375892639),\n",
              " ('namorada', 0.4737858772277832),\n",
              " ('enfermeira', 0.4728144109249115),\n",
              " ('filha', 0.467373788356781),\n",
              " ('irmã', 0.45845913887023926),\n",
              " ('ex-namorada', 0.45824766159057617),\n",
              " ('ex-professora', 0.4510470926761627)]"
            ]
          },
          "metadata": {},
          "execution_count": 15
        }
      ]
    },
    {
      "cell_type": "code",
      "metadata": {
        "colab": {
          "base_uri": "https://localhost:8080/"
        },
        "id": "S5YFK2TSJDFW",
        "outputId": "10d767e1-775c-4b17-fae4-481491a62e60"
      },
      "source": [
        "modelo.most_similar(positive=[\"rei\", \"mulher\"], negative=[\"homem\"])"
      ],
      "execution_count": null,
      "outputs": [
        {
          "output_type": "execute_result",
          "data": {
            "text/plain": [
              "[('esposa', 0.5980843305587769),\n",
              " ('sobrinha', 0.5735378265380859),\n",
              " ('meia-irmã', 0.569114089012146),\n",
              " ('filha', 0.5606812238693237),\n",
              " ('rainha', 0.5509544610977173),\n",
              " ('irmã', 0.5464290976524353),\n",
              " ('princesa', 0.5403075814247131),\n",
              " ('neta', 0.5377060174942017),\n",
              " ('mãe', 0.5363210439682007),\n",
              " ('madrasta', 0.5213463306427002)]"
            ]
          },
          "metadata": {},
          "execution_count": 16
        }
      ]
    },
    {
      "cell_type": "code",
      "metadata": {
        "colab": {
          "base_uri": "https://localhost:8080/"
        },
        "id": "85i42ybwvtLI",
        "outputId": "57a6b277-540b-48db-b9c9-24be0d2affbf"
      },
      "source": [
        "# !!!!!\n",
        "modelo.most_similar(positive=[\"médico\", \"mulher\"], negative=[\"homem\"])"
      ],
      "execution_count": null,
      "outputs": [
        {
          "output_type": "execute_result",
          "data": {
            "text/plain": [
              "[('enfermeira', 0.6180862188339233),\n",
              " ('psicóloga', 0.47447532415390015),\n",
              " ('dama-de-companhia', 0.4738234877586365),\n",
              " ('esposa', 0.46559134125709534),\n",
              " ('parteira', 0.46362876892089844),\n",
              " ('mãe', 0.4581768214702606),\n",
              " ('governanta', 0.45722925662994385),\n",
              " ('madrasta', 0.4569782614707947),\n",
              " ('menina', 0.44435906410217285),\n",
              " ('filha', 0.44341108202934265)]"
            ]
          },
          "metadata": {},
          "execution_count": 17
        }
      ]
    },
    {
      "cell_type": "code",
      "metadata": {
        "colab": {
          "base_uri": "https://localhost:8080/"
        },
        "id": "ACnLDkzXNn-q",
        "outputId": "28012c63-6753-4b73-8f20-7ee07383bdc5"
      },
      "source": [
        "# !!!!!\n",
        "modelo.most_similar(positive=[\"chefe\", \"mulher\"], negative=[\"homem\"])"
      ],
      "execution_count": null,
      "outputs": [
        {
          "output_type": "execute_result",
          "data": {
            "text/plain": [
              "[('esposa', 0.5260759592056274),\n",
              " ('dama-de-companhia', 0.5183041095733643),\n",
              " ('ex-chefe', 0.5018495321273804),\n",
              " ('ex-namorada', 0.49337828159332275),\n",
              " ('namorada', 0.4840693473815918),\n",
              " ('secretária', 0.48009467124938965),\n",
              " ('filha', 0.47748470306396484),\n",
              " ('mãe', 0.4763794243335724),\n",
              " ('sobrinha', 0.47454726696014404),\n",
              " ('madrasta', 0.4615866541862488)]"
            ]
          },
          "metadata": {},
          "execution_count": 18
        }
      ]
    },
    {
      "cell_type": "code",
      "metadata": {
        "colab": {
          "base_uri": "https://localhost:8080/"
        },
        "id": "92AVwA9ryieZ",
        "outputId": "a4d328b5-f88f-42ef-92f6-f59a19140f26"
      },
      "source": [
        "# !!!!!\n",
        "modelo.most_similar(positive=[\"patrão\", \"mulher\"], negative=[\"homem\"])"
      ],
      "execution_count": null,
      "outputs": [
        {
          "output_type": "execute_result",
          "data": {
            "text/plain": [
              "[('namorada', 0.5448866486549377),\n",
              " ('dama-de-companhia', 0.5269030928611755),\n",
              " ('esposa', 0.5256808400154114),\n",
              " ('netinha', 0.5254907608032227),\n",
              " ('mãe', 0.5221557021141052),\n",
              " ('filhinha', 0.5198802947998047),\n",
              " ('irmã', 0.5192937254905701),\n",
              " ('ex-namorada', 0.5115455985069275),\n",
              " ('filha', 0.5013868808746338),\n",
              " ('sobrinha', 0.5008130073547363)]"
            ]
          },
          "metadata": {},
          "execution_count": 19
        }
      ]
    },
    {
      "cell_type": "code",
      "metadata": {
        "colab": {
          "base_uri": "https://localhost:8080/"
        },
        "id": "ktjOfFWfPV81",
        "outputId": "12e9edfa-bd08-46fc-eaf8-213b0d57ca98"
      },
      "source": [
        "modelo.most_similar(positive=[\"futebol\", \"menina\"], negative=[\"menino\"])"
      ],
      "execution_count": null,
      "outputs": [
        {
          "output_type": "execute_result",
          "data": {
            "text/plain": [
              "[('expo-sição', 0.4863124489784241),\n",
              " ('mergulhadora', 0.4614967703819275),\n",
              " ('selação', 0.4594675600528717),\n",
              " ('pletora', 0.4574717879295349),\n",
              " ('côdea', 0.45739975571632385),\n",
              " ('velinha', 0.4520021975040436),\n",
              " ('garota', 0.45162081718444824),\n",
              " ('corredora', 0.45005545020103455),\n",
              " ('regula-rização', 0.44894641637802124),\n",
              " ('batidinha', 0.4464682340621948)]"
            ]
          },
          "metadata": {},
          "execution_count": 20
        }
      ]
    },
    {
      "cell_type": "code",
      "metadata": {
        "colab": {
          "base_uri": "https://localhost:8080/"
        },
        "id": "py1iSE7TYBKD",
        "outputId": "dace194c-cdb8-42f8-de2a-d7dc533529f9"
      },
      "source": [
        "modelo.most_similar(positive=[\"inteligente\", \"mulher\"], negative=[\"homem\"])"
      ],
      "execution_count": null,
      "outputs": [
        {
          "output_type": "execute_result",
          "data": {
            "text/plain": [
              "[('gordinha', 0.5024638175964355),\n",
              " ('talentosa', 0.4962154030799866),\n",
              " ('durona', 0.47082144021987915),\n",
              " ('irmã', 0.4465819299221039),\n",
              " ('estudiosa', 0.44603431224823),\n",
              " ('tímida', 0.4451487958431244),\n",
              " ('chorona', 0.4444078207015991),\n",
              " ('garotinha', 0.44379130005836487),\n",
              " ('parenta', 0.44258058071136475),\n",
              " ('atraente', 0.4390413761138916)]"
            ]
          },
          "metadata": {},
          "execution_count": 21
        }
      ]
    },
    {
      "cell_type": "code",
      "metadata": {
        "colab": {
          "base_uri": "https://localhost:8080/"
        },
        "id": "SU1vrKn0YQNY",
        "outputId": "92138ef3-0b4f-4dfc-d12c-9be9edd1669c"
      },
      "source": [
        "modelo.most_similar(positive=[\"inteligente\", \"homem\"], negative=[\"mulher\"])"
      ],
      "execution_count": null,
      "outputs": [
        {
          "output_type": "execute_result",
          "data": {
            "text/plain": [
              "[('sedutor', 0.5099331140518188),\n",
              " ('sábio', 0.5023277401924133),\n",
              " ('conversador', 0.4921954870223999),\n",
              " ('corajoso', 0.482069194316864),\n",
              " ('gênio', 0.46168774366378784),\n",
              " ('excêntrico', 0.4609695076942444),\n",
              " ('esperto', 0.45683157444000244),\n",
              " ('velhaco', 0.45633822679519653),\n",
              " ('falador', 0.45485371351242065),\n",
              " ('teimoso', 0.4509357810020447)]"
            ]
          },
          "metadata": {},
          "execution_count": 22
        }
      ]
    },
    {
      "cell_type": "markdown",
      "metadata": {
        "id": "H6zCOlgXRPH1"
      },
      "source": [
        "## Gender Direction"
      ]
    },
    {
      "cell_type": "code",
      "metadata": {
        "id": "nlvlHHTfYm2p"
      },
      "source": [
        "from responsibly.we import BiasWordEmbedding\n",
        "from numpy.linalg import norm\n",
        "\n",
        "we_genero = BiasWordEmbedding(modelo, only_lower=True)"
      ],
      "execution_count": null,
      "outputs": []
    },
    {
      "cell_type": "code",
      "metadata": {
        "id": "_lY3yhrTYqKO"
      },
      "source": [
        "fem = ['mulher', 'menina', 'esposa', 'senhora', 'irmã', 'mãe', 'avó','feminino', 'garota', 'senhora', 'prima']\n",
        "masc = ['homem', 'menino', 'marido', 'senhor', 'irmão', 'pai', 'avô', 'masculino', 'garoto', 'senhor', 'primo']\n",
        "\n",
        "we_genero._identify_direction('Femenino', 'Masculino',\n",
        "                                          definitional=(fem, masc),\n",
        "                                          method='sum')"
      ],
      "execution_count": null,
      "outputs": []
    },
    {
      "cell_type": "code",
      "metadata": {
        "id": "iXhIc4osYy7L"
      },
      "source": [
        "gender_direction = we_genero.direction\n",
        "\n",
        "gender_direction /= norm(gender_direction)"
      ],
      "execution_count": null,
      "outputs": []
    },
    {
      "cell_type": "code",
      "metadata": {
        "colab": {
          "base_uri": "https://localhost:8080/"
        },
        "id": "UWo6bu4cZMIF",
        "outputId": "03559274-6db7-40f7-d644-b31b4760f0a5"
      },
      "source": [
        "gender_direction @ modelo.word_vec('arquiteta')"
      ],
      "execution_count": null,
      "outputs": [
        {
          "output_type": "execute_result",
          "data": {
            "text/plain": [
              "0.32835153"
            ]
          },
          "metadata": {},
          "execution_count": 26
        }
      ]
    },
    {
      "cell_type": "code",
      "metadata": {
        "colab": {
          "base_uri": "https://localhost:8080/"
        },
        "id": "3QuQ45uGZTHN",
        "outputId": "7c1516b1-d646-4bb7-a9a5-c6024936be7c"
      },
      "source": [
        "gender_direction @ modelo.word_vec('arquiteto')"
      ],
      "execution_count": null,
      "outputs": [
        {
          "output_type": "execute_result",
          "data": {
            "text/plain": [
              "-0.22088529"
            ]
          },
          "metadata": {},
          "execution_count": 27
        }
      ]
    },
    {
      "cell_type": "code",
      "metadata": {
        "colab": {
          "base_uri": "https://localhost:8080/"
        },
        "id": "KHC9FIxDaQUS",
        "outputId": "6c428c7d-f6d6-4287-8ff8-9fc43d6de4b2"
      },
      "source": [
        "# !!!!!\n",
        "gender_direction @ modelo.word_vec('médica')"
      ],
      "execution_count": null,
      "outputs": [
        {
          "output_type": "execute_result",
          "data": {
            "text/plain": [
              "-0.0037539832"
            ]
          },
          "metadata": {},
          "execution_count": 28
        }
      ]
    },
    {
      "cell_type": "code",
      "metadata": {
        "colab": {
          "base_uri": "https://localhost:8080/"
        },
        "id": "qwmX9W3UaRR7",
        "outputId": "93196461-115c-41cd-9e5d-91e08f89f4bf"
      },
      "source": [
        "gender_direction @ modelo.word_vec('médico')"
      ],
      "execution_count": null,
      "outputs": [
        {
          "output_type": "execute_result",
          "data": {
            "text/plain": [
              "-0.19268297"
            ]
          },
          "metadata": {},
          "execution_count": 29
        }
      ]
    },
    {
      "cell_type": "code",
      "metadata": {
        "colab": {
          "base_uri": "https://localhost:8080/"
        },
        "id": "0NLwsVcgamD1",
        "outputId": "6d3e5b87-24a0-4249-a446-5835c855f63f"
      },
      "source": [
        "# !!!!!\n",
        "gender_direction @ modelo.word_vec('pediatra')"
      ],
      "execution_count": null,
      "outputs": [
        {
          "output_type": "execute_result",
          "data": {
            "text/plain": [
              "0.021878522"
            ]
          },
          "metadata": {},
          "execution_count": 30
        }
      ]
    },
    {
      "cell_type": "code",
      "metadata": {
        "colab": {
          "base_uri": "https://localhost:8080/"
        },
        "id": "ji1fk8CjauiS",
        "outputId": "cf92db78-d387-4e7e-c6a7-e2ace5e267b0"
      },
      "source": [
        "gender_direction @ modelo.word_vec('dermatologista')"
      ],
      "execution_count": null,
      "outputs": [
        {
          "output_type": "execute_result",
          "data": {
            "text/plain": [
              "0.0007839032"
            ]
          },
          "metadata": {},
          "execution_count": 31
        }
      ]
    },
    {
      "cell_type": "code",
      "metadata": {
        "colab": {
          "base_uri": "https://localhost:8080/"
        },
        "id": "IYJheP2-awAD",
        "outputId": "44c98e6f-d822-4705-b834-c8fec503d87c"
      },
      "source": [
        "gender_direction @ modelo.word_vec('psiquiatra')"
      ],
      "execution_count": null,
      "outputs": [
        {
          "output_type": "execute_result",
          "data": {
            "text/plain": [
              "-0.18507625"
            ]
          },
          "metadata": {},
          "execution_count": 32
        }
      ]
    },
    {
      "cell_type": "code",
      "metadata": {
        "colab": {
          "base_uri": "https://localhost:8080/"
        },
        "id": "XQei_A6FcqU6",
        "outputId": "322e517f-df07-4b6b-f6f9-95c4c7d0815b"
      },
      "source": [
        "gender_direction @ modelo.word_vec('ginecologista')"
      ],
      "execution_count": null,
      "outputs": [
        {
          "output_type": "execute_result",
          "data": {
            "text/plain": [
              "-0.09815628"
            ]
          },
          "metadata": {},
          "execution_count": 33
        }
      ]
    },
    {
      "cell_type": "code",
      "metadata": {
        "colab": {
          "base_uri": "https://localhost:8080/"
        },
        "id": "tnDwqMnMaSdl",
        "outputId": "afbd67af-73c9-478f-a853-a0d40d0a5b49"
      },
      "source": [
        "gender_direction @ modelo.word_vec('jogadora')"
      ],
      "execution_count": null,
      "outputs": [
        {
          "output_type": "execute_result",
          "data": {
            "text/plain": [
              "0.22897376"
            ]
          },
          "metadata": {},
          "execution_count": 34
        }
      ]
    },
    {
      "cell_type": "code",
      "metadata": {
        "colab": {
          "base_uri": "https://localhost:8080/"
        },
        "id": "9GCHaH3XaUhm",
        "outputId": "dd61bad8-f7b7-4c0c-82ba-6cbd836684ed"
      },
      "source": [
        "gender_direction @ modelo.word_vec('jogador')"
      ],
      "execution_count": null,
      "outputs": [
        {
          "output_type": "execute_result",
          "data": {
            "text/plain": [
              "-0.3164604"
            ]
          },
          "metadata": {},
          "execution_count": 35
        }
      ]
    },
    {
      "cell_type": "code",
      "metadata": {
        "colab": {
          "base_uri": "https://localhost:8080/"
        },
        "id": "rgqSLbeAaVew",
        "outputId": "39340045-21fe-4cd3-f71e-0e54ea3af51a"
      },
      "source": [
        "gender_direction @ modelo.word_vec('professora')"
      ],
      "execution_count": null,
      "outputs": [
        {
          "output_type": "execute_result",
          "data": {
            "text/plain": [
              "0.33361956"
            ]
          },
          "metadata": {},
          "execution_count": 36
        }
      ]
    },
    {
      "cell_type": "code",
      "metadata": {
        "colab": {
          "base_uri": "https://localhost:8080/"
        },
        "id": "28Vwz8jiaW22",
        "outputId": "b91ec86d-5304-497c-9cb9-6f4b4a059c6e"
      },
      "source": [
        "gender_direction @ modelo.word_vec('professor')"
      ],
      "execution_count": null,
      "outputs": [
        {
          "output_type": "execute_result",
          "data": {
            "text/plain": [
              "-0.22488369"
            ]
          },
          "metadata": {},
          "execution_count": 37
        }
      ]
    },
    {
      "cell_type": "code",
      "metadata": {
        "colab": {
          "base_uri": "https://localhost:8080/"
        },
        "id": "2s4iObSqZ8Tg",
        "outputId": "d133582a-3a3b-409b-f9bc-637e74e16070"
      },
      "source": [
        "gender_direction @ modelo.word_vec('arquiteto')"
      ],
      "execution_count": null,
      "outputs": [
        {
          "output_type": "execute_result",
          "data": {
            "text/plain": [
              "-0.22088529"
            ]
          },
          "metadata": {},
          "execution_count": 38
        }
      ]
    },
    {
      "cell_type": "code",
      "metadata": {
        "colab": {
          "base_uri": "https://localhost:8080/"
        },
        "id": "Nv2chTzSZ93z",
        "outputId": "cf3b3b3c-8a28-4ea4-e02f-efb7403519d8"
      },
      "source": [
        "gender_direction @ modelo.word_vec('engenharia')"
      ],
      "execution_count": null,
      "outputs": [
        {
          "output_type": "execute_result",
          "data": {
            "text/plain": [
              "0.07847467"
            ]
          },
          "metadata": {},
          "execution_count": 39
        }
      ]
    },
    {
      "cell_type": "code",
      "metadata": {
        "colab": {
          "base_uri": "https://localhost:8080/"
        },
        "id": "sz_hHeXsaAa8",
        "outputId": "e544082d-5267-4842-d265-9ca608b5914e"
      },
      "source": [
        "gender_direction @ modelo.word_vec('medicina')"
      ],
      "execution_count": null,
      "outputs": [
        {
          "output_type": "execute_result",
          "data": {
            "text/plain": [
              "0.04539127"
            ]
          },
          "metadata": {},
          "execution_count": 40
        }
      ]
    },
    {
      "cell_type": "code",
      "metadata": {
        "colab": {
          "base_uri": "https://localhost:8080/"
        },
        "id": "2cKgbw08aCZ8",
        "outputId": "2efb8e8f-7436-40e1-941b-331b6c7d04c5"
      },
      "source": [
        "# !!!!!\n",
        "gender_direction @ modelo.word_vec('física')"
      ],
      "execution_count": null,
      "outputs": [
        {
          "output_type": "execute_result",
          "data": {
            "text/plain": [
              "-0.047453925"
            ]
          },
          "metadata": {},
          "execution_count": 41
        }
      ]
    },
    {
      "cell_type": "code",
      "metadata": {
        "colab": {
          "base_uri": "https://localhost:8080/"
        },
        "id": "D_bKQ4Ynins6",
        "outputId": "5ff2de4b-513e-434b-9c7a-e5a855fea439"
      },
      "source": [
        "gender_direction @ modelo.word_vec('enfermagem')"
      ],
      "execution_count": null,
      "outputs": [
        {
          "output_type": "execute_result",
          "data": {
            "text/plain": [
              "0.09130086"
            ]
          },
          "metadata": {},
          "execution_count": 42
        }
      ]
    },
    {
      "cell_type": "code",
      "metadata": {
        "colab": {
          "base_uri": "https://localhost:8080/"
        },
        "id": "PX28iiQhaF_I",
        "outputId": "efa589e6-1be1-4046-b4de-f2872551f73b"
      },
      "source": [
        "gender_direction @ modelo.word_vec('futebol')"
      ],
      "execution_count": null,
      "outputs": [
        {
          "output_type": "execute_result",
          "data": {
            "text/plain": [
              "-0.05050068"
            ]
          },
          "metadata": {},
          "execution_count": 43
        }
      ]
    },
    {
      "cell_type": "code",
      "metadata": {
        "colab": {
          "base_uri": "https://localhost:8080/"
        },
        "id": "s35--GM9jMt5",
        "outputId": "3d9fe221-408d-42fd-a834-8ce9908581f6"
      },
      "source": [
        "gender_direction @ modelo.word_vec('vôlei')"
      ],
      "execution_count": null,
      "outputs": [
        {
          "output_type": "execute_result",
          "data": {
            "text/plain": [
              "-0.029878125"
            ]
          },
          "metadata": {},
          "execution_count": 44
        }
      ]
    },
    {
      "cell_type": "code",
      "metadata": {
        "colab": {
          "base_uri": "https://localhost:8080/"
        },
        "id": "-zGDnX9LjRGR",
        "outputId": "1226baf3-3666-41d2-8b6c-125bef921490"
      },
      "source": [
        "gender_direction @ modelo.word_vec('natação')"
      ],
      "execution_count": null,
      "outputs": [
        {
          "output_type": "execute_result",
          "data": {
            "text/plain": [
              "0.061377816"
            ]
          },
          "metadata": {},
          "execution_count": 45
        }
      ]
    },
    {
      "cell_type": "code",
      "metadata": {
        "colab": {
          "base_uri": "https://localhost:8080/"
        },
        "id": "Os15NRD4jWia",
        "outputId": "9ab9eaa9-5e05-4899-92bb-647ba7e5a27f"
      },
      "source": [
        "gender_direction @ modelo.word_vec('ginástica')"
      ],
      "execution_count": null,
      "outputs": [
        {
          "output_type": "execute_result",
          "data": {
            "text/plain": [
              "0.066685826"
            ]
          },
          "metadata": {},
          "execution_count": 46
        }
      ]
    },
    {
      "cell_type": "code",
      "metadata": {
        "colab": {
          "base_uri": "https://localhost:8080/"
        },
        "id": "p8Vt8p7jahDx",
        "outputId": "76ea97d1-0941-4f15-c428-466277e8c617"
      },
      "source": [
        "profissoes_neutras = [\n",
        "    'chefe',\n",
        "    'colunista',\n",
        "    'assistente',\n",
        "    'taxista',\n",
        "    'psiquiatra',\n",
        "    'policial',\n",
        "    'dentista',\n",
        "    'eletricista',\n",
        "    'economista',\n",
        "    'atleta',\n",
        "    'terapeuta',\n",
        "    'piloto',\n",
        "    'modelo',\n",
        "    'estudante',\n",
        "    'comerciante',\n",
        "    'militar',\n",
        "    'cientista',\n",
        "    'designer',\n",
        "    'contabilista',\n",
        "    'gerente',\n",
        "    'artista',\n",
        "    'analista',\n",
        "    'jornalista',\n",
        "    'diarista',\n",
        "    \"pediatra\",\n",
        "    'psiquiatra',\n",
        "    'dermatologista',\n",
        "    'ginecologista'\n",
        "]\n",
        "\n",
        "import matplotlib.pylab as plt\n",
        "\n",
        "f, ax = plt.subplots(1, figsize=(10, 10))\n",
        "\n",
        "we_genero.plot_projection_scores(\n",
        "    profissoes_neutras + fem[:1] + masc[:1],\n",
        "    n_extreme=20,\n",
        "    ax=ax);"
      ],
      "execution_count": null,
      "outputs": [
        {
          "output_type": "display_data",
          "data": {
            "image/png": "[encoded data removed]",
            "text/plain": [
              "<Figure size 720x720 with 1 Axes>"
            ]
          },
          "metadata": {
            "needs_background": "light"
          }
        }
      ]
    },
    {
      "cell_type": "code",
      "metadata": {
        "colab": {
          "base_uri": "https://localhost:8080/"
        },
        "id": "ZuqRiZ40HLD5",
        "outputId": "f62d7292-436e-4600-cebf-aeca4f00b33a"
      },
      "source": [
        "profissoes_nao_neutras = [\n",
        "    'médico',\n",
        "    'médica',\n",
        "    'professor',\n",
        "    'professora',\n",
        "    'engenheiro',\n",
        "    'engenheira',\n",
        "    'patrão',\n",
        "    'patroa',\n",
        "    'secretário',\n",
        "    'secretária',\n",
        "    'advogado',\n",
        "    'advogada',\n",
        "    'enfermeira',\n",
        "    'enfermeiro',\n",
        "    'maquiador',\n",
        "    'maquiadora',\n",
        "    'jogador',\n",
        "    'jogadora',\n",
        "    'jardineira',\n",
        "    'jardineiro',\n",
        "    'vendedor',\n",
        "    'vendedora',\n",
        "    'veterinária',\n",
        "    'veterinário'\n",
        "]\n",
        "\n",
        "import matplotlib.pylab as plt\n",
        "\n",
        "f, ax = plt.subplots(1, figsize=(10, 10))\n",
        "\n",
        "we_genero.plot_projection_scores(\n",
        "    profissoes_nao_neutras + fem[:1] + masc[:1],\n",
        "    n_extreme=20,\n",
        "    ax=ax);"
      ],
      "execution_count": null,
      "outputs": [
        {
          "output_type": "display_data",
          "data": {
            "image/png": "[encoded data removed]",
            "text/plain": [
              "<Figure size 720x720 with 1 Axes>"
            ]
          },
          "metadata": {
            "needs_background": "light"
          }
        }
      ]
    },
    {
      "cell_type": "code",
      "metadata": {
        "colab": {
          "base_uri": "https://localhost:8080/"
        },
        "id": "ZrERNfmDIPpX",
        "outputId": "191d0cd8-e7a0-44b6-f431-dd619a8c93e6"
      },
      "source": [
        "profissoes = [\n",
        "    'médico',\n",
        "    'médica',\n",
        "    'professor',\n",
        "    'professora',\n",
        "    'engenheiro',\n",
        "    'engenheira',\n",
        "    'patrão',\n",
        "    'patroa',\n",
        "    'secretário',\n",
        "    'secretária',\n",
        "    'advogado',\n",
        "    'advogada',\n",
        "    'enfermeira',\n",
        "    'enfermeiro',\n",
        "    'maquiador',\n",
        "    'maquiadora',\n",
        "    'jogador',\n",
        "    'jogadora',\n",
        "    'jardineira',\n",
        "    'jardineiro',\n",
        "    'vendedor',\n",
        "    'vendedora',\n",
        "    'chefe',\n",
        "    'colunista',\n",
        "    'assistente',\n",
        "    'taxista',\n",
        "    'psiquiatra',\n",
        "    'policial',\n",
        "    'dentista',\n",
        "    'eletricista',\n",
        "    'economista',\n",
        "    'atleta',\n",
        "    'terapeuta',\n",
        "    'piloto',\n",
        "    'modelo',\n",
        "    'estudante',\n",
        "    'comerciante',\n",
        "    'militar',\n",
        "    'cientista',\n",
        "    'designer',\n",
        "    'contabilista',\n",
        "    'gerente',\n",
        "    'artista',\n",
        "    'analista',\n",
        "    'jornalista',\n",
        "    'diarista'\n",
        "]\n",
        "\n",
        "import matplotlib.pylab as plt\n",
        "\n",
        "f, ax = plt.subplots(1, figsize=(10, 10))\n",
        "\n",
        "we_genero.plot_projection_scores(\n",
        "    profissoes + fem[:1] + masc[:1],\n",
        "    n_extreme=20,\n",
        "    ax=ax);"
      ],
      "execution_count": null,
      "outputs": [
        {
          "output_type": "display_data",
          "data": {
            "image/png": "[encoded data removed]",
            "text/plain": [
              "<Figure size 720x720 with 1 Axes>"
            ]
          },
          "metadata": {
            "needs_background": "light"
          }
        }
      ]
    },
    {
      "cell_type": "code",
      "metadata": {
        "colab": {
          "base_uri": "https://localhost:8080/"
        },
        "id": "fcBgTIt_NiKW",
        "outputId": "cf8d60a3-104e-451e-dc3a-7161c79dfc79"
      },
      "source": [
        "adjetivos = [\n",
        "    'inteligente',\n",
        "    'humilde',\n",
        "    'amável',\n",
        "    'doce',\n",
        "    'paciente',\n",
        "    'popular',\n",
        "    'flexível',\n",
        "    'grande',\n",
        "    'brilhante',\n",
        "    'inocente',\n",
        "    'fácil',\n",
        "    'agradável',\n",
        "    'infeliz',\n",
        "    'capaz',\n",
        "    'difícil',\n",
        "    'temperamental'\n",
        "]\n",
        "\n",
        "import matplotlib.pylab as plt\n",
        "\n",
        "f, ax = plt.subplots(1, figsize=(10, 10))\n",
        "\n",
        "we_genero.plot_projection_scores(\n",
        "    adjetivos + fem[:1] + masc[:1],\n",
        "    n_extreme=20,\n",
        "    ax=ax);"
      ],
      "execution_count": null,
      "outputs": [
        {
          "output_type": "display_data",
          "data": {
            "image/png": "[encoded data removed]",
            "text/plain": [
              "<Figure size 720x720 with 1 Axes>"
            ]
          },
          "metadata": {
            "needs_background": "light"
          }
        }
      ]
    },
    {
      "cell_type": "markdown",
      "metadata": {
        "id": "EmiCxR_mgDky"
      },
      "source": [
        "## Trabalhando com frases"
      ]
    },
    {
      "cell_type": "code",
      "metadata": {
        "colab": {
          "base_uri": "https://localhost:8080/"
        },
        "id": "dIzVFA2UgKrr",
        "outputId": "c18f50e4-52ba-4e19-bd3f-8ebd2003c492"
      },
      "source": [
        "import nltk\n",
        "import string\n",
        "nltk.download('punkt')\n",
        "\n",
        "def tokenizer(text):\n",
        "  text = text.lower()\n",
        "  alphanumeric_list = []\n",
        "\n",
        "  for valid_token in nltk.word_tokenize(text):\n",
        "    if valid_token in string.punctuation: continue\n",
        "    alphanumeric_list.append(valid_token)\n",
        "\n",
        "  return alphanumeric_list"
      ],
      "execution_count": null,
      "outputs": [
        {
          "output_type": "stream",
          "name": "stdout",
          "text": [
            "[nltk_data] Downloading package punkt to /root/nltk_data...\n",
            "[nltk_data]   Unzipping tokenizers/punkt.zip.\n"
          ]
        }
      ]
    },
    {
      "cell_type": "code",
      "metadata": {
        "id": "7li3P0xthKgf"
      },
      "source": [
        "import numpy as np\n",
        "def vectors_combination_by_sum(words_numbers): \n",
        "  result = np.zeros(300)\n",
        "\n",
        "  for wn in words_numbers:\n",
        "    result += modelo.get_vector(wn)\n",
        "\n",
        "  return result"
      ],
      "execution_count": null,
      "outputs": []
    },
    {
      "cell_type": "code",
      "metadata": {
        "colab": {
          "base_uri": "https://localhost:8080/"
        },
        "id": "8aa9JDx_iN7J",
        "outputId": "4dc92245-81d8-48c4-a23c-15e4ff227c16"
      },
      "source": [
        "phrase_vector = vectors_combination_by_sum(tokenizer(\"ela médica\"))\n",
        "gender_direction @ phrase_vector"
      ],
      "execution_count": null,
      "outputs": [
        {
          "output_type": "execute_result",
          "data": {
            "text/plain": [
              "0.060209175628117645"
            ]
          },
          "metadata": {},
          "execution_count": 53
        }
      ]
    },
    {
      "cell_type": "code",
      "metadata": {
        "colab": {
          "base_uri": "https://localhost:8080/"
        },
        "id": "ZeB7sSbpi2Jn",
        "outputId": "eed66b4b-e64d-4e1a-ef70-aedf5dd20d4c"
      },
      "source": [
        "phrase_vector = vectors_combination_by_sum(tokenizer(\"ele médico\"))\n",
        "gender_direction @ phrase_vector"
      ],
      "execution_count": null,
      "outputs": [
        {
          "output_type": "execute_result",
          "data": {
            "text/plain": [
              "-0.22263816622453944"
            ]
          },
          "metadata": {},
          "execution_count": 54
        }
      ]
    },
    {
      "cell_type": "code",
      "metadata": {
        "id": "n5ByLCH6qv4w",
        "colab": {
          "base_uri": "https://localhost:8080/"
        },
        "outputId": "4e1ac744-43ef-4162-ac46-02b6bd0ae54a"
      },
      "source": [
        "phrase_vector = vectors_combination_by_sum(tokenizer(\"brinca boneca\"))\n",
        "gender_direction @ phrase_vector"
      ],
      "execution_count": null,
      "outputs": [
        {
          "output_type": "execute_result",
          "data": {
            "text/plain": [
              "0.411365930416229"
            ]
          },
          "metadata": {},
          "execution_count": 55
        }
      ]
    },
    {
      "cell_type": "code",
      "metadata": {
        "id": "YytrBN4lqyDh",
        "colab": {
          "base_uri": "https://localhost:8080/"
        },
        "outputId": "6044f4e2-3bd6-4aa5-e9f4-94efe2aed98d"
      },
      "source": [
        "phrase_vector = vectors_combination_by_sum(tokenizer(\"brinca boneco\"))\n",
        "gender_direction @ phrase_vector"
      ],
      "execution_count": null,
      "outputs": [
        {
          "output_type": "execute_result",
          "data": {
            "text/plain": [
              "-0.27064488703860284"
            ]
          },
          "metadata": {},
          "execution_count": 56
        }
      ]
    },
    {
      "cell_type": "code",
      "metadata": {
        "colab": {
          "base_uri": "https://localhost:8080/"
        },
        "id": "NSg_mV-Ni4Xp",
        "outputId": "2519be62-c75e-4b76-9095-774aba85598c"
      },
      "source": [
        "phrase_vector = vectors_combination_by_sum(tokenizer(\"profissional sucesso\"))\n",
        "gender_direction @ phrase_vector"
      ],
      "execution_count": null,
      "outputs": [
        {
          "output_type": "execute_result",
          "data": {
            "text/plain": [
              "-0.20021881874815856"
            ]
          },
          "metadata": {},
          "execution_count": 57
        }
      ]
    },
    {
      "cell_type": "code",
      "metadata": {
        "colab": {
          "base_uri": "https://localhost:8080/"
        },
        "id": "5_yx__UfqnVk",
        "outputId": "d97e0f5a-f5f0-47d6-a5b7-a5ee6cc78e74"
      },
      "source": [
        "phrase_vector = vectors_combination_by_sum(tokenizer(\"lidera time\"))\n",
        "gender_direction @ phrase_vector"
      ],
      "execution_count": null,
      "outputs": [
        {
          "output_type": "execute_result",
          "data": {
            "text/plain": [
              "-0.30270481481859696"
            ]
          },
          "metadata": {},
          "execution_count": 58
        }
      ]
    },
    {
      "cell_type": "code",
      "metadata": {
        "colab": {
          "base_uri": "https://localhost:8080/"
        },
        "id": "2UY7w1-kjX80",
        "outputId": "235e1656-0e94-46eb-ca6a-381536125320"
      },
      "source": [
        "phrase_vector = vectors_combination_by_sum(tokenizer(\"limpa casa\"))\n",
        "gender_direction @ phrase_vector"
      ],
      "execution_count": null,
      "outputs": [
        {
          "output_type": "execute_result",
          "data": {
            "text/plain": [
              "0.2538713269794386"
            ]
          },
          "metadata": {},
          "execution_count": 59
        }
      ]
    },
    {
      "cell_type": "code",
      "metadata": {
        "colab": {
          "base_uri": "https://localhost:8080/"
        },
        "id": "FW8sSW6sjhYB",
        "outputId": "b7c8ffbe-6a21-4c2c-aab1-aff1b0b578f4"
      },
      "source": [
        "phrase_vector = vectors_combination_by_sum(tokenizer(\"joga futebol\"))\n",
        "gender_direction @ phrase_vector"
      ],
      "execution_count": null,
      "outputs": [
        {
          "output_type": "execute_result",
          "data": {
            "text/plain": [
              "-0.062119212909909585"
            ]
          },
          "metadata": {},
          "execution_count": 60
        }
      ]
    },
    {
      "cell_type": "code",
      "metadata": {
        "colab": {
          "base_uri": "https://localhost:8080/"
        },
        "id": "zkI1x1nLjttz",
        "outputId": "b8005f94-3f4d-477f-d082-e486824be213"
      },
      "source": [
        "phrase_vector = vectors_combination_by_sum(tokenizer(\"joga vôlei\"))\n",
        "gender_direction @ phrase_vector"
      ],
      "execution_count": null,
      "outputs": [
        {
          "output_type": "execute_result",
          "data": {
            "text/plain": [
              "-0.04149664663034272"
            ]
          },
          "metadata": {},
          "execution_count": 61
        }
      ]
    },
    {
      "cell_type": "code",
      "metadata": {
        "colab": {
          "base_uri": "https://localhost:8080/"
        },
        "id": "iuT7ikTPqTy1",
        "outputId": "5c9fc492-1531-4f6c-fdd9-f13738808501"
      },
      "source": [
        "# !!!\n",
        "phrase_vector = vectors_combination_by_sum(tokenizer(\"estudante medicina\"))\n",
        "gender_direction @ phrase_vector"
      ],
      "execution_count": null,
      "outputs": [
        {
          "output_type": "execute_result",
          "data": {
            "text/plain": [
              "-0.024254228625683372"
            ]
          },
          "metadata": {},
          "execution_count": 62
        }
      ]
    },
    {
      "cell_type": "code",
      "metadata": {
        "colab": {
          "base_uri": "https://localhost:8080/"
        },
        "id": "doBYUAdvqUl_",
        "outputId": "9a02708d-33cc-4b3e-e757-9985a7cb94c9"
      },
      "source": [
        "# !!!\n",
        "phrase_vector = vectors_combination_by_sum(tokenizer(\"estudante engenharia\"))\n",
        "gender_direction @ phrase_vector"
      ],
      "execution_count": null,
      "outputs": [
        {
          "output_type": "execute_result",
          "data": {
            "text/plain": [
              "0.008829181197421692"
            ]
          },
          "metadata": {},
          "execution_count": 63
        }
      ]
    },
    {
      "cell_type": "code",
      "metadata": {
        "colab": {
          "base_uri": "https://localhost:8080/"
        },
        "id": "5ZzPt4GMqYF3",
        "outputId": "2a8df48c-6594-4ce2-c959-1453530b23ff"
      },
      "source": [
        "# !!!\n",
        "phrase_vector = vectors_combination_by_sum(tokenizer(\"estudante enfermagem\"))\n",
        "gender_direction @ phrase_vector"
      ],
      "execution_count": null,
      "outputs": [
        {
          "output_type": "execute_result",
          "data": {
            "text/plain": [
              "0.02165535805681795"
            ]
          },
          "metadata": {},
          "execution_count": 64
        }
      ]
    },
    {
      "cell_type": "code",
      "metadata": {
        "colab": {
          "base_uri": "https://localhost:8080/"
        },
        "id": "BhDQ-Rllq-a1",
        "outputId": "ca5d8bb4-ef45-4e88-8330-b9a594c525bc"
      },
      "source": [
        "phrase_vector = vectors_combination_by_sum(tokenizer(\"especialista assunto\"))\n",
        "gender_direction @ phrase_vector"
      ],
      "execution_count": null,
      "outputs": [
        {
          "output_type": "execute_result",
          "data": {
            "text/plain": [
              "-0.34622833175095424"
            ]
          },
          "metadata": {},
          "execution_count": 65
        }
      ]
    },
    {
      "cell_type": "code",
      "metadata": {
        "colab": {
          "base_uri": "https://localhost:8080/"
        },
        "id": "trY2svCh-VFW",
        "outputId": "5900910d-2355-4d47-8987-2e638b092801"
      },
      "source": [
        "phrase_vector = vectors_combination_by_sum(tokenizer(\"especialista área\"))\n",
        "gender_direction @ phrase_vector"
      ],
      "execution_count": null,
      "outputs": [
        {
          "output_type": "execute_result",
          "data": {
            "text/plain": [
              "0.027685203451685715"
            ]
          },
          "metadata": {},
          "execution_count": 66
        }
      ]
    }
  ]
}