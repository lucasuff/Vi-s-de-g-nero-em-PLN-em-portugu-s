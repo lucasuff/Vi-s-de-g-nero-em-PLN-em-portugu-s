{
  "nbformat": 4,
  "nbformat_minor": 0,
  "metadata": {
    "colab": {
      "name": "PBERT.ipynb",
      "provenance": [],
      "collapsed_sections": [
        "_mieFNL5RF9t",
        "MYMWBq5uRLaJ",
        "H6zCOlgXRPH1"
      ],
      "mount_file_id": "1IZMrx4FS5N_Ef1sxJH_vwNe2WKUuN4Z9",
      "authorship_tag": "ABX9TyOR4YXywTolQn9zi0Zje+R2",
      "include_colab_link": true
    },
    "kernelspec": {
      "display_name": "Python 3",
      "name": "python3"
    },
    "language_info": {
      "name": "python"
    }
  },
  "cells": [
    {
      "cell_type": "markdown",
      "metadata": {
        "id": "view-in-github",
        "colab_type": "text"
      },
      "source": [
        "<a href=\"https://colab.research.google.com/github/lucasuff/Vies-de-genero-em-PLN-em-portugues/blob/main/PBERT.ipynb\" target=\"_parent\"><img src=\"https://colab.research.google.com/assets/colab-badge.svg\" alt=\"Open In Colab\"/></a>"
      ]
    },
    {
      "cell_type": "code",
      "metadata": {
        "colab": {
          "base_uri": "https://localhost:8080/",
          "height": 900
        },
        "id": "4pJ7pDIntPiw",
        "outputId": "aaefe1d6-8e78-471c-bd4b-daec3435afa1"
      },
      "source": [
        "%pip install responsibly"
      ],
      "execution_count": null,
      "outputs": [
        {
          "output_type": "stream",
          "name": "stdout",
          "text": [
            "Collecting responsibly\n",
            "  Downloading responsibly-0.1.3-py3-none-any.whl (28.2 MB)\n",
            "\u001b[K     |████████████████████████████████| 28.2 MB 1.4 MB/s \n",
            "\u001b[?25hRequirement already satisfied: tabulate>=0.8 in /usr/local/lib/python3.7/dist-packages (from responsibly) (0.8.9)\n",
            "Requirement already satisfied: numpy>=1.15 in /usr/local/lib/python3.7/dist-packages (from responsibly) (1.19.5)\n",
            "Collecting gensim<3.8,>=3.7\n",
            "  Downloading gensim-3.7.3-cp37-cp37m-manylinux1_x86_64.whl (24.2 MB)\n",
            "\u001b[K     |████████████████████████████████| 24.2 MB 1.3 MB/s \n",
            "\u001b[?25hRequirement already satisfied: pandas>=0.23 in /usr/local/lib/python3.7/dist-packages (from responsibly) (1.1.5)\n",
            "Requirement already satisfied: seaborn>=0.9 in /usr/local/lib/python3.7/dist-packages (from responsibly) (0.11.2)\n",
            "Requirement already satisfied: mlxtend<0.17,>=0.13 in /usr/local/lib/python3.7/dist-packages (from responsibly) (0.14.0)\n",
            "Requirement already satisfied: six>=1.10 in /usr/local/lib/python3.7/dist-packages (from responsibly) (1.15.0)\n",
            "Requirement already satisfied: scipy>=1.1 in /usr/local/lib/python3.7/dist-packages (from responsibly) (1.4.1)\n",
            "Requirement already satisfied: tqdm>=4.24 in /usr/local/lib/python3.7/dist-packages (from responsibly) (4.62.3)\n",
            "Collecting matplotlib<3,>=2.2\n",
            "  Downloading matplotlib-2.2.5-cp37-cp37m-manylinux1_x86_64.whl (12.8 MB)\n",
            "\u001b[K     |████████████████████████████████| 12.8 MB 33.9 MB/s \n",
            "\u001b[?25hRequirement already satisfied: scikit-learn>=0.19 in /usr/local/lib/python3.7/dist-packages (from responsibly) (1.0.2)\n",
            "Requirement already satisfied: click>=6.0 in /usr/local/lib/python3.7/dist-packages (from responsibly) (7.1.2)\n",
            "Requirement already satisfied: smart-open>=1.7.0 in /usr/local/lib/python3.7/dist-packages (from gensim<3.8,>=3.7->responsibly) (5.2.1)\n",
            "Requirement already satisfied: kiwisolver>=1.0.1 in /usr/local/lib/python3.7/dist-packages (from matplotlib<3,>=2.2->responsibly) (1.3.2)\n",
            "Requirement already satisfied: pytz in /usr/local/lib/python3.7/dist-packages (from matplotlib<3,>=2.2->responsibly) (2018.9)\n",
            "Requirement already satisfied: cycler>=0.10 in /usr/local/lib/python3.7/dist-packages (from matplotlib<3,>=2.2->responsibly) (0.11.0)\n",
            "Requirement already satisfied: pyparsing!=2.0.4,!=2.1.2,!=2.1.6,>=2.0.1 in /usr/local/lib/python3.7/dist-packages (from matplotlib<3,>=2.2->responsibly) (3.0.6)\n",
            "Requirement already satisfied: python-dateutil>=2.1 in /usr/local/lib/python3.7/dist-packages (from matplotlib<3,>=2.2->responsibly) (2.8.2)\n",
            "Requirement already satisfied: setuptools in /usr/local/lib/python3.7/dist-packages (from mlxtend<0.17,>=0.13->responsibly) (57.4.0)\n",
            "Requirement already satisfied: joblib>=0.11 in /usr/local/lib/python3.7/dist-packages (from scikit-learn>=0.19->responsibly) (1.1.0)\n",
            "Requirement already satisfied: threadpoolctl>=2.0.0 in /usr/local/lib/python3.7/dist-packages (from scikit-learn>=0.19->responsibly) (3.0.0)\n",
            "Installing collected packages: matplotlib, gensim, responsibly\n",
            "  Attempting uninstall: matplotlib\n",
            "    Found existing installation: matplotlib 3.2.2\n",
            "    Uninstalling matplotlib-3.2.2:\n",
            "      Successfully uninstalled matplotlib-3.2.2\n",
            "  Attempting uninstall: gensim\n",
            "    Found existing installation: gensim 3.6.0\n",
            "    Uninstalling gensim-3.6.0:\n",
            "      Successfully uninstalled gensim-3.6.0\n",
            "\u001b[31mERROR: pip's dependency resolver does not currently take into account all the packages that are installed. This behaviour is the source of the following dependency conflicts.\n",
            "plotnine 0.6.0 requires matplotlib>=3.1.1, but you have matplotlib 2.2.5 which is incompatible.\n",
            "mizani 0.6.0 requires matplotlib>=3.1.1, but you have matplotlib 2.2.5 which is incompatible.\n",
            "arviz 0.11.4 requires matplotlib>=3.0, but you have matplotlib 2.2.5 which is incompatible.\n",
            "albumentations 0.1.12 requires imgaug<0.2.7,>=0.2.5, but you have imgaug 0.2.9 which is incompatible.\u001b[0m\n",
            "Successfully installed gensim-3.7.3 matplotlib-2.2.5 responsibly-0.1.3\n"
          ]
        },
        {
          "output_type": "display_data",
          "data": {
            "application/vnd.colab-display-data+json": {
              "pip_warning": {
                "packages": [
                  "matplotlib",
                  "mpl_toolkits"
                ]
              }
            }
          },
          "metadata": {}
        }
      ]
    },
    {
      "cell_type": "code",
      "metadata": {
        "colab": {
          "base_uri": "https://localhost:8080/"
        },
        "id": "_22pXGWbKudo",
        "outputId": "6cf33cc4-5897-44ec-ef99-a3da49dfb686"
      },
      "source": [
        "!pip install stylecloud"
      ],
      "execution_count": null,
      "outputs": [
        {
          "output_type": "stream",
          "name": "stdout",
          "text": [
            "Requirement already satisfied: stylecloud in /usr/local/lib/python3.7/dist-packages (0.5.2)\n",
            "Requirement already satisfied: palettable in /usr/local/lib/python3.7/dist-packages (from stylecloud) (3.3.0)\n",
            "Requirement already satisfied: fire in /usr/local/lib/python3.7/dist-packages (from stylecloud) (0.4.0)\n",
            "Requirement already satisfied: matplotlib in /usr/local/lib/python3.7/dist-packages (from stylecloud) (2.2.5)\n",
            "Requirement already satisfied: icon-font-to-png in /usr/local/lib/python3.7/dist-packages (from stylecloud) (0.4.1)\n",
            "Requirement already satisfied: wordcloud in /usr/local/lib/python3.7/dist-packages (from stylecloud) (1.5.0)\n",
            "Requirement already satisfied: termcolor in /usr/local/lib/python3.7/dist-packages (from fire->stylecloud) (1.1.0)\n",
            "Requirement already satisfied: six in /usr/local/lib/python3.7/dist-packages (from fire->stylecloud) (1.15.0)\n",
            "Requirement already satisfied: tinycss>=0.4 in /usr/local/lib/python3.7/dist-packages (from icon-font-to-png->stylecloud) (0.4)\n",
            "Requirement already satisfied: requests>=2.12.5 in /usr/local/lib/python3.7/dist-packages (from icon-font-to-png->stylecloud) (2.23.0)\n",
            "Requirement already satisfied: Pillow>=4.0.0 in /usr/local/lib/python3.7/dist-packages (from icon-font-to-png->stylecloud) (7.1.2)\n",
            "Requirement already satisfied: certifi>=2017.4.17 in /usr/local/lib/python3.7/dist-packages (from requests>=2.12.5->icon-font-to-png->stylecloud) (2021.10.8)\n",
            "Requirement already satisfied: chardet<4,>=3.0.2 in /usr/local/lib/python3.7/dist-packages (from requests>=2.12.5->icon-font-to-png->stylecloud) (3.0.4)\n",
            "Requirement already satisfied: idna<3,>=2.5 in /usr/local/lib/python3.7/dist-packages (from requests>=2.12.5->icon-font-to-png->stylecloud) (2.10)\n",
            "Requirement already satisfied: urllib3!=1.25.0,!=1.25.1,<1.26,>=1.21.1 in /usr/local/lib/python3.7/dist-packages (from requests>=2.12.5->icon-font-to-png->stylecloud) (1.24.3)\n",
            "Requirement already satisfied: numpy>=1.7.1 in /usr/local/lib/python3.7/dist-packages (from matplotlib->stylecloud) (1.19.5)\n",
            "Requirement already satisfied: pytz in /usr/local/lib/python3.7/dist-packages (from matplotlib->stylecloud) (2018.9)\n",
            "Requirement already satisfied: pyparsing!=2.0.4,!=2.1.2,!=2.1.6,>=2.0.1 in /usr/local/lib/python3.7/dist-packages (from matplotlib->stylecloud) (3.0.6)\n",
            "Requirement already satisfied: python-dateutil>=2.1 in /usr/local/lib/python3.7/dist-packages (from matplotlib->stylecloud) (2.8.2)\n",
            "Requirement already satisfied: cycler>=0.10 in /usr/local/lib/python3.7/dist-packages (from matplotlib->stylecloud) (0.11.0)\n",
            "Requirement already satisfied: kiwisolver>=1.0.1 in /usr/local/lib/python3.7/dist-packages (from matplotlib->stylecloud) (1.3.2)\n"
          ]
        }
      ]
    },
    {
      "cell_type": "code",
      "metadata": {
        "id": "FEwqLeAVviDK"
      },
      "source": [
        "from gensim.models import KeyedVectors\n",
        "\n",
        "modelo = KeyedVectors.load(\"/content/drive/MyDrive/curso_word2vec/BertEmbeddings/PreTrainedkvWord2vec.kvmodel\")"
      ],
      "execution_count": null,
      "outputs": []
    },
    {
      "cell_type": "code",
      "metadata": {
        "colab": {
          "base_uri": "https://localhost:8080/"
        },
        "id": "vi2SNoUMgp8Z",
        "outputId": "8d8503dc-f12e-4ee5-b830-841c24749a53"
      },
      "source": [
        "print(len(modelo.wv.vocab))"
      ],
      "execution_count": null,
      "outputs": [
        {
          "output_type": "stream",
          "name": "stdout",
          "text": [
            "130653\n"
          ]
        },
        {
          "output_type": "stream",
          "name": "stderr",
          "text": [
            "/usr/local/lib/python3.7/dist-packages/ipykernel_launcher.py:1: DeprecationWarning: Call to deprecated `wv` (Attribute will be removed in 4.0.0, use self instead).\n"
          ]
        }
      ]
    },
    {
      "cell_type": "code",
      "metadata": {
        "colab": {
          "base_uri": "https://localhost:8080/"
        },
        "id": "N4UBE6vhk44O",
        "outputId": "63634aed-01e3-4191-b59c-cfda285069e2"
      },
      "source": [
        "modelo.most_similar(\"mulher\")"
      ],
      "execution_count": null,
      "outputs": [
        {
          "output_type": "execute_result",
          "data": {
            "text/plain": [
              "[('mulheres', 0.9551831483840942),\n",
              " ('homens', 0.8605526089668274),\n",
              " ('feminina', 0.8545187711715698),\n",
              " ('feminista', 0.8529975414276123),\n",
              " ('feminino', 0.8521925210952759),\n",
              " ('menina', 0.8390942811965942),\n",
              " ('casada', 0.8368611335754395),\n",
              " ('esposa', 0.8306281566619873),\n",
              " ('garotas', 0.8300952911376953),\n",
              " ('fêmea', 0.825476348400116)]"
            ]
          },
          "metadata": {},
          "execution_count": 139
        }
      ]
    },
    {
      "cell_type": "code",
      "metadata": {
        "colab": {
          "base_uri": "https://localhost:8080/"
        },
        "id": "ezyha1NKk6wh",
        "outputId": "d5492a78-7ea4-47f4-e32d-58e9889cb98e"
      },
      "source": [
        "modelo.most_similar(\"homem\")"
      ],
      "execution_count": null,
      "outputs": [
        {
          "output_type": "execute_result",
          "data": {
            "text/plain": [
              "[('homens', 0.8658441305160522),\n",
              " ('mulher', 0.7673506140708923),\n",
              " ('humano', 0.7557290196418762),\n",
              " ('humanos', 0.7315664291381836),\n",
              " ('humana', 0.7277746200561523),\n",
              " ('indivíduo', 0.7112603783607483),\n",
              " ('macho', 0.7095926403999329),\n",
              " ('mulheres', 0.7025148868560791),\n",
              " ('humanidade', 0.700334906578064),\n",
              " ('universo', 0.6971995830535889)]"
            ]
          },
          "metadata": {},
          "execution_count": 140
        }
      ]
    },
    {
      "cell_type": "markdown",
      "metadata": {
        "id": "_mieFNL5RF9t"
      },
      "source": [
        "## Doesnt match "
      ]
    },
    {
      "cell_type": "code",
      "metadata": {
        "colab": {
          "base_uri": "https://localhost:8080/"
        },
        "id": "lWGz2J_CNSJy",
        "outputId": "e3f5dc67-5bc0-479a-9b02-41919fec3954"
      },
      "source": [
        "modelo.doesnt_match(\"gato girafa macaco pessoa\".split())"
      ],
      "execution_count": null,
      "outputs": [
        {
          "output_type": "stream",
          "name": "stderr",
          "text": [
            "/usr/local/lib/python3.7/dist-packages/gensim/models/keyedvectors.py:876: FutureWarning: arrays to stack must be passed as a \"sequence\" type such as list or tuple. Support for non-sequence iterables such as generators is deprecated as of NumPy 1.16 and will raise an error in the future.\n"
          ]
        },
        {
          "output_type": "execute_result",
          "data": {
            "application/vnd.google.colaboratory.intrinsic+json": {
              "type": "string"
            },
            "text/plain": [
              "'pessoa'"
            ]
          },
          "metadata": {},
          "execution_count": 141
        }
      ]
    },
    {
      "cell_type": "code",
      "metadata": {
        "colab": {
          "base_uri": "https://localhost:8080/"
        },
        "id": "rN5-LAKINV9p",
        "outputId": "689f35d4-5f82-4074-e3f4-709858501789"
      },
      "source": [
        "modelo.doesnt_match(\"caneta lápis borracha papel avião\".split())"
      ],
      "execution_count": null,
      "outputs": [
        {
          "output_type": "stream",
          "name": "stderr",
          "text": [
            "/usr/local/lib/python3.7/dist-packages/gensim/models/keyedvectors.py:876: FutureWarning: arrays to stack must be passed as a \"sequence\" type such as list or tuple. Support for non-sequence iterables such as generators is deprecated as of NumPy 1.16 and will raise an error in the future.\n"
          ]
        },
        {
          "output_type": "execute_result",
          "data": {
            "application/vnd.google.colaboratory.intrinsic+json": {
              "type": "string"
            },
            "text/plain": [
              "'avião'"
            ]
          },
          "metadata": {},
          "execution_count": 142
        }
      ]
    },
    {
      "cell_type": "code",
      "metadata": {
        "colab": {
          "base_uri": "https://localhost:8080/"
        },
        "id": "hRF0uOjJIJCy",
        "outputId": "9535c1bb-0592-4b83-816a-db0de0c4b465"
      },
      "source": [
        "modelo.doesnt_match(\"enfermeira enfermeiro advogada advogado empregada empregado engenheiro engenheira\".split())"
      ],
      "execution_count": null,
      "outputs": [
        {
          "output_type": "stream",
          "name": "stderr",
          "text": [
            "/usr/local/lib/python3.7/dist-packages/gensim/models/keyedvectors.py:876: FutureWarning: arrays to stack must be passed as a \"sequence\" type such as list or tuple. Support for non-sequence iterables such as generators is deprecated as of NumPy 1.16 and will raise an error in the future.\n"
          ]
        },
        {
          "output_type": "execute_result",
          "data": {
            "application/vnd.google.colaboratory.intrinsic+json": {
              "type": "string"
            },
            "text/plain": [
              "'advogado'"
            ]
          },
          "metadata": {},
          "execution_count": 143
        }
      ]
    },
    {
      "cell_type": "code",
      "metadata": {
        "colab": {
          "base_uri": "https://localhost:8080/"
        },
        "id": "2xydWOR5IkE5",
        "outputId": "031b3d54-3af9-4fab-a5d5-ff4c25e8382b"
      },
      "source": [
        "# !!!!!\n",
        "modelo.doesnt_match(\"sucesso dinheiro chefe homem mulher\".split())"
      ],
      "execution_count": null,
      "outputs": [
        {
          "output_type": "stream",
          "name": "stderr",
          "text": [
            "/usr/local/lib/python3.7/dist-packages/gensim/models/keyedvectors.py:876: FutureWarning: arrays to stack must be passed as a \"sequence\" type such as list or tuple. Support for non-sequence iterables such as generators is deprecated as of NumPy 1.16 and will raise an error in the future.\n"
          ]
        },
        {
          "output_type": "execute_result",
          "data": {
            "application/vnd.google.colaboratory.intrinsic+json": {
              "type": "string"
            },
            "text/plain": [
              "'homem'"
            ]
          },
          "metadata": {},
          "execution_count": 144
        }
      ]
    },
    {
      "cell_type": "markdown",
      "metadata": {
        "id": "MYMWBq5uRLaJ"
      },
      "source": [
        "## Most Similar"
      ]
    },
    {
      "cell_type": "code",
      "metadata": {
        "colab": {
          "base_uri": "https://localhost:8080/"
        },
        "id": "Z1F-zF2zMWE7",
        "outputId": "df0ecca5-49df-4218-f5a6-4451e262dcdf"
      },
      "source": [
        "modelo.most_similar(positive=[\"estrelas\", \"nuvem\"], negative=[\"estrela\"])"
      ],
      "execution_count": null,
      "outputs": [
        {
          "output_type": "execute_result",
          "data": {
            "text/plain": [
              "[('nuvens', 0.9250509142875671),\n",
              " ('partículas', 0.8475222587585449),\n",
              " ('cinzas', 0.8438171744346619),\n",
              " ('relíquias', 0.8367918729782104),\n",
              " ('estruturas', 0.8354862332344055),\n",
              " ('secas', 0.8350520730018616),\n",
              " ('chuvas', 0.8338948488235474),\n",
              " ('fósseis', 0.8323013782501221),\n",
              " ('tempestades', 0.8309152126312256),\n",
              " ('organismos', 0.8303306698799133)]"
            ]
          },
          "metadata": {},
          "execution_count": 145
        }
      ]
    },
    {
      "cell_type": "code",
      "metadata": {
        "colab": {
          "base_uri": "https://localhost:8080/"
        },
        "id": "s_sqjKW0Ms7u",
        "outputId": "fc0ccc70-2086-4122-9122-91b88ab40912"
      },
      "source": [
        "modelo.most_similar(positive=[\"corrida\", \"caminhar\"], negative=[\"correr\"])"
      ],
      "execution_count": null,
      "outputs": [
        {
          "output_type": "execute_result",
          "data": {
            "text/plain": [
              "[('toilet', 0.8877040147781372),\n",
              " ('supervisionada', 0.8877040147781372),\n",
              " ('demoliner', 0.8877040147781372),\n",
              " ('rumaram', 0.8877040147781372),\n",
              " ('viagensexperimentar', 0.8877040147781372),\n",
              " ('amigasapesar', 0.8877040147781372),\n",
              " ('evidenciou', 0.8877040147781372),\n",
              " ('tarefasdurantes', 0.8877040147781372),\n",
              " ('propagada', 0.8877040147781372),\n",
              " ('sticky', 0.8877040147781372)]"
            ]
          },
          "metadata": {},
          "execution_count": 146
        }
      ]
    },
    {
      "cell_type": "code",
      "metadata": {
        "colab": {
          "base_uri": "https://localhost:8080/"
        },
        "id": "_i0GWV6vM35q",
        "outputId": "674c0d59-3dd4-4fb2-e9b4-d13f2aa4d80c"
      },
      "source": [
        "modelo.most_similar(positive=[\"comi\", \"beber\"], negative=[\"comer\"])"
      ],
      "execution_count": null,
      "outputs": [
        {
          "output_type": "execute_result",
          "data": {
            "text/plain": [
              "[('malapit', 0.8889784812927246),\n",
              " ('acampavam', 0.8889784812927246),\n",
              " ('menorás', 0.8889784812927246),\n",
              " ('cabeceiras', 0.8889784812927246),\n",
              " ('rolph', 0.8889784812927246),\n",
              " ('thassia', 0.8889784812927246),\n",
              " ('cenográfica', 0.8889784812927246),\n",
              " ('jordãoao', 0.8889784812927246),\n",
              " ('babilônios', 0.8889784812927246),\n",
              " ('abrigasse', 0.8889784812927246)]"
            ]
          },
          "metadata": {},
          "execution_count": 147
        }
      ]
    },
    {
      "cell_type": "code",
      "metadata": {
        "colab": {
          "base_uri": "https://localhost:8080/"
        },
        "id": "z2eKXm2KNDZv",
        "outputId": "efb15ec0-01ad-4076-8771-d6139cb6a6ca"
      },
      "source": [
        "modelo.most_similar(positive=[\"estarei\", \"ser\"], negative=[\"estar\"])"
      ],
      "execution_count": null,
      "outputs": [
        {
          "output_type": "execute_result",
          "data": {
            "text/plain": [
              "[('toilet', 0.8702852725982666),\n",
              " ('supervisionada', 0.8702852725982666),\n",
              " ('demoliner', 0.8702852725982666),\n",
              " ('rumaram', 0.8702852725982666),\n",
              " ('viagensexperimentar', 0.8702852725982666),\n",
              " ('amigasapesar', 0.8702852725982666),\n",
              " ('evidenciou', 0.8702852725982666),\n",
              " ('tarefasdurantes', 0.8702852725982666),\n",
              " ('propagada', 0.8702852725982666),\n",
              " ('sticky', 0.8702852725982666)]"
            ]
          },
          "metadata": {},
          "execution_count": 148
        }
      ]
    },
    {
      "cell_type": "code",
      "metadata": {
        "colab": {
          "base_uri": "https://localhost:8080/"
        },
        "id": "ugdf-NPDMkVc",
        "outputId": "e7d0acb8-db92-481f-9517-4eca8c3b780d"
      },
      "source": [
        "modelo.most_similar(positive=[\"professor\", \"mulher\"], negative=[\"homem\"])"
      ],
      "execution_count": null,
      "outputs": [
        {
          "output_type": "execute_result",
          "data": {
            "text/plain": [
              "[('professora', 0.8689028024673462),\n",
              " ('professores', 0.8215305805206299),\n",
              " ('docente', 0.8003883957862854),\n",
              " ('doutor', 0.783723771572113),\n",
              " ('companheira', 0.7783770561218262),\n",
              " ('mestres', 0.7763256430625916),\n",
              " ('coronel', 0.7727473974227905),\n",
              " ('treinador', 0.7673876285552979),\n",
              " ('senhora', 0.7650613188743591),\n",
              " ('mães', 0.7625762820243835)]"
            ]
          },
          "metadata": {},
          "execution_count": 149
        }
      ]
    },
    {
      "cell_type": "code",
      "metadata": {
        "colab": {
          "base_uri": "https://localhost:8080/"
        },
        "id": "S5YFK2TSJDFW",
        "outputId": "c5011b45-e708-4d9f-fc1a-35e29f133c4a"
      },
      "source": [
        "modelo.most_similar(positive=[\"rei\", \"mulher\"], negative=[\"homem\"])"
      ],
      "execution_count": null,
      "outputs": [
        {
          "output_type": "execute_result",
          "data": {
            "text/plain": [
              "[('rainha', 0.8527132272720337),\n",
              " ('reis', 0.817218005657196),\n",
              " ('monarca', 0.7898148894309998),\n",
              " ('príncipe', 0.7895179986953735),\n",
              " ('princesa', 0.7882346510887146),\n",
              " ('imperador', 0.7807390689849854),\n",
              " ('esposa', 0.7766380906105042),\n",
              " ('regente', 0.7716999053955078),\n",
              " ('dama', 0.7622696161270142),\n",
              " ('reinado', 0.7618807554244995)]"
            ]
          },
          "metadata": {},
          "execution_count": 150
        }
      ]
    },
    {
      "cell_type": "code",
      "metadata": {
        "colab": {
          "base_uri": "https://localhost:8080/"
        },
        "id": "85i42ybwvtLI",
        "outputId": "e6795b2e-9c16-4902-c44f-d80517b0a6b5"
      },
      "source": [
        "# !!!!!\n",
        "modelo.most_similar(positive=[\"médico\", \"mulher\"], negative=[\"homem\"])"
      ],
      "execution_count": null,
      "outputs": [
        {
          "output_type": "execute_result",
          "data": {
            "text/plain": [
              "[('médica', 0.8700572848320007),\n",
              " ('médicas', 0.824001133441925),\n",
              " ('médicos', 0.816103458404541),\n",
              " ('medica', 0.7685182094573975),\n",
              " ('engenheiro', 0.7680596113204956),\n",
              " ('especialista', 0.7664689421653748),\n",
              " ('advogado', 0.7645303606987),\n",
              " ('clínica', 0.7620471119880676),\n",
              " ('mães', 0.7613809108734131),\n",
              " ('doméstica', 0.7599086165428162)]"
            ]
          },
          "metadata": {},
          "execution_count": 151
        }
      ]
    },
    {
      "cell_type": "code",
      "metadata": {
        "colab": {
          "base_uri": "https://localhost:8080/"
        },
        "id": "ACnLDkzXNn-q",
        "outputId": "9974875b-83c9-4c11-91f9-eef795485fcf"
      },
      "source": [
        "# !!!!!\n",
        "modelo.most_similar(positive=[\"chefe\", \"mulher\"], negative=[\"homem\"])"
      ],
      "execution_count": null,
      "outputs": [
        {
          "output_type": "execute_result",
          "data": {
            "text/plain": [
              "[('chefes', 0.8190566301345825),\n",
              " ('líder', 0.811233401298523),\n",
              " ('secretária', 0.7925949096679688),\n",
              " ('esposa', 0.789893388748169),\n",
              " ('companheira', 0.7888494729995728),\n",
              " ('liderança', 0.7857588529586792),\n",
              " ('comandante', 0.781360387802124),\n",
              " ('treinador', 0.780150830745697),\n",
              " ('executiva', 0.7800297141075134),\n",
              " ('mães', 0.7752659916877747)]"
            ]
          },
          "metadata": {},
          "execution_count": 152
        }
      ]
    },
    {
      "cell_type": "code",
      "metadata": {
        "colab": {
          "base_uri": "https://localhost:8080/"
        },
        "id": "92AVwA9ryieZ",
        "outputId": "46980520-e394-4e82-e3e9-0a97ec00c94c"
      },
      "source": [
        "# !!!!!\n",
        "modelo.most_similar(positive=[\"patrão\", \"mulher\"], negative=[\"homem\"])"
      ],
      "execution_count": null,
      "outputs": [
        {
          "output_type": "execute_result",
          "data": {
            "text/plain": [
              "[('toilet', 0.8540182113647461),\n",
              " ('supervisionada', 0.8540182113647461),\n",
              " ('demoliner', 0.8540182113647461),\n",
              " ('rumaram', 0.8540182113647461),\n",
              " ('viagensexperimentar', 0.8540182113647461),\n",
              " ('amigasapesar', 0.8540182113647461),\n",
              " ('evidenciou', 0.8540182113647461),\n",
              " ('tarefasdurantes', 0.8540182113647461),\n",
              " ('propagada', 0.8540182113647461),\n",
              " ('sticky', 0.8540182113647461)]"
            ]
          },
          "metadata": {},
          "execution_count": 153
        }
      ]
    },
    {
      "cell_type": "code",
      "metadata": {
        "colab": {
          "base_uri": "https://localhost:8080/"
        },
        "id": "ktjOfFWfPV81",
        "outputId": "2163c5fd-fd60-42f2-dbd5-48584f689edf"
      },
      "source": [
        "modelo.most_similar(positive=[\"futebol\", \"menina\"], negative=[\"menino\"])"
      ],
      "execution_count": null,
      "outputs": [
        {
          "output_type": "execute_result",
          "data": {
            "text/plain": [
              "[('esporte', 0.8022211790084839),\n",
              " ('esportes', 0.7976269125938416),\n",
              " ('basquete', 0.7897841930389404),\n",
              " ('xadrez', 0.7891426086425781),\n",
              " ('clube', 0.7869200706481934),\n",
              " ('clubes', 0.7828623056411743),\n",
              " ('tênis', 0.7827043533325195),\n",
              " ('time', 0.7816891670227051),\n",
              " ('jogos', 0.7793475389480591),\n",
              " ('jogadores', 0.7756719589233398)]"
            ]
          },
          "metadata": {},
          "execution_count": 154
        }
      ]
    },
    {
      "cell_type": "code",
      "metadata": {
        "colab": {
          "base_uri": "https://localhost:8080/"
        },
        "id": "py1iSE7TYBKD",
        "outputId": "02fb2eec-0a53-4ae0-c5b4-e3711c0ffb6e"
      },
      "source": [
        "modelo.most_similar(positive=[\"inteligente\", \"mulher\"], negative=[\"homem\"])"
      ],
      "execution_count": null,
      "outputs": [
        {
          "output_type": "execute_result",
          "data": {
            "text/plain": [
              "[('bonita', 0.8137651085853577),\n",
              " ('criativa', 0.8107669949531555),\n",
              " ('elegante', 0.8096199035644531),\n",
              " ('poderosa', 0.8091237545013428),\n",
              " ('conservadora', 0.8027359843254089),\n",
              " ('doméstica', 0.8012717962265015),\n",
              " ('eficiente', 0.8008442521095276),\n",
              " ('feminista', 0.7976117730140686),\n",
              " ('brilhante', 0.796310305595398),\n",
              " ('casada', 0.79613196849823)]"
            ]
          },
          "metadata": {},
          "execution_count": 155
        }
      ]
    },
    {
      "cell_type": "code",
      "metadata": {
        "colab": {
          "base_uri": "https://localhost:8080/"
        },
        "id": "SU1vrKn0YQNY",
        "outputId": "d990499f-8c16-41a0-fe65-cfd1703be600"
      },
      "source": [
        "modelo.most_similar(positive=[\"inteligente\", \"homem\"], negative=[\"mulher\"])"
      ],
      "execution_count": null,
      "outputs": [
        {
          "output_type": "execute_result",
          "data": {
            "text/plain": [
              "[('humano', 0.7357635498046875),\n",
              " ('humana', 0.7155956625938416),\n",
              " ('racional', 0.7043241262435913),\n",
              " ('consciente', 0.7014429569244385),\n",
              " ('divino', 0.6996117830276489),\n",
              " ('universo', 0.6988019347190857),\n",
              " ('pensamento', 0.697561502456665),\n",
              " ('humanos', 0.6945145130157471),\n",
              " ('inteligência', 0.6942348480224609),\n",
              " ('humanidade', 0.6888220906257629)]"
            ]
          },
          "metadata": {},
          "execution_count": 156
        }
      ]
    },
    {
      "cell_type": "markdown",
      "metadata": {
        "id": "H6zCOlgXRPH1"
      },
      "source": [
        "## Gender Direction"
      ]
    },
    {
      "cell_type": "code",
      "metadata": {
        "id": "nlvlHHTfYm2p"
      },
      "source": [
        "from responsibly.we import BiasWordEmbedding\n",
        "from numpy.linalg import norm\n",
        "\n",
        "we_genero = BiasWordEmbedding(modelo, only_lower=True)"
      ],
      "execution_count": null,
      "outputs": []
    },
    {
      "cell_type": "code",
      "metadata": {
        "id": "_lY3yhrTYqKO"
      },
      "source": [
        "fem = ['mulher', 'menina', 'esposa', 'senhora', 'irmã', 'mãe', 'avó','feminino', 'garota', 'senhora', 'prima']\n",
        "masc = ['homem', 'menino', 'marido', 'senhor', 'irmão', 'pai', 'avô', 'masculino', 'garoto', 'senhor', 'primo']\n",
        "\n",
        "we_genero._identify_direction('Feminino', 'Masculino',\n",
        "                                          definitional=(fem, masc),\n",
        "                                          method='sum')"
      ],
      "execution_count": null,
      "outputs": []
    },
    {
      "cell_type": "code",
      "metadata": {
        "id": "iXhIc4osYy7L"
      },
      "source": [
        "gender_direction = we_genero.direction\n",
        "\n",
        "gender_direction /= norm(gender_direction)"
      ],
      "execution_count": null,
      "outputs": []
    },
    {
      "cell_type": "code",
      "metadata": {
        "colab": {
          "base_uri": "https://localhost:8080/"
        },
        "id": "UWo6bu4cZMIF",
        "outputId": "b1b2d64c-d0a2-44d7-f50f-9988d6df0a57"
      },
      "source": [
        "gender_direction @ modelo.word_vec('arquiteta')"
      ],
      "execution_count": null,
      "outputs": [
        {
          "output_type": "execute_result",
          "data": {
            "text/plain": [
              "-0.014853525479677495"
            ]
          },
          "metadata": {},
          "execution_count": 160
        }
      ]
    },
    {
      "cell_type": "code",
      "metadata": {
        "colab": {
          "base_uri": "https://localhost:8080/"
        },
        "id": "3QuQ45uGZTHN",
        "outputId": "4b704544-4e21-4f6a-e0a9-cb19d8fc7faa"
      },
      "source": [
        "gender_direction @ modelo.word_vec('arquiteto')"
      ],
      "execution_count": null,
      "outputs": [
        {
          "output_type": "execute_result",
          "data": {
            "text/plain": [
              "-0.004340116731953985"
            ]
          },
          "metadata": {},
          "execution_count": 161
        }
      ]
    },
    {
      "cell_type": "code",
      "metadata": {
        "colab": {
          "base_uri": "https://localhost:8080/"
        },
        "id": "KHC9FIxDaQUS",
        "outputId": "0bf74bef-0c05-4c80-8da7-d50139bb5382"
      },
      "source": [
        "# !!!!!\n",
        "gender_direction @ modelo.word_vec('médica')"
      ],
      "execution_count": null,
      "outputs": [
        {
          "output_type": "execute_result",
          "data": {
            "text/plain": [
              "0.09476882956924249"
            ]
          },
          "metadata": {},
          "execution_count": 162
        }
      ]
    },
    {
      "cell_type": "code",
      "metadata": {
        "colab": {
          "base_uri": "https://localhost:8080/"
        },
        "id": "qwmX9W3UaRR7",
        "outputId": "20e2f612-dfe7-4a22-c2dc-6a647fda91f9"
      },
      "source": [
        "gender_direction @ modelo.word_vec('médico')"
      ],
      "execution_count": null,
      "outputs": [
        {
          "output_type": "execute_result",
          "data": {
            "text/plain": [
              "-0.07449148251379901"
            ]
          },
          "metadata": {},
          "execution_count": 163
        }
      ]
    },
    {
      "cell_type": "code",
      "metadata": {
        "colab": {
          "base_uri": "https://localhost:8080/"
        },
        "id": "0NLwsVcgamD1",
        "outputId": "43da510d-3ee9-494b-c9a6-6c7264a287d2"
      },
      "source": [
        "# !!!!!\n",
        "gender_direction @ modelo.word_vec('pediatra')"
      ],
      "execution_count": null,
      "outputs": [
        {
          "output_type": "execute_result",
          "data": {
            "text/plain": [
              "-0.014853525479677495"
            ]
          },
          "metadata": {},
          "execution_count": 164
        }
      ]
    },
    {
      "cell_type": "code",
      "metadata": {
        "colab": {
          "base_uri": "https://localhost:8080/"
        },
        "id": "ji1fk8CjauiS",
        "outputId": "9e5e33e0-7f35-4590-a42e-e924da59b080"
      },
      "source": [
        "gender_direction @ modelo.word_vec('dermatologista')"
      ],
      "execution_count": null,
      "outputs": [
        {
          "output_type": "execute_result",
          "data": {
            "text/plain": [
              "-0.014853525479677495"
            ]
          },
          "metadata": {},
          "execution_count": 165
        }
      ]
    },
    {
      "cell_type": "code",
      "metadata": {
        "colab": {
          "base_uri": "https://localhost:8080/"
        },
        "id": "IYJheP2-awAD",
        "outputId": "457d6a84-215a-4249-b5c8-b71e65af2584"
      },
      "source": [
        "gender_direction @ modelo.word_vec('psiquiatra')"
      ],
      "execution_count": null,
      "outputs": [
        {
          "output_type": "execute_result",
          "data": {
            "text/plain": [
              "-0.014853525479677495"
            ]
          },
          "metadata": {},
          "execution_count": 166
        }
      ]
    },
    {
      "cell_type": "code",
      "metadata": {
        "colab": {
          "base_uri": "https://localhost:8080/"
        },
        "id": "XQei_A6FcqU6",
        "outputId": "7dbed6c8-251a-46e0-adda-928c567185a6"
      },
      "source": [
        "gender_direction @ modelo.word_vec('ginecologista')"
      ],
      "execution_count": null,
      "outputs": [
        {
          "output_type": "execute_result",
          "data": {
            "text/plain": [
              "-0.014853525479677495"
            ]
          },
          "metadata": {},
          "execution_count": 167
        }
      ]
    },
    {
      "cell_type": "code",
      "metadata": {
        "colab": {
          "base_uri": "https://localhost:8080/"
        },
        "id": "tnDwqMnMaSdl",
        "outputId": "8f1181db-0a08-4474-e510-5d9b8a61d9d3"
      },
      "source": [
        "gender_direction @ modelo.word_vec('jogadora')"
      ],
      "execution_count": null,
      "outputs": [
        {
          "output_type": "execute_result",
          "data": {
            "text/plain": [
              "-0.014853525479677495"
            ]
          },
          "metadata": {},
          "execution_count": 168
        }
      ]
    },
    {
      "cell_type": "code",
      "metadata": {
        "colab": {
          "base_uri": "https://localhost:8080/"
        },
        "id": "9GCHaH3XaUhm",
        "outputId": "e07239d0-afa3-4c5d-c883-aecceb377cc2"
      },
      "source": [
        "gender_direction @ modelo.word_vec('jogador')"
      ],
      "execution_count": null,
      "outputs": [
        {
          "output_type": "execute_result",
          "data": {
            "text/plain": [
              "-0.02082207730060305"
            ]
          },
          "metadata": {},
          "execution_count": 169
        }
      ]
    },
    {
      "cell_type": "code",
      "metadata": {
        "colab": {
          "base_uri": "https://localhost:8080/"
        },
        "id": "rgqSLbeAaVew",
        "outputId": "aeb7a5f6-cd4c-427f-b350-23d76dea1f9f"
      },
      "source": [
        "gender_direction @ modelo.word_vec('professora')"
      ],
      "execution_count": null,
      "outputs": [
        {
          "output_type": "execute_result",
          "data": {
            "text/plain": [
              "0.08958125199853015"
            ]
          },
          "metadata": {},
          "execution_count": 170
        }
      ]
    },
    {
      "cell_type": "code",
      "metadata": {
        "colab": {
          "base_uri": "https://localhost:8080/"
        },
        "id": "28Vwz8jiaW22",
        "outputId": "2e6131e8-32f8-4e43-df6f-9a97a3f59612"
      },
      "source": [
        "gender_direction @ modelo.word_vec('professor')"
      ],
      "execution_count": null,
      "outputs": [
        {
          "output_type": "execute_result",
          "data": {
            "text/plain": [
              "-0.1007530870604115"
            ]
          },
          "metadata": {},
          "execution_count": 171
        }
      ]
    },
    {
      "cell_type": "code",
      "metadata": {
        "colab": {
          "base_uri": "https://localhost:8080/"
        },
        "id": "2s4iObSqZ8Tg",
        "outputId": "e953b854-c6aa-44ed-85de-a9f7fc4f0c1f"
      },
      "source": [
        "gender_direction @ modelo.word_vec('arquiteto')"
      ],
      "execution_count": null,
      "outputs": [
        {
          "output_type": "execute_result",
          "data": {
            "text/plain": [
              "-0.004340116731953985"
            ]
          },
          "metadata": {},
          "execution_count": 172
        }
      ]
    },
    {
      "cell_type": "code",
      "metadata": {
        "colab": {
          "base_uri": "https://localhost:8080/"
        },
        "id": "Nv2chTzSZ93z",
        "outputId": "c1f47380-36cd-4553-a178-11728c782d8e"
      },
      "source": [
        "gender_direction @ modelo.word_vec('engenharia')"
      ],
      "execution_count": null,
      "outputs": [
        {
          "output_type": "execute_result",
          "data": {
            "text/plain": [
              "0.036330874792490725"
            ]
          },
          "metadata": {},
          "execution_count": 173
        }
      ]
    },
    {
      "cell_type": "code",
      "metadata": {
        "colab": {
          "base_uri": "https://localhost:8080/"
        },
        "id": "sz_hHeXsaAa8",
        "outputId": "d3177b43-ff01-465c-9eca-be2f85c43ce5"
      },
      "source": [
        "gender_direction @ modelo.word_vec('medicina')"
      ],
      "execution_count": null,
      "outputs": [
        {
          "output_type": "execute_result",
          "data": {
            "text/plain": [
              "0.030057172489747104"
            ]
          },
          "metadata": {},
          "execution_count": 174
        }
      ]
    },
    {
      "cell_type": "code",
      "metadata": {
        "colab": {
          "base_uri": "https://localhost:8080/"
        },
        "id": "2cKgbw08aCZ8",
        "outputId": "46edf599-cac6-4128-8596-6b88871720f8"
      },
      "source": [
        "# !!!!!\n",
        "gender_direction @ modelo.word_vec('física')"
      ],
      "execution_count": null,
      "outputs": [
        {
          "output_type": "execute_result",
          "data": {
            "text/plain": [
              "-0.005662080555549655"
            ]
          },
          "metadata": {},
          "execution_count": 175
        }
      ]
    },
    {
      "cell_type": "code",
      "metadata": {
        "colab": {
          "base_uri": "https://localhost:8080/"
        },
        "id": "D_bKQ4Ynins6",
        "outputId": "cc4ee4f5-396f-49cc-eafa-671541a0400f"
      },
      "source": [
        "gender_direction @ modelo.word_vec('enfermagem')"
      ],
      "execution_count": null,
      "outputs": [
        {
          "output_type": "execute_result",
          "data": {
            "text/plain": [
              "-0.014853525479677495"
            ]
          },
          "metadata": {},
          "execution_count": 176
        }
      ]
    },
    {
      "cell_type": "code",
      "metadata": {
        "colab": {
          "base_uri": "https://localhost:8080/"
        },
        "id": "PX28iiQhaF_I",
        "outputId": "9bd8620e-cfe6-4c20-d607-585b5efd1fae"
      },
      "source": [
        "gender_direction @ modelo.word_vec('futebol')"
      ],
      "execution_count": null,
      "outputs": [
        {
          "output_type": "execute_result",
          "data": {
            "text/plain": [
              "-0.09397980275886375"
            ]
          },
          "metadata": {},
          "execution_count": 177
        }
      ]
    },
    {
      "cell_type": "code",
      "metadata": {
        "colab": {
          "base_uri": "https://localhost:8080/"
        },
        "id": "s35--GM9jMt5",
        "outputId": "6d19d937-63df-40e2-ad7a-9372dd4735e6"
      },
      "source": [
        "gender_direction @ modelo.word_vec('vôlei')"
      ],
      "execution_count": null,
      "outputs": [
        {
          "output_type": "execute_result",
          "data": {
            "text/plain": [
              "-0.014853525479677495"
            ]
          },
          "metadata": {},
          "execution_count": 178
        }
      ]
    },
    {
      "cell_type": "code",
      "metadata": {
        "colab": {
          "base_uri": "https://localhost:8080/"
        },
        "id": "-zGDnX9LjRGR",
        "outputId": "2bd4128e-ec68-4e8c-9015-de7aa43eb195"
      },
      "source": [
        "gender_direction @ modelo.word_vec('natação')"
      ],
      "execution_count": null,
      "outputs": [
        {
          "output_type": "execute_result",
          "data": {
            "text/plain": [
              "0.04059159570825098"
            ]
          },
          "metadata": {},
          "execution_count": 179
        }
      ]
    },
    {
      "cell_type": "code",
      "metadata": {
        "colab": {
          "base_uri": "https://localhost:8080/"
        },
        "id": "Os15NRD4jWia",
        "outputId": "75079c88-3b77-4e41-eb30-a34767f8e28f"
      },
      "source": [
        "gender_direction @ modelo.word_vec('ginástica')"
      ],
      "execution_count": null,
      "outputs": [
        {
          "output_type": "execute_result",
          "data": {
            "text/plain": [
              "0.08540499579912528"
            ]
          },
          "metadata": {},
          "execution_count": 180
        }
      ]
    },
    {
      "cell_type": "code",
      "metadata": {
        "colab": {
          "base_uri": "https://localhost:8080/",
          "height": 621
        },
        "id": "p8Vt8p7jahDx",
        "outputId": "022207c2-7efb-4dbf-ff3d-40f74b505eb7"
      },
      "source": [
        "profissoes_neutras = [\n",
        "    'chefe',\n",
        "    'colunista',\n",
        "    'assistente',\n",
        "    'taxista',\n",
        "    'psiquiatra',\n",
        "    'policial',\n",
        "    'dentista',\n",
        "    'eletricista',\n",
        "    'economista',\n",
        "    'atleta',\n",
        "    'terapeuta',\n",
        "    'piloto',\n",
        "    'modelo',\n",
        "    'estudante',\n",
        "    'comerciante',\n",
        "    'militar',\n",
        "    'cientista',\n",
        "    'designer',\n",
        "    'contabilista',\n",
        "    'gerente',\n",
        "    'artista',\n",
        "    'analista',\n",
        "    'jornalista',\n",
        "    'diarista',\n",
        "    \"pediatra\",\n",
        "    'psiquiatra',\n",
        "    'dermatologista',\n",
        "    'ginecologista'\n",
        "]\n",
        "\n",
        "import matplotlib.pylab as plt\n",
        "\n",
        "f, ax = plt.subplots(1, figsize=(10, 10))\n",
        "\n",
        "we_genero.plot_projection_scores(\n",
        "    profissoes_neutras + fem[:1] + masc[:1],\n",
        "    n_extreme=20,\n",
        "    ax=ax);"
      ],
      "execution_count": null,
      "outputs": [
        {
          "output_type": "display_data",
          "data": {
            "image/png": "[encoded data removed]",
            "text/plain": [
              "<Figure size 720x720 with 1 Axes>"
            ]
          },
          "metadata": {
            "needs_background": "light"
          }
        }
      ]
    },
    {
      "cell_type": "code",
      "metadata": {
        "colab": {
          "base_uri": "https://localhost:8080/"
        },
        "id": "ZuqRiZ40HLD5",
        "outputId": "6a64f357-2534-425e-9e8b-10a790f535e9"
      },
      "source": [
        "profissoes_nao_neutras = [\n",
        "    'médico',\n",
        "    'médica',\n",
        "    'professor',\n",
        "    'professora',\n",
        "    'engenheiro',\n",
        "    'engenheira',\n",
        "    'patrão',\n",
        "    'patroa',\n",
        "    'secretário',\n",
        "    'secretária',\n",
        "    'advogado',\n",
        "    'advogada',\n",
        "    'enfermeira',\n",
        "    'enfermeiro',\n",
        "    'maquiador',\n",
        "    'maquiadora',\n",
        "    'jogador',\n",
        "    'jogadora',\n",
        "    'jardineira',\n",
        "    'jardineiro',\n",
        "    'vendedor',\n",
        "    'vendedora',\n",
        "    'veterinária',\n",
        "    'veterinário'\n",
        "]\n",
        "\n",
        "import matplotlib.pylab as plt\n",
        "\n",
        "f, ax = plt.subplots(1, figsize=(10, 10))\n",
        "\n",
        "we_genero.plot_projection_scores(\n",
        "    profissoes_nao_neutras + fem[:1] + masc[:1],\n",
        "    n_extreme=20,\n",
        "    ax=ax);"
      ],
      "execution_count": null,
      "outputs": [
        {
          "output_type": "display_data",
          "data": {
            "image/png": "[encoded data removed]",
            "text/plain": [
              "<Figure size 720x720 with 1 Axes>"
            ]
          },
          "metadata": {
            "needs_background": "light"
          }
        }
      ]
    },
    {
      "cell_type": "code",
      "metadata": {
        "colab": {
          "base_uri": "https://localhost:8080/"
        },
        "id": "ZrERNfmDIPpX",
        "outputId": "3d97a365-2cdb-4a97-dd1e-7d5df2c6b71d"
      },
      "source": [
        "profissoes = [\n",
        "    'médico',\n",
        "    'médica',\n",
        "    'professor',\n",
        "    'professora',\n",
        "    'engenheiro',\n",
        "    'engenheira',\n",
        "    'patrão',\n",
        "    'patroa',\n",
        "    'secretário',\n",
        "    'secretária',\n",
        "    'advogado',\n",
        "    'advogada',\n",
        "    'enfermeira',\n",
        "    'enfermeiro',\n",
        "    'maquiador',\n",
        "    'maquiadora',\n",
        "    'jogador',\n",
        "    'jogadora',\n",
        "    'jardineira',\n",
        "    'jardineiro',\n",
        "    'vendedor',\n",
        "    'vendedora',\n",
        "    'chefe',\n",
        "    'colunista',\n",
        "    'assistente',\n",
        "    'taxista',\n",
        "    'psiquiatra',\n",
        "    'policial',\n",
        "    'dentista',\n",
        "    'eletricista',\n",
        "    'economista',\n",
        "    'atleta',\n",
        "    'terapeuta',\n",
        "    'piloto',\n",
        "    'modelo',\n",
        "    'estudante',\n",
        "    'comerciante',\n",
        "    'militar',\n",
        "    'cientista',\n",
        "    'designer',\n",
        "    'contabilista',\n",
        "    'gerente',\n",
        "    'artista',\n",
        "    'analista',\n",
        "    'jornalista',\n",
        "    'diarista'\n",
        "]\n",
        "\n",
        "import matplotlib.pylab as plt\n",
        "\n",
        "f, ax = plt.subplots(1, figsize=(10, 10))\n",
        "\n",
        "we_genero.plot_projection_scores(\n",
        "    profissoes + fem[:1] + masc[:1],\n",
        "    n_extreme=20,\n",
        "    ax=ax);"
      ],
      "execution_count": null,
      "outputs": [
        {
          "output_type": "display_data",
          "data": {
            "image/png": "[encoded data removed]",
            "text/plain": [
              "<Figure size 720x720 with 1 Axes>"
            ]
          },
          "metadata": {
            "needs_background": "light"
          }
        }
      ]
    },
    {
      "cell_type": "code",
      "metadata": {
        "colab": {
          "base_uri": "https://localhost:8080/"
        },
        "id": "fcBgTIt_NiKW",
        "outputId": "99e0e61a-4750-4bc0-db20-264fc0840b6c"
      },
      "source": [
        "adjetivos = [\n",
        "    'inteligente',\n",
        "    'humilde',\n",
        "    'amável',\n",
        "    'doce',\n",
        "    'paciente',\n",
        "    'popular',\n",
        "    'flexível',\n",
        "    'grande',\n",
        "    'brilhante',\n",
        "    'inocente',\n",
        "    'fácil',\n",
        "    'agradável',\n",
        "    'infeliz',\n",
        "    'capaz',\n",
        "    'difícil',\n",
        "    'temperamental'\n",
        "]\n",
        "\n",
        "import matplotlib.pylab as plt\n",
        "\n",
        "f, ax = plt.subplots(1, figsize=(10, 10))\n",
        "\n",
        "we_genero.plot_projection_scores(\n",
        "    adjetivos + fem[:1] + masc[:1],\n",
        "    n_extreme=20,\n",
        "    ax=ax);"
      ],
      "execution_count": null,
      "outputs": [
        {
          "output_type": "display_data",
          "data": {
            "image/png": "[encoded data removed]",
            "text/plain": [
              "<Figure size 720x720 with 1 Axes>"
            ]
          },
          "metadata": {
            "needs_background": "light"
          }
        }
      ]
    },
    {
      "cell_type": "code",
      "metadata": {
        "colab": {
          "base_uri": "https://localhost:8080/"
        },
        "id": "dIzVFA2UgKrr",
        "outputId": "e02340b0-43c0-41a7-d756-5ba0312cd9fd"
      },
      "source": [
        "import nltk\n",
        "import string\n",
        "nltk.download('punkt')\n",
        "\n",
        "def tokenizer(text):\n",
        "  text = text.lower()\n",
        "  alphanumeric_list = []\n",
        "\n",
        "  for valid_token in nltk.word_tokenize(text):\n",
        "    if valid_token in string.punctuation: continue\n",
        "    alphanumeric_list.append(valid_token)\n",
        "\n",
        "  return alphanumeric_list"
      ],
      "execution_count": null,
      "outputs": [
        {
          "output_type": "stream",
          "name": "stdout",
          "text": [
            "[nltk_data] Downloading package punkt to /root/nltk_data...\n",
            "[nltk_data]   Package punkt is already up-to-date!\n"
          ]
        }
      ]
    },
    {
      "cell_type": "code",
      "metadata": {
        "id": "7li3P0xthKgf"
      },
      "source": [
        "import numpy as np\n",
        "def vectors_combination_by_sum(words_numbers): \n",
        "  result = np.zeros(768)\n",
        "\n",
        "  for wn in words_numbers:\n",
        "    result += modelo.get_vector(wn)\n",
        "\n",
        "  return result"
      ],
      "execution_count": null,
      "outputs": []
    },
    {
      "cell_type": "code",
      "metadata": {
        "colab": {
          "base_uri": "https://localhost:8080/"
        },
        "id": "8aa9JDx_iN7J",
        "outputId": "b5abc256-d67d-4159-ea73-e0c002bf3705"
      },
      "source": [
        "phrase_vector = vectors_combination_by_sum(tokenizer(\"ela médica\"))\n",
        "gender_direction @ phrase_vector"
      ],
      "execution_count": null,
      "outputs": [
        {
          "output_type": "execute_result",
          "data": {
            "text/plain": [
              "0.24094871580125005"
            ]
          },
          "metadata": {},
          "execution_count": 187
        }
      ]
    },
    {
      "cell_type": "code",
      "metadata": {
        "id": "ZeB7sSbpi2Jn",
        "colab": {
          "base_uri": "https://localhost:8080/"
        },
        "outputId": "dcd9fc19-b750-4367-a015-135bb8efd8a1"
      },
      "source": [
        "phrase_vector = vectors_combination_by_sum(tokenizer(\"ele médico\"))\n",
        "gender_direction @ phrase_vector"
      ],
      "execution_count": null,
      "outputs": [
        {
          "output_type": "execute_result",
          "data": {
            "text/plain": [
              "-0.13260310553085655"
            ]
          },
          "metadata": {},
          "execution_count": 188
        }
      ]
    },
    {
      "cell_type": "code",
      "metadata": {
        "id": "n5ByLCH6qv4w",
        "colab": {
          "base_uri": "https://localhost:8080/"
        },
        "outputId": "d7f724b4-0a47-4a3b-a089-182a3d465988"
      },
      "source": [
        "phrase_vector = vectors_combination_by_sum(tokenizer(\"brinca boneca\"))\n",
        "gender_direction @ phrase_vector"
      ],
      "execution_count": null,
      "outputs": [
        {
          "output_type": "execute_result",
          "data": {
            "text/plain": [
              "-0.02970705095935499"
            ]
          },
          "metadata": {},
          "execution_count": 189
        }
      ]
    },
    {
      "cell_type": "code",
      "metadata": {
        "id": "YytrBN4lqyDh",
        "colab": {
          "base_uri": "https://localhost:8080/"
        },
        "outputId": "9504c356-ebb9-4dff-fd6e-d8a101066cf6"
      },
      "source": [
        "phrase_vector = vectors_combination_by_sum(tokenizer(\"brinca boneco\"))\n",
        "gender_direction @ phrase_vector"
      ],
      "execution_count": null,
      "outputs": [
        {
          "output_type": "execute_result",
          "data": {
            "text/plain": [
              "-0.02970705095935499"
            ]
          },
          "metadata": {},
          "execution_count": 190
        }
      ]
    },
    {
      "cell_type": "code",
      "metadata": {
        "id": "NSg_mV-Ni4Xp",
        "colab": {
          "base_uri": "https://localhost:8080/"
        },
        "outputId": "3724edc6-aa98-4f21-9fa2-bdd8300c7570"
      },
      "source": [
        "phrase_vector = vectors_combination_by_sum(tokenizer(\"profissional sucesso\"))\n",
        "gender_direction @ phrase_vector"
      ],
      "execution_count": null,
      "outputs": [
        {
          "output_type": "execute_result",
          "data": {
            "text/plain": [
              "-0.03102562802280184"
            ]
          },
          "metadata": {},
          "execution_count": 191
        }
      ]
    },
    {
      "cell_type": "code",
      "metadata": {
        "id": "5_yx__UfqnVk",
        "colab": {
          "base_uri": "https://localhost:8080/"
        },
        "outputId": "b11cc64a-c36f-4216-faea-7307a0f33763"
      },
      "source": [
        "phrase_vector = vectors_combination_by_sum(tokenizer(\"lidera time\"))\n",
        "gender_direction @ phrase_vector"
      ],
      "execution_count": null,
      "outputs": [
        {
          "output_type": "execute_result",
          "data": {
            "text/plain": [
              "0.061997961504643984"
            ]
          },
          "metadata": {},
          "execution_count": 192
        }
      ]
    },
    {
      "cell_type": "code",
      "metadata": {
        "id": "2UY7w1-kjX80",
        "colab": {
          "base_uri": "https://localhost:8080/"
        },
        "outputId": "fc564072-0366-4acd-c434-5835bd80600f"
      },
      "source": [
        "phrase_vector = vectors_combination_by_sum(tokenizer(\"limpa casa\"))\n",
        "gender_direction @ phrase_vector"
      ],
      "execution_count": null,
      "outputs": [
        {
          "output_type": "execute_result",
          "data": {
            "text/plain": [
              "0.0721087250236691"
            ]
          },
          "metadata": {},
          "execution_count": 193
        }
      ]
    },
    {
      "cell_type": "code",
      "metadata": {
        "id": "FW8sSW6sjhYB",
        "colab": {
          "base_uri": "https://localhost:8080/"
        },
        "outputId": "f5f7ec61-2e0e-4ff7-e604-309c65fe845c"
      },
      "source": [
        "phrase_vector = vectors_combination_by_sum(tokenizer(\"joga futebol\"))\n",
        "gender_direction @ phrase_vector"
      ],
      "execution_count": null,
      "outputs": [
        {
          "output_type": "execute_result",
          "data": {
            "text/plain": [
              "-0.016315240345828187"
            ]
          },
          "metadata": {},
          "execution_count": 194
        }
      ]
    },
    {
      "cell_type": "code",
      "metadata": {
        "id": "zkI1x1nLjttz",
        "colab": {
          "base_uri": "https://localhost:8080/"
        },
        "outputId": "07acbc7f-0cc9-4949-9776-a3afd75c2918"
      },
      "source": [
        "phrase_vector = vectors_combination_by_sum(tokenizer(\"joga vôlei\"))\n",
        "gender_direction @ phrase_vector"
      ],
      "execution_count": null,
      "outputs": [
        {
          "output_type": "execute_result",
          "data": {
            "text/plain": [
              "0.06281103693335806"
            ]
          },
          "metadata": {},
          "execution_count": 195
        }
      ]
    },
    {
      "cell_type": "code",
      "metadata": {
        "id": "iuT7ikTPqTy1",
        "colab": {
          "base_uri": "https://localhost:8080/"
        },
        "outputId": "ed222ae2-6776-4639-f743-dc875cd6df15"
      },
      "source": [
        "# !!!\n",
        "phrase_vector = vectors_combination_by_sum(tokenizer(\"estudante medicina\"))\n",
        "gender_direction @ phrase_vector"
      ],
      "execution_count": null,
      "outputs": [
        {
          "output_type": "execute_result",
          "data": {
            "text/plain": [
              "0.053421758534457395"
            ]
          },
          "metadata": {},
          "execution_count": 196
        }
      ]
    },
    {
      "cell_type": "code",
      "metadata": {
        "id": "doBYUAdvqUl_",
        "colab": {
          "base_uri": "https://localhost:8080/"
        },
        "outputId": "206fe556-499c-4b3e-f2fe-8de9d8396ab6"
      },
      "source": [
        "# !!!\n",
        "phrase_vector = vectors_combination_by_sum(tokenizer(\"estudante engenharia\"))\n",
        "gender_direction @ phrase_vector"
      ],
      "execution_count": null,
      "outputs": [
        {
          "output_type": "execute_result",
          "data": {
            "text/plain": [
              "0.059695460837201036"
            ]
          },
          "metadata": {},
          "execution_count": 197
        }
      ]
    },
    {
      "cell_type": "code",
      "metadata": {
        "id": "5ZzPt4GMqYF3",
        "colab": {
          "base_uri": "https://localhost:8080/"
        },
        "outputId": "d82b9cbb-34f6-41db-ea96-78ae208d031c"
      },
      "source": [
        "# !!!\n",
        "phrase_vector = vectors_combination_by_sum(tokenizer(\"estudante enfermagem\"))\n",
        "gender_direction @ phrase_vector"
      ],
      "execution_count": null,
      "outputs": [
        {
          "output_type": "execute_result",
          "data": {
            "text/plain": [
              "0.008511060565032803"
            ]
          },
          "metadata": {},
          "execution_count": 198
        }
      ]
    },
    {
      "cell_type": "code",
      "metadata": {
        "id": "BhDQ-Rllq-a1",
        "colab": {
          "base_uri": "https://localhost:8080/"
        },
        "outputId": "9f3f04a9-c2da-4ce0-e9bc-ec5e37232131"
      },
      "source": [
        "phrase_vector = vectors_combination_by_sum(tokenizer(\"especialista assunto\"))\n",
        "gender_direction @ phrase_vector"
      ],
      "execution_count": null,
      "outputs": [
        {
          "output_type": "execute_result",
          "data": {
            "text/plain": [
              "-0.03285592589195439"
            ]
          },
          "metadata": {},
          "execution_count": 199
        }
      ]
    },
    {
      "cell_type": "code",
      "metadata": {
        "id": "trY2svCh-VFW",
        "colab": {
          "base_uri": "https://localhost:8080/"
        },
        "outputId": "10e3282b-7b48-428c-c3f9-dcfee660a200"
      },
      "source": [
        "phrase_vector = vectors_combination_by_sum(tokenizer(\"especialista área\"))\n",
        "gender_direction @ phrase_vector"
      ],
      "execution_count": null,
      "outputs": [
        {
          "output_type": "execute_result",
          "data": {
            "text/plain": [
              "0.062020950095335634"
            ]
          },
          "metadata": {},
          "execution_count": 200
        }
      ]
    },
    {
      "cell_type": "code",
      "metadata": {
        "id": "-D4GQfbRAB-R"
      },
      "source": [
        "import stylecloud\n",
        "%matplotlib inline\n",
        "def ciyun(res, name, style):#RES word vector output Correlation The highest word Name Save file name style word cloud picture style settings\n",
        "    result=''\n",
        "    for each in res:\n",
        "        result=result+' '+str(each[0])\n",
        "    stylecloud.gen_stylecloud(\n",
        "        text=result, # The result of the above word is passed to the text parameters\n",
        "        size=512,\n",
        "        # font_path = 'msyh.ttc', #      \n",
        "        palette='cartocolors.qualitative.Pastel_7', #      , select from PaletTable\n",
        "        gradient='horizontal', #              \n",
        "        icon_name=style,  #    , select from Font Awesome\n",
        "        output_name=name+\".png\"\n",
        "        ) #        "
      ],
      "execution_count": null,
      "outputs": []
    },
    {
      "cell_type": "code",
      "metadata": {
        "id": "V3_a1F6zcJWB"
      },
      "source": [
        "sum_vector = vectors_combination_by_sum(tokenizer(\"chefe colunista assistente taxista psiquiatra policial dentista eletricista economista atleta terapeuta piloto modelo estudante comerciante militar cientista designer contabilista gerente artista analista jornalista diarista pediatra psiquiatra dermatologista ginecologista médico médica engenheiro engenheira advogado advogada diarista empregado empregada\"))\n",
        "similar_words = modelo.similar_by_vector(sum_vector, topn=1500)"
      ],
      "execution_count": null,
      "outputs": []
    },
    {
      "cell_type": "code",
      "metadata": {
        "id": "Ai5RVNDAULRa"
      },
      "source": [
        "f = []\n",
        "m = []\n",
        "for t in similar_words:\n",
        "  t = list(t)\n",
        "  if not \"ex\" in t[0]:\n",
        "    t[1] *= gender_direction @ modelo[t[0]]\n",
        "    if t[1] > 0:\n",
        "      f += [tuple(t)]\n",
        "    else:\n",
        "      t[1] -= 1\n",
        "      m += [tuple(t)]\n",
        "    "
      ],
      "execution_count": null,
      "outputs": []
    },
    {
      "cell_type": "code",
      "metadata": {
        "id": "XdEpXx-caSE3"
      },
      "source": [
        "f.sort(key=lambda tup: tup[1])\n",
        "f.reverse() \n",
        "\n",
        "m.sort(key=lambda tup: tup[1])\n",
        "m.reverse() "
      ],
      "execution_count": null,
      "outputs": []
    },
    {
      "cell_type": "code",
      "metadata": {
        "id": "PjbCKKpKDPdP",
        "colab": {
          "base_uri": "https://localhost:8080/",
          "height": 343
        },
        "outputId": "5e0defbf-a179-4cf9-b1a2-abc768a3aa1e"
      },
      "source": [
        "ciyun(f, \"mulher\",'fas fa-book-open')"
      ],
      "execution_count": null,
      "outputs": [
        {
          "output_type": "error",
          "ename": "AssertionError",
          "evalue": "ignored",
          "traceback": [
            "\u001b[0;31m---------------------------------------------------------------------------\u001b[0m",
            "\u001b[0;31mAssertionError\u001b[0m                            Traceback (most recent call last)",
            "\u001b[0;32m<ipython-input-205-27c9752e02bb>\u001b[0m in \u001b[0;36m<module>\u001b[0;34m()\u001b[0m\n\u001b[0;32m----> 1\u001b[0;31m \u001b[0mciyun\u001b[0m\u001b[0;34m(\u001b[0m\u001b[0mf\u001b[0m\u001b[0;34m,\u001b[0m \u001b[0;34m\"mulher\"\u001b[0m\u001b[0;34m,\u001b[0m\u001b[0;34m'fas fa-book-open'\u001b[0m\u001b[0;34m)\u001b[0m\u001b[0;34m\u001b[0m\u001b[0;34m\u001b[0m\u001b[0m\n\u001b[0m",
            "\u001b[0;32m<ipython-input-201-6f317549d2e3>\u001b[0m in \u001b[0;36mciyun\u001b[0;34m(res, name, style)\u001b[0m\n\u001b[1;32m     12\u001b[0m         \u001b[0mgradient\u001b[0m\u001b[0;34m=\u001b[0m\u001b[0;34m'horizontal'\u001b[0m\u001b[0;34m,\u001b[0m \u001b[0;31m#\u001b[0m\u001b[0;34m\u001b[0m\u001b[0;34m\u001b[0m\u001b[0m\n\u001b[1;32m     13\u001b[0m         \u001b[0micon_name\u001b[0m\u001b[0;34m=\u001b[0m\u001b[0mstyle\u001b[0m\u001b[0;34m,\u001b[0m  \u001b[0;31m#    , select from Font Awesome\u001b[0m\u001b[0;34m\u001b[0m\u001b[0;34m\u001b[0m\u001b[0m\n\u001b[0;32m---> 14\u001b[0;31m         \u001b[0moutput_name\u001b[0m\u001b[0;34m=\u001b[0m\u001b[0mname\u001b[0m\u001b[0;34m+\u001b[0m\u001b[0;34m\".png\"\u001b[0m\u001b[0;34m\u001b[0m\u001b[0;34m\u001b[0m\u001b[0m\n\u001b[0m\u001b[1;32m     15\u001b[0m         ) #        \n",
            "\u001b[0;32m/usr/local/lib/python3.7/dist-packages/stylecloud/stylecloud.py\u001b[0m in \u001b[0;36mgen_stylecloud\u001b[0;34m(text, file_path, size, icon_name, palette, colors, background_color, max_font_size, max_words, stopwords, custom_stopwords, add_stopwords, icon_dir, output_name, gradient, font_path, random_state, collocations, invert_mask, pro_icon_path, pro_css_path)\u001b[0m\n\u001b[1;32m    211\u001b[0m     \"\"\"\n\u001b[1;32m    212\u001b[0m \u001b[0;34m\u001b[0m\u001b[0m\n\u001b[0;32m--> 213\u001b[0;31m     \u001b[0;32massert\u001b[0m \u001b[0many\u001b[0m\u001b[0;34m(\u001b[0m\u001b[0;34m[\u001b[0m\u001b[0mtext\u001b[0m\u001b[0;34m,\u001b[0m \u001b[0mfile_path\u001b[0m\u001b[0;34m]\u001b[0m\u001b[0;34m)\u001b[0m\u001b[0;34m,\u001b[0m \u001b[0;34m\"Either text or file_path must be specified.\"\u001b[0m\u001b[0;34m\u001b[0m\u001b[0;34m\u001b[0m\u001b[0m\n\u001b[0m\u001b[1;32m    214\u001b[0m \u001b[0;34m\u001b[0m\u001b[0m\n\u001b[1;32m    215\u001b[0m     \u001b[0;32mif\u001b[0m \u001b[0mfile_path\u001b[0m\u001b[0;34m:\u001b[0m\u001b[0;34m\u001b[0m\u001b[0;34m\u001b[0m\u001b[0m\n",
            "\u001b[0;31mAssertionError\u001b[0m: Either text or file_path must be specified."
          ]
        }
      ]
    },
    {
      "cell_type": "code",
      "metadata": {
        "id": "diEcrQAcEXwF"
      },
      "source": [
        "ciyun(m, \"homem\",'fas fa-book-open')"
      ],
      "execution_count": null,
      "outputs": []
    }
  ]
}