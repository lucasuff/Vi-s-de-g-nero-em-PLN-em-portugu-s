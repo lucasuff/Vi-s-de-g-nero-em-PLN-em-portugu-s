{
  "nbformat": 4,
  "nbformat_minor": 0,
  "metadata": {
    "colab": {
      "name": "FineTunedKeyedVectorsGenerator.ipynb",
      "provenance": [],
      "collapsed_sections": [],
      "mount_file_id": "1Wi5QrBQGdYS1DDgHbd5HR7r7D6A_i6c-",
      "authorship_tag": "ABX9TyNV6zePOBL/spqu0wqtXDfa",
      "include_colab_link": true
    },
    "kernelspec": {
      "name": "python3",
      "display_name": "Python 3"
    },
    "language_info": {
      "name": "python"
    }
  },
  "cells": [
    {
      "cell_type": "markdown",
      "metadata": {
        "id": "view-in-github",
        "colab_type": "text"
      },
      "source": [
        "<a href=\"https://colab.research.google.com/github/lucasuff/Vies-de-genero-em-PLN-em-portugues/blob/main/FineTunedKeyedVectorsGenerator.ipynb\" target=\"_parent\"><img src=\"https://colab.research.google.com/assets/colab-badge.svg\" alt=\"Open In Colab\"/></a>"
      ]
    },
    {
      "cell_type": "code",
      "execution_count": null,
      "metadata": {
        "id": "SiGURxZvRs1K"
      },
      "outputs": [],
      "source": [
        "from gensim.models.keyedvectors import KeyedVectors\n",
        "import torch\n",
        "import json\n",
        "\n",
        "tensors = torch.load(\"/content/drive/MyDrive/curso_word2vec/BertEmbeddings/BertFinetunedTorches.json\")"
      ]
    },
    {
      "cell_type": "code",
      "source": [
        "file = open(\"/content/drive/MyDrive/curso_word2vec/BertEmbeddings/BertFinetunedWords.json\",\"r\")\n",
        "words_list = json.load(file)"
      ],
      "metadata": {
        "id": "oRTS58mq-m5W"
      },
      "execution_count": null,
      "outputs": []
    },
    {
      "cell_type": "code",
      "source": [
        "tensors = list(tensors)"
      ],
      "metadata": {
        "id": "E0WlMp6pTCEO"
      },
      "execution_count": null,
      "outputs": []
    },
    {
      "cell_type": "code",
      "source": [
        "len(tensors)"
      ],
      "metadata": {
        "colab": {
          "base_uri": "https://localhost:8080/"
        },
        "id": "R0LrM-88UJpV",
        "outputId": "42306600-59ec-469e-f0be-ae8d441d11a2"
      },
      "execution_count": null,
      "outputs": [
        {
          "output_type": "execute_result",
          "data": {
            "text/plain": [
              "158368"
            ]
          },
          "metadata": {},
          "execution_count": 13
        }
      ]
    },
    {
      "cell_type": "code",
      "source": [
        "len(words_list)"
      ],
      "metadata": {
        "colab": {
          "base_uri": "https://localhost:8080/"
        },
        "id": "QKadB5ay6jRG",
        "outputId": "356352d5-5830-4b97-8989-186dbdfec9c9"
      },
      "execution_count": null,
      "outputs": [
        {
          "output_type": "execute_result",
          "data": {
            "text/plain": [
              "158368"
            ]
          },
          "metadata": {},
          "execution_count": 14
        }
      ]
    },
    {
      "cell_type": "code",
      "source": [
        "vectors = [] \n",
        "for i in range(0, len(tensors)): \n",
        "    vectors.append(tensors[i].numpy())  # vectors for words_list, in same order"
      ],
      "metadata": {
        "id": "mEGh_C3sS9lQ"
      },
      "execution_count": null,
      "outputs": []
    },
    {
      "cell_type": "code",
      "source": [
        "del tensors"
      ],
      "metadata": {
        "id": "B0ZgchI1vhHw"
      },
      "execution_count": null,
      "outputs": []
    },
    {
      "cell_type": "code",
      "source": [
        "print(len(words_list), len(vectors))"
      ],
      "metadata": {
        "colab": {
          "base_uri": "https://localhost:8080/"
        },
        "id": "0-WbwDvIVGSz",
        "outputId": "ebb1e6b4-cdb3-4704-fd95-e3439b81b58e"
      },
      "execution_count": null,
      "outputs": [
        {
          "output_type": "stream",
          "name": "stdout",
          "text": [
            "158368 158368\n"
          ]
        }
      ]
    },
    {
      "cell_type": "code",
      "source": [
        "kv = KeyedVectors(vector_size=len(vectors[0]))  # new empty KV object"
      ],
      "metadata": {
        "id": "tK1pxwUMuvE4"
      },
      "execution_count": null,
      "outputs": []
    },
    {
      "cell_type": "code",
      "source": [
        "for index, word in enumerate(words_list):\n",
        "  kv.add(word, vectors[index])"
      ],
      "metadata": {
        "id": "itkH19dIXdIu"
      },
      "execution_count": null,
      "outputs": []
    },
    {
      "cell_type": "code",
      "source": [
        "kv.save(\"/content/drive/MyDrive/curso_word2vec/BertEmbeddings/kvWord2vec.kvmodel\")"
      ],
      "metadata": {
        "id": "gfA947vbZ26V"
      },
      "execution_count": null,
      "outputs": []
    },
    {
      "cell_type": "code",
      "source": [
        "len(kv.vocab)"
      ],
      "metadata": {
        "colab": {
          "base_uri": "https://localhost:8080/"
        },
        "id": "RrtQfCm-WhgL",
        "outputId": "8f85d0cb-46b1-4eec-f895-e38b82fc194e"
      },
      "execution_count": null,
      "outputs": [
        {
          "output_type": "execute_result",
          "data": {
            "text/plain": [
              "130653"
            ]
          },
          "metadata": {},
          "execution_count": 20
        }
      ]
    }
  ]
}