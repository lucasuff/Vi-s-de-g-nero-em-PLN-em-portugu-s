{
  "nbformat": 4,
  "nbformat_minor": 0,
  "metadata": {
    "colab": {
      "name": "ETW2V.ipynb",
      "provenance": [],
      "collapsed_sections": [],
      "mount_file_id": "1ax_uk5UoYUidCNrF_btVUc6j_N8Zq7uT",
      "authorship_tag": "ABX9TyOMBxum3tblsOZAPf2v1dZ0",
      "include_colab_link": true
    },
    "kernelspec": {
      "name": "python3",
      "display_name": "Python 3"
    },
    "language_info": {
      "name": "python"
    }
  },
  "cells": [
    {
      "cell_type": "markdown",
      "metadata": {
        "id": "view-in-github",
        "colab_type": "text"
      },
      "source": [
        "<a href=\"https://colab.research.google.com/github/lucasuff/Vies-de-genero-em-PLN-em-portugues/blob/main/ETW2V.ipynb\" target=\"_parent\"><img src=\"https://colab.research.google.com/assets/colab-badge.svg\" alt=\"Open In Colab\"/></a>"
      ]
    },
    {
      "cell_type": "code",
      "metadata": {
        "colab": {
          "base_uri": "https://localhost:8080/",
          "height": 851
        },
        "id": "attGiEJjf70t",
        "outputId": "bf7770d4-4cf1-4cc7-fa29-1a5a445a18ab"
      },
      "source": [
        "%pip install responsibly"
      ],
      "execution_count": null,
      "outputs": [
        {
          "output_type": "stream",
          "name": "stdout",
          "text": [
            "Collecting responsibly\n",
            "  Downloading responsibly-0.1.3-py3-none-any.whl (28.2 MB)\n",
            "\u001b[K     |████████████████████████████████| 28.2 MB 4.0 kB/s \n",
            "\u001b[?25hRequirement already satisfied: scikit-learn>=0.19 in /usr/local/lib/python3.7/dist-packages (from responsibly) (0.22.2.post1)\n",
            "Requirement already satisfied: tqdm>=4.24 in /usr/local/lib/python3.7/dist-packages (from responsibly) (4.62.3)\n",
            "Requirement already satisfied: pandas>=0.23 in /usr/local/lib/python3.7/dist-packages (from responsibly) (1.1.5)\n",
            "Requirement already satisfied: numpy>=1.15 in /usr/local/lib/python3.7/dist-packages (from responsibly) (1.19.5)\n",
            "Collecting matplotlib<3,>=2.2\n",
            "  Downloading matplotlib-2.2.5-cp37-cp37m-manylinux1_x86_64.whl (12.8 MB)\n",
            "\u001b[K     |████████████████████████████████| 12.8 MB 154 kB/s \n",
            "\u001b[?25hCollecting gensim<3.8,>=3.7\n",
            "  Downloading gensim-3.7.3-cp37-cp37m-manylinux1_x86_64.whl (24.2 MB)\n",
            "\u001b[K     |████████████████████████████████| 24.2 MB 81 kB/s \n",
            "\u001b[?25hRequirement already satisfied: six>=1.10 in /usr/local/lib/python3.7/dist-packages (from responsibly) (1.15.0)\n",
            "Requirement already satisfied: click>=6.0 in /usr/local/lib/python3.7/dist-packages (from responsibly) (7.1.2)\n",
            "Requirement already satisfied: mlxtend<0.17,>=0.13 in /usr/local/lib/python3.7/dist-packages (from responsibly) (0.14.0)\n",
            "Requirement already satisfied: seaborn>=0.9 in /usr/local/lib/python3.7/dist-packages (from responsibly) (0.11.2)\n",
            "Requirement already satisfied: tabulate>=0.8 in /usr/local/lib/python3.7/dist-packages (from responsibly) (0.8.9)\n",
            "Requirement already satisfied: scipy>=1.1 in /usr/local/lib/python3.7/dist-packages (from responsibly) (1.4.1)\n",
            "Requirement already satisfied: smart-open>=1.7.0 in /usr/local/lib/python3.7/dist-packages (from gensim<3.8,>=3.7->responsibly) (5.2.1)\n",
            "Requirement already satisfied: kiwisolver>=1.0.1 in /usr/local/lib/python3.7/dist-packages (from matplotlib<3,>=2.2->responsibly) (1.3.2)\n",
            "Requirement already satisfied: cycler>=0.10 in /usr/local/lib/python3.7/dist-packages (from matplotlib<3,>=2.2->responsibly) (0.10.0)\n",
            "Requirement already satisfied: python-dateutil>=2.1 in /usr/local/lib/python3.7/dist-packages (from matplotlib<3,>=2.2->responsibly) (2.8.2)\n",
            "Requirement already satisfied: pytz in /usr/local/lib/python3.7/dist-packages (from matplotlib<3,>=2.2->responsibly) (2018.9)\n",
            "Requirement already satisfied: pyparsing!=2.0.4,!=2.1.2,!=2.1.6,>=2.0.1 in /usr/local/lib/python3.7/dist-packages (from matplotlib<3,>=2.2->responsibly) (2.4.7)\n",
            "Requirement already satisfied: setuptools in /usr/local/lib/python3.7/dist-packages (from mlxtend<0.17,>=0.13->responsibly) (57.4.0)\n",
            "Requirement already satisfied: joblib>=0.11 in /usr/local/lib/python3.7/dist-packages (from scikit-learn>=0.19->responsibly) (1.0.1)\n",
            "Installing collected packages: matplotlib, gensim, responsibly\n",
            "  Attempting uninstall: matplotlib\n",
            "    Found existing installation: matplotlib 3.2.2\n",
            "    Uninstalling matplotlib-3.2.2:\n",
            "      Successfully uninstalled matplotlib-3.2.2\n",
            "  Attempting uninstall: gensim\n",
            "    Found existing installation: gensim 3.6.0\n",
            "    Uninstalling gensim-3.6.0:\n",
            "      Successfully uninstalled gensim-3.6.0\n",
            "\u001b[31mERROR: pip's dependency resolver does not currently take into account all the packages that are installed. This behaviour is the source of the following dependency conflicts.\n",
            "plotnine 0.6.0 requires matplotlib>=3.1.1, but you have matplotlib 2.2.5 which is incompatible.\n",
            "mizani 0.6.0 requires matplotlib>=3.1.1, but you have matplotlib 2.2.5 which is incompatible.\n",
            "arviz 0.11.4 requires matplotlib>=3.0, but you have matplotlib 2.2.5 which is incompatible.\n",
            "albumentations 0.1.12 requires imgaug<0.2.7,>=0.2.5, but you have imgaug 0.2.9 which is incompatible.\u001b[0m\n",
            "Successfully installed gensim-3.7.3 matplotlib-2.2.5 responsibly-0.1.3\n"
          ]
        },
        {
          "output_type": "display_data",
          "data": {
            "application/vnd.colab-display-data+json": {
              "pip_warning": {
                "packages": [
                  "matplotlib",
                  "mpl_toolkits"
                ]
              }
            }
          },
          "metadata": {}
        }
      ]
    },
    {
      "cell_type": "code",
      "metadata": {
        "colab": {
          "base_uri": "https://localhost:8080/"
        },
        "id": "JMn-1_MoA1lv",
        "outputId": "ee8209ec-4e86-473b-b745-37351346b528"
      },
      "source": [
        "!pip install stylecloud"
      ],
      "execution_count": null,
      "outputs": [
        {
          "output_type": "stream",
          "name": "stdout",
          "text": [
            "Collecting stylecloud\n",
            "  Downloading stylecloud-0.5.2.tar.gz (262 kB)\n",
            "\u001b[K     |████████████████████████████████| 262 kB 26.9 MB/s \n",
            "\u001b[?25hRequirement already satisfied: wordcloud in /usr/local/lib/python3.7/dist-packages (from stylecloud) (1.5.0)\n",
            "Collecting icon-font-to-png\n",
            "  Downloading icon_font_to_png-0.4.1-py2.py3-none-any.whl (161 kB)\n",
            "\u001b[K     |████████████████████████████████| 161 kB 53.1 MB/s \n",
            "\u001b[?25hRequirement already satisfied: palettable in /usr/local/lib/python3.7/dist-packages (from stylecloud) (3.3.0)\n",
            "Collecting fire\n",
            "  Downloading fire-0.4.0.tar.gz (87 kB)\n",
            "\u001b[K     |████████████████████████████████| 87 kB 7.7 MB/s \n",
            "\u001b[?25hRequirement already satisfied: matplotlib in /usr/local/lib/python3.7/dist-packages (from stylecloud) (2.2.5)\n",
            "Requirement already satisfied: six in /usr/local/lib/python3.7/dist-packages (from fire->stylecloud) (1.15.0)\n",
            "Requirement already satisfied: termcolor in /usr/local/lib/python3.7/dist-packages (from fire->stylecloud) (1.1.0)\n",
            "Collecting tinycss>=0.4\n",
            "  Downloading tinycss-0.4.tar.gz (87 kB)\n",
            "\u001b[K     |████████████████████████████████| 87 kB 7.5 MB/s \n",
            "\u001b[?25hRequirement already satisfied: Pillow>=4.0.0 in /usr/local/lib/python3.7/dist-packages (from icon-font-to-png->stylecloud) (7.1.2)\n",
            "Requirement already satisfied: requests>=2.12.5 in /usr/local/lib/python3.7/dist-packages (from icon-font-to-png->stylecloud) (2.23.0)\n",
            "Requirement already satisfied: chardet<4,>=3.0.2 in /usr/local/lib/python3.7/dist-packages (from requests>=2.12.5->icon-font-to-png->stylecloud) (3.0.4)\n",
            "Requirement already satisfied: urllib3!=1.25.0,!=1.25.1,<1.26,>=1.21.1 in /usr/local/lib/python3.7/dist-packages (from requests>=2.12.5->icon-font-to-png->stylecloud) (1.24.3)\n",
            "Requirement already satisfied: certifi>=2017.4.17 in /usr/local/lib/python3.7/dist-packages (from requests>=2.12.5->icon-font-to-png->stylecloud) (2021.5.30)\n",
            "Requirement already satisfied: idna<3,>=2.5 in /usr/local/lib/python3.7/dist-packages (from requests>=2.12.5->icon-font-to-png->stylecloud) (2.10)\n",
            "Requirement already satisfied: python-dateutil>=2.1 in /usr/local/lib/python3.7/dist-packages (from matplotlib->stylecloud) (2.8.2)\n",
            "Requirement already satisfied: kiwisolver>=1.0.1 in /usr/local/lib/python3.7/dist-packages (from matplotlib->stylecloud) (1.3.2)\n",
            "Requirement already satisfied: numpy>=1.7.1 in /usr/local/lib/python3.7/dist-packages (from matplotlib->stylecloud) (1.19.5)\n",
            "Requirement already satisfied: cycler>=0.10 in /usr/local/lib/python3.7/dist-packages (from matplotlib->stylecloud) (0.10.0)\n",
            "Requirement already satisfied: pytz in /usr/local/lib/python3.7/dist-packages (from matplotlib->stylecloud) (2018.9)\n",
            "Requirement already satisfied: pyparsing!=2.0.4,!=2.1.2,!=2.1.6,>=2.0.1 in /usr/local/lib/python3.7/dist-packages (from matplotlib->stylecloud) (2.4.7)\n",
            "Building wheels for collected packages: stylecloud, fire, tinycss\n",
            "  Building wheel for stylecloud (setup.py) ... \u001b[?25l\u001b[?25hdone\n",
            "  Created wheel for stylecloud: filename=stylecloud-0.5.2-py3-none-any.whl size=259508 sha256=4a6ee35e731262758f4f2aea4ce8e7da4827849bb62831ad63e7bacd0bc49f06\n",
            "  Stored in directory: /root/.cache/pip/wheels/77/42/7a/f52b5f84c04196fd4c2a3dceeb1bbeaee1c93a4fe271b5eb41\n",
            "  Building wheel for fire (setup.py) ... \u001b[?25l\u001b[?25hdone\n",
            "  Created wheel for fire: filename=fire-0.4.0-py2.py3-none-any.whl size=115943 sha256=0cf979290ea919c10d18593ef3d269bd86844398412196a0ad2ef727754c1a5f\n",
            "  Stored in directory: /root/.cache/pip/wheels/8a/67/fb/2e8a12fa16661b9d5af1f654bd199366799740a85c64981226\n",
            "  Building wheel for tinycss (setup.py) ... \u001b[?25l\u001b[?25hdone\n",
            "  Created wheel for tinycss: filename=tinycss-0.4-py3-none-any.whl size=43955 sha256=4c2317f6e1cf3364be075231d910104c6bd1c5f273e4d356242d0a19ac6b7506\n",
            "  Stored in directory: /root/.cache/pip/wheels/6c/66/e8/e53d7a476011891fa51a5ee83a2d1852b19b258f975055429b\n",
            "Successfully built stylecloud fire tinycss\n",
            "Installing collected packages: tinycss, icon-font-to-png, fire, stylecloud\n",
            "Successfully installed fire-0.4.0 icon-font-to-png-0.4.1 stylecloud-0.5.2 tinycss-0.4\n"
          ]
        }
      ]
    },
    {
      "cell_type": "code",
      "metadata": {
        "colab": {
          "base_uri": "https://localhost:8080/",
          "height": 1000
        },
        "id": "yV_joit5Kp1J",
        "outputId": "4f2dec92-14f6-40f5-8812-9b8b586ffa3d"
      },
      "source": [
        "%pip install -U pip setuptools wheel\n",
        "%pip install -U spacy"
      ],
      "execution_count": null,
      "outputs": [
        {
          "output_type": "stream",
          "name": "stdout",
          "text": [
            "Requirement already satisfied: pip in /usr/local/lib/python3.7/dist-packages (21.1.3)\n",
            "Collecting pip\n",
            "  Downloading pip-21.3.1-py3-none-any.whl (1.7 MB)\n",
            "\u001b[K     |████████████████████████████████| 1.7 MB 38.9 MB/s \n",
            "\u001b[?25hRequirement already satisfied: setuptools in /usr/local/lib/python3.7/dist-packages (57.4.0)\n",
            "Collecting setuptools\n",
            "  Downloading setuptools-58.3.0-py3-none-any.whl (946 kB)\n",
            "\u001b[K     |████████████████████████████████| 946 kB 43.2 MB/s \n",
            "\u001b[?25hRequirement already satisfied: wheel in /usr/local/lib/python3.7/dist-packages (0.37.0)\n",
            "Installing collected packages: setuptools, pip\n",
            "  Attempting uninstall: setuptools\n",
            "    Found existing installation: setuptools 57.4.0\n",
            "    Uninstalling setuptools-57.4.0:\n",
            "      Successfully uninstalled setuptools-57.4.0\n",
            "  Attempting uninstall: pip\n",
            "    Found existing installation: pip 21.1.3\n",
            "    Uninstalling pip-21.1.3:\n",
            "      Successfully uninstalled pip-21.1.3\n",
            "\u001b[31mERROR: pip's dependency resolver does not currently take into account all the packages that are installed. This behaviour is the source of the following dependency conflicts.\n",
            "datascience 0.10.6 requires folium==0.2.1, but you have folium 0.8.3 which is incompatible.\n",
            "arviz 0.11.4 requires matplotlib>=3.0, but you have matplotlib 2.2.5 which is incompatible.\u001b[0m\n",
            "Successfully installed pip-21.3.1 setuptools-58.3.0\n"
          ]
        },
        {
          "output_type": "display_data",
          "data": {
            "application/vnd.colab-display-data+json": {
              "pip_warning": {
                "packages": [
                  "pkg_resources"
                ]
              }
            }
          },
          "metadata": {}
        },
        {
          "output_type": "stream",
          "name": "stdout",
          "text": [
            "Requirement already satisfied: spacy in /usr/local/lib/python3.7/dist-packages (2.2.4)\n",
            "Collecting spacy\n",
            "  Downloading spacy-3.1.3-cp37-cp37m-manylinux_2_17_x86_64.manylinux2014_x86_64.whl (5.9 MB)\n",
            "     |████████████████████████████████| 5.9 MB 34.9 MB/s            \n",
            "\u001b[?25hCollecting catalogue<2.1.0,>=2.0.6\n",
            "  Downloading catalogue-2.0.6-py3-none-any.whl (17 kB)\n",
            "Requirement already satisfied: preshed<3.1.0,>=3.0.2 in /usr/local/lib/python3.7/dist-packages (from spacy) (3.0.5)\n",
            "Requirement already satisfied: requests<3.0.0,>=2.13.0 in /usr/local/lib/python3.7/dist-packages (from spacy) (2.23.0)\n",
            "Collecting typer<0.5.0,>=0.3.0\n",
            "  Downloading typer-0.4.0-py3-none-any.whl (27 kB)\n",
            "Requirement already satisfied: murmurhash<1.1.0,>=0.28.0 in /usr/local/lib/python3.7/dist-packages (from spacy) (1.0.5)\n",
            "Requirement already satisfied: cymem<2.1.0,>=2.0.2 in /usr/local/lib/python3.7/dist-packages (from spacy) (2.0.5)\n",
            "Requirement already satisfied: jinja2 in /usr/local/lib/python3.7/dist-packages (from spacy) (2.11.3)\n",
            "Requirement already satisfied: wasabi<1.1.0,>=0.8.1 in /usr/local/lib/python3.7/dist-packages (from spacy) (0.8.2)\n",
            "Requirement already satisfied: typing-extensions<4.0.0.0,>=3.7.4 in /usr/local/lib/python3.7/dist-packages (from spacy) (3.7.4.3)\n",
            "Requirement already satisfied: packaging>=20.0 in /usr/local/lib/python3.7/dist-packages (from spacy) (21.0)\n",
            "Collecting pathy>=0.3.5\n",
            "  Downloading pathy-0.6.1-py3-none-any.whl (42 kB)\n",
            "     |████████████████████████████████| 42 kB 1.4 MB/s             \n",
            "\u001b[?25hCollecting pydantic!=1.8,!=1.8.1,<1.9.0,>=1.7.4\n",
            "  Downloading pydantic-1.8.2-cp37-cp37m-manylinux2014_x86_64.whl (10.1 MB)\n",
            "     |████████████████████████████████| 10.1 MB 42.2 MB/s            \n",
            "\u001b[?25hRequirement already satisfied: tqdm<5.0.0,>=4.38.0 in /usr/local/lib/python3.7/dist-packages (from spacy) (4.62.3)\n",
            "Collecting thinc<8.1.0,>=8.0.9\n",
            "  Downloading thinc-8.0.12-cp37-cp37m-manylinux_2_17_x86_64.manylinux2014_x86_64.whl (628 kB)\n",
            "     |████████████████████████████████| 628 kB 80.0 MB/s            \n",
            "\u001b[?25hRequirement already satisfied: numpy>=1.15.0 in /usr/local/lib/python3.7/dist-packages (from spacy) (1.19.5)\n",
            "Requirement already satisfied: setuptools in /usr/local/lib/python3.7/dist-packages (from spacy) (58.3.0)\n",
            "Collecting spacy-legacy<3.1.0,>=3.0.8\n",
            "  Downloading spacy_legacy-3.0.8-py2.py3-none-any.whl (14 kB)\n",
            "Requirement already satisfied: blis<0.8.0,>=0.4.0 in /usr/local/lib/python3.7/dist-packages (from spacy) (0.4.1)\n",
            "Collecting srsly<3.0.0,>=2.4.1\n",
            "  Downloading srsly-2.4.2-cp37-cp37m-manylinux_2_17_x86_64.manylinux2014_x86_64.whl (451 kB)\n",
            "     |████████████████████████████████| 451 kB 72.3 MB/s            \n",
            "\u001b[?25hRequirement already satisfied: zipp>=0.5 in /usr/local/lib/python3.7/dist-packages (from catalogue<2.1.0,>=2.0.6->spacy) (3.6.0)\n",
            "Requirement already satisfied: pyparsing>=2.0.2 in /usr/local/lib/python3.7/dist-packages (from packaging>=20.0->spacy) (2.4.7)\n",
            "Requirement already satisfied: smart-open<6.0.0,>=5.0.0 in /usr/local/lib/python3.7/dist-packages (from pathy>=0.3.5->spacy) (5.2.1)\n",
            "Requirement already satisfied: idna<3,>=2.5 in /usr/local/lib/python3.7/dist-packages (from requests<3.0.0,>=2.13.0->spacy) (2.10)\n",
            "Requirement already satisfied: urllib3!=1.25.0,!=1.25.1,<1.26,>=1.21.1 in /usr/local/lib/python3.7/dist-packages (from requests<3.0.0,>=2.13.0->spacy) (1.24.3)\n",
            "Requirement already satisfied: chardet<4,>=3.0.2 in /usr/local/lib/python3.7/dist-packages (from requests<3.0.0,>=2.13.0->spacy) (3.0.4)\n",
            "Requirement already satisfied: certifi>=2017.4.17 in /usr/local/lib/python3.7/dist-packages (from requests<3.0.0,>=2.13.0->spacy) (2021.5.30)\n",
            "Requirement already satisfied: click<9.0.0,>=7.1.1 in /usr/local/lib/python3.7/dist-packages (from typer<0.5.0,>=0.3.0->spacy) (7.1.2)\n",
            "Requirement already satisfied: MarkupSafe>=0.23 in /usr/local/lib/python3.7/dist-packages (from jinja2->spacy) (2.0.1)\n",
            "Installing collected packages: catalogue, typer, srsly, pydantic, thinc, spacy-legacy, pathy, spacy\n",
            "  Attempting uninstall: catalogue\n",
            "    Found existing installation: catalogue 1.0.0\n",
            "    Uninstalling catalogue-1.0.0:\n",
            "      Successfully uninstalled catalogue-1.0.0\n",
            "  Attempting uninstall: srsly\n",
            "    Found existing installation: srsly 1.0.5\n",
            "    Uninstalling srsly-1.0.5:\n",
            "      Successfully uninstalled srsly-1.0.5\n",
            "  Attempting uninstall: thinc\n",
            "    Found existing installation: thinc 7.4.0\n",
            "    Uninstalling thinc-7.4.0:\n",
            "      Successfully uninstalled thinc-7.4.0\n",
            "  Attempting uninstall: spacy\n",
            "    Found existing installation: spacy 2.2.4\n",
            "    Uninstalling spacy-2.2.4:\n",
            "      Successfully uninstalled spacy-2.2.4\n",
            "Successfully installed catalogue-2.0.6 pathy-0.6.1 pydantic-1.8.2 spacy-3.1.3 spacy-legacy-3.0.8 srsly-2.4.2 thinc-8.0.12 typer-0.4.0\n",
            "\u001b[33mWARNING: Running pip as the 'root' user can result in broken permissions and conflicting behaviour with the system package manager. It is recommended to use a virtual environment instead: https://pip.pypa.io/warnings/venv\u001b[0m\n"
          ]
        }
      ]
    },
    {
      "cell_type": "code",
      "metadata": {
        "colab": {
          "base_uri": "https://localhost:8080/"
        },
        "id": "zX8WdX7uKteh",
        "outputId": "a0dfc1c4-5d50-44db-8507-fe041ed5536b"
      },
      "source": [
        "import spacy.cli\n",
        "spacy.cli.download(\"pt_core_news_sm\")\n",
        "\n",
        "import spacy\n",
        "nlp = spacy.load(\"pt_core_news_sm\")"
      ],
      "execution_count": null,
      "outputs": [
        {
          "output_type": "stream",
          "name": "stdout",
          "text": [
            "\u001b[38;5;2m✔ Download and installation successful\u001b[0m\n",
            "You can now load the package via spacy.load('pt_core_news_sm')\n"
          ]
        }
      ]
    },
    {
      "cell_type": "code",
      "metadata": {
        "id": "2ZhA3KBDBBBN"
      },
      "source": [
        "import json\n",
        "\n",
        "file = open(\"/content/drive/MyDrive/curso_word2vec/trip_contents.json\", \"r\")\n",
        "trip_contents = json.load(file)\n",
        "file.close()"
      ],
      "execution_count": null,
      "outputs": []
    },
    {
      "cell_type": "code",
      "metadata": {
        "id": "zr66_lV4Zwml"
      },
      "source": [
        "file = open(\"/content/drive/MyDrive/curso_word2vec/elpais_contents.json\", \"r\")\n",
        "elpais_contents = json.load(file)\n",
        "file.close()"
      ],
      "execution_count": null,
      "outputs": []
    },
    {
      "cell_type": "code",
      "metadata": {
        "id": "dxSHqAYqKv3n"
      },
      "source": [
        "acceptable_words = [\"ADJ\", \"PRON\", \"NOUN\", \"PROPN\", \"VERB\", \"DET\", \"X\"]"
      ],
      "execution_count": null,
      "outputs": []
    },
    {
      "cell_type": "code",
      "metadata": {
        "id": "Joz6c54EKxQQ"
      },
      "source": [
        "trip_docs = list(map(lambda text : nlp(text), trip_contents)) \n",
        "elpais_docs = list(map(lambda text : nlp(text), elpais_contents)) "
      ],
      "execution_count": null,
      "outputs": []
    },
    {
      "cell_type": "code",
      "metadata": {
        "id": "F-bNlplGB-m3"
      },
      "source": [
        "trip_tokenized_names = []\n",
        "for doc in trip_docs:\n",
        "  trip_tokenized_names.append([token.orth_.lower() for token in doc if token.pos_ in acceptable_words])\n",
        "\n",
        "elpais_tokenized_names = []\n",
        "for doc in elpais_docs:\n",
        "  elpais_tokenized_names.append([token.orth_.lower() for token in doc if token.pos_ in acceptable_words])"
      ],
      "execution_count": null,
      "outputs": []
    },
    {
      "cell_type": "code",
      "metadata": {
        "id": "M4dNThZRK0Dr"
      },
      "source": [
        "tokenized_names = trip_tokenized_names+elpais_tokenized_names"
      ],
      "execution_count": null,
      "outputs": []
    },
    {
      "cell_type": "code",
      "metadata": {
        "id": "sHBrpTb3BtpE"
      },
      "source": [
        "from gensim.models import Word2Vec\n",
        "\n",
        "modelo = Word2Vec(tokenized_names, size=300, min_count=1)"
      ],
      "execution_count": null,
      "outputs": []
    },
    {
      "cell_type": "code",
      "metadata": {
        "colab": {
          "base_uri": "https://localhost:8080/"
        },
        "id": "lzOT_ef4gmuM",
        "outputId": "70648a77-a605-4a85-d213-32827d37648d"
      },
      "source": [
        "len(modelo.wv.vocab)"
      ],
      "execution_count": null,
      "outputs": [
        {
          "output_type": "execute_result",
          "data": {
            "text/plain": [
              "181571"
            ]
          },
          "metadata": {},
          "execution_count": 11
        }
      ]
    },
    {
      "cell_type": "code",
      "metadata": {
        "colab": {
          "base_uri": "https://localhost:8080/"
        },
        "id": "bS5gzsJrgPRV",
        "outputId": "734e4202-ca84-4c31-9807-a7f12dbddb74"
      },
      "source": [
        "modelo.most_similar(\"mulher\")"
      ],
      "execution_count": null,
      "outputs": [
        {
          "output_type": "stream",
          "name": "stderr",
          "text": [
            "/usr/local/lib/python3.7/dist-packages/ipykernel_launcher.py:1: DeprecationWarning: Call to deprecated `most_similar` (Method will be removed in 4.0.0, use self.wv.most_similar() instead).\n",
            "  \"\"\"Entry point for launching an IPython kernel.\n"
          ]
        },
        {
          "output_type": "execute_result",
          "data": {
            "text/plain": [
              "[('menina', 0.6679773926734924),\n",
              " ('criança', 0.6191747784614563),\n",
              " ('maternidade', 0.5950511693954468),\n",
              " ('garota', 0.5933358669281006),\n",
              " ('homem', 0.588589072227478),\n",
              " ('vítima', 0.5874558091163635),\n",
              " ('lésbica', 0.5709674954414368),\n",
              " ('case).eu', 0.570218563079834),\n",
              " ('travesti', 0.5651423931121826),\n",
              " ('privilégiosna', 0.5615185499191284)]"
            ]
          },
          "metadata": {},
          "execution_count": 12
        }
      ]
    },
    {
      "cell_type": "code",
      "metadata": {
        "colab": {
          "base_uri": "https://localhost:8080/"
        },
        "id": "QO1Bv7g9gSCX",
        "outputId": "683f0a9d-4d0b-42d0-ac47-4766b71d370a"
      },
      "source": [
        "modelo.most_similar(\"homem\")"
      ],
      "execution_count": null,
      "outputs": [
        {
          "output_type": "stream",
          "name": "stderr",
          "text": [
            "/usr/local/lib/python3.7/dist-packages/ipykernel_launcher.py:1: DeprecationWarning: Call to deprecated `most_similar` (Method will be removed in 4.0.0, use self.wv.most_similar() instead).\n",
            "  \"\"\"Entry point for launching an IPython kernel.\n"
          ]
        },
        {
          "output_type": "execute_result",
          "data": {
            "text/plain": [
              "[('sujeito', 0.7370152473449707),\n",
              " ('estereótipo', 0.6814241409301758),\n",
              " ('mito', 0.6643224954605103),\n",
              " ('macho', 0.6628673672676086),\n",
              " ('adulto', 0.6212098598480225),\n",
              " ('colosso', 0.616904616355896),\n",
              " ('clichê', 0.6074926853179932),\n",
              " ('incapacita', 0.6056902408599854),\n",
              " ('menino', 0.6041333675384521),\n",
              " ('trauma', 0.5887464284896851)]"
            ]
          },
          "metadata": {},
          "execution_count": 13
        }
      ]
    },
    {
      "cell_type": "markdown",
      "metadata": {
        "id": "IQSWjXS77-8k"
      },
      "source": [
        "## Doesnt match"
      ]
    },
    {
      "cell_type": "code",
      "metadata": {
        "colab": {
          "base_uri": "https://localhost:8080/",
          "height": 126
        },
        "id": "kajI2K6qeyhL",
        "outputId": "ba5546ca-5906-40ea-c965-323e5d6f4510"
      },
      "source": [
        "modelo.doesnt_match(\"gato girafa macaco pessoa\".split())"
      ],
      "execution_count": null,
      "outputs": [
        {
          "output_type": "stream",
          "name": "stderr",
          "text": [
            "/usr/local/lib/python3.7/dist-packages/ipykernel_launcher.py:1: DeprecationWarning: Call to deprecated `doesnt_match` (Method will be removed in 4.0.0, use self.wv.doesnt_match() instead).\n",
            "  \"\"\"Entry point for launching an IPython kernel.\n",
            "/usr/local/lib/python3.7/dist-packages/gensim/models/keyedvectors.py:876: FutureWarning: arrays to stack must be passed as a \"sequence\" type such as list or tuple. Support for non-sequence iterables such as generators is deprecated as of NumPy 1.16 and will raise an error in the future.\n",
            "  vectors = vstack(self.word_vec(word, use_norm=True) for word in used_words).astype(REAL)\n"
          ]
        },
        {
          "output_type": "execute_result",
          "data": {
            "application/vnd.google.colaboratory.intrinsic+json": {
              "type": "string"
            },
            "text/plain": [
              "'pessoa'"
            ]
          },
          "metadata": {},
          "execution_count": 14
        }
      ]
    },
    {
      "cell_type": "code",
      "metadata": {
        "colab": {
          "base_uri": "https://localhost:8080/",
          "height": 126
        },
        "id": "EkSrBwo28aet",
        "outputId": "8bf0c6ec-8255-4bc8-dea4-3c53f1ae084c"
      },
      "source": [
        "modelo.doesnt_match(\"caneta lápis borracha papel avião\".split())"
      ],
      "execution_count": null,
      "outputs": [
        {
          "output_type": "stream",
          "name": "stderr",
          "text": [
            "/usr/local/lib/python3.7/dist-packages/ipykernel_launcher.py:1: DeprecationWarning: Call to deprecated `doesnt_match` (Method will be removed in 4.0.0, use self.wv.doesnt_match() instead).\n",
            "  \"\"\"Entry point for launching an IPython kernel.\n",
            "/usr/local/lib/python3.7/dist-packages/gensim/models/keyedvectors.py:876: FutureWarning: arrays to stack must be passed as a \"sequence\" type such as list or tuple. Support for non-sequence iterables such as generators is deprecated as of NumPy 1.16 and will raise an error in the future.\n",
            "  vectors = vstack(self.word_vec(word, use_norm=True) for word in used_words).astype(REAL)\n"
          ]
        },
        {
          "output_type": "execute_result",
          "data": {
            "application/vnd.google.colaboratory.intrinsic+json": {
              "type": "string"
            },
            "text/plain": [
              "'papel'"
            ]
          },
          "metadata": {},
          "execution_count": 15
        }
      ]
    },
    {
      "cell_type": "code",
      "metadata": {
        "colab": {
          "base_uri": "https://localhost:8080/",
          "height": 126
        },
        "id": "xGIpim-We2HR",
        "outputId": "c84aa806-6e5d-407b-cf4d-99bfeef2ad59"
      },
      "source": [
        "modelo.doesnt_match(\"enfermeira enfermeiro advogada advogado empregada empregado engenheiro engenheira\".split())"
      ],
      "execution_count": null,
      "outputs": [
        {
          "output_type": "stream",
          "name": "stderr",
          "text": [
            "/usr/local/lib/python3.7/dist-packages/ipykernel_launcher.py:1: DeprecationWarning: Call to deprecated `doesnt_match` (Method will be removed in 4.0.0, use self.wv.doesnt_match() instead).\n",
            "  \"\"\"Entry point for launching an IPython kernel.\n",
            "/usr/local/lib/python3.7/dist-packages/gensim/models/keyedvectors.py:876: FutureWarning: arrays to stack must be passed as a \"sequence\" type such as list or tuple. Support for non-sequence iterables such as generators is deprecated as of NumPy 1.16 and will raise an error in the future.\n",
            "  vectors = vstack(self.word_vec(word, use_norm=True) for word in used_words).astype(REAL)\n"
          ]
        },
        {
          "output_type": "execute_result",
          "data": {
            "application/vnd.google.colaboratory.intrinsic+json": {
              "type": "string"
            },
            "text/plain": [
              "'empregado'"
            ]
          },
          "metadata": {},
          "execution_count": 16
        }
      ]
    },
    {
      "cell_type": "code",
      "metadata": {
        "colab": {
          "base_uri": "https://localhost:8080/",
          "height": 126
        },
        "id": "OfJBltsue4v3",
        "outputId": "706126f4-7683-4051-934c-78feaf0cd4de"
      },
      "source": [
        "# !!!!!\n",
        "modelo.doesnt_match(\"sucesso dinheiro chefe homem mulher\".split())"
      ],
      "execution_count": null,
      "outputs": [
        {
          "output_type": "stream",
          "name": "stderr",
          "text": [
            "/usr/local/lib/python3.7/dist-packages/ipykernel_launcher.py:2: DeprecationWarning: Call to deprecated `doesnt_match` (Method will be removed in 4.0.0, use self.wv.doesnt_match() instead).\n",
            "  \n",
            "/usr/local/lib/python3.7/dist-packages/gensim/models/keyedvectors.py:876: FutureWarning: arrays to stack must be passed as a \"sequence\" type such as list or tuple. Support for non-sequence iterables such as generators is deprecated as of NumPy 1.16 and will raise an error in the future.\n",
            "  vectors = vstack(self.word_vec(word, use_norm=True) for word in used_words).astype(REAL)\n"
          ]
        },
        {
          "output_type": "execute_result",
          "data": {
            "application/vnd.google.colaboratory.intrinsic+json": {
              "type": "string"
            },
            "text/plain": [
              "'chefe'"
            ]
          },
          "metadata": {},
          "execution_count": 17
        }
      ]
    },
    {
      "cell_type": "markdown",
      "metadata": {
        "id": "6C82b5T78BsZ"
      },
      "source": [
        "## Most Similar"
      ]
    },
    {
      "cell_type": "code",
      "metadata": {
        "colab": {
          "base_uri": "https://localhost:8080/"
        },
        "id": "O7ppFzg1fGZk",
        "outputId": "cc31c6ff-638b-4078-a7e6-edfd14b4e6f6"
      },
      "source": [
        "modelo.most_similar(positive=[\"professor\", \"mulher\"], negative=[\"homem\"])"
      ],
      "execution_count": null,
      "outputs": [
        {
          "output_type": "stream",
          "name": "stderr",
          "text": [
            "/usr/local/lib/python3.7/dist-packages/ipykernel_launcher.py:1: DeprecationWarning: Call to deprecated `most_similar` (Method will be removed in 4.0.0, use self.wv.most_similar() instead).\n",
            "  \"\"\"Entry point for launching an IPython kernel.\n"
          ]
        },
        {
          "output_type": "execute_result",
          "data": {
            "text/plain": [
              "[('professora', 0.7689176201820374),\n",
              " ('usp', 0.705592155456543),\n",
              " ('estudante', 0.6861781477928162),\n",
              " ('psicologia', 0.6538601517677307),\n",
              " ('doutora', 0.6520596742630005),\n",
              " ('universitária', 0.6488382816314697),\n",
              " ('doutorado', 0.6475366353988647),\n",
              " ('aluna', 0.6442515850067139),\n",
              " ('psicóloga', 0.641525387763977),\n",
              " ('universidade', 0.6351665258407593)]"
            ]
          },
          "metadata": {},
          "execution_count": 18
        }
      ]
    },
    {
      "cell_type": "code",
      "metadata": {
        "colab": {
          "base_uri": "https://localhost:8080/"
        },
        "id": "Nq39Xmc1fIsi",
        "outputId": "c778ad8f-a329-4b55-ae47-4801c0f2a9e7"
      },
      "source": [
        "modelo.most_similar(positive=[\"rei\", \"mulher\"], negative=[\"homem\"])"
      ],
      "execution_count": null,
      "outputs": [
        {
          "output_type": "stream",
          "name": "stderr",
          "text": [
            "/usr/local/lib/python3.7/dist-packages/ipykernel_launcher.py:1: DeprecationWarning: Call to deprecated `most_similar` (Method will be removed in 4.0.0, use self.wv.most_similar() instead).\n",
            "  \"\"\"Entry point for launching an IPython kernel.\n"
          ]
        },
        {
          "output_type": "execute_result",
          "data": {
            "text/plain": [
              "[('rainha', 0.6600947380065918),\n",
              " ('dançarina', 0.6544507741928101),\n",
              " ('euao', 0.6510591506958008),\n",
              " ('miss', 0.6485978364944458),\n",
              " ('caxambú', 0.6361618638038635),\n",
              " ('ricca', 0.6356257796287537),\n",
              " ('glória', 0.6342973709106445),\n",
              " ('listjorge', 0.6320220828056335),\n",
              " ('cássia', 0.6295648813247681),\n",
              " ('musa', 0.626992404460907)]"
            ]
          },
          "metadata": {},
          "execution_count": 19
        }
      ]
    },
    {
      "cell_type": "code",
      "metadata": {
        "colab": {
          "base_uri": "https://localhost:8080/"
        },
        "id": "Jbn45RX4fK-g",
        "outputId": "43189138-6abd-4a9d-9227-a8ba6a9f8b09"
      },
      "source": [
        "# !!!!!\n",
        "modelo.most_similar(positive=[\"médico\", \"mulher\"], negative=[\"homem\"])"
      ],
      "execution_count": null,
      "outputs": [
        {
          "output_type": "stream",
          "name": "stderr",
          "text": [
            "/usr/local/lib/python3.7/dist-packages/ipykernel_launcher.py:2: DeprecationWarning: Call to deprecated `most_similar` (Method will be removed in 4.0.0, use self.wv.most_similar() instead).\n",
            "  \n"
          ]
        },
        {
          "output_type": "execute_result",
          "data": {
            "text/plain": [
              "[('clínica', 0.6706985235214233),\n",
              " ('médica', 0.6560308933258057),\n",
              " ('internação', 0.6274130344390869),\n",
              " ('queixa', 0.5883357524871826),\n",
              " ('cirurgia', 0.5707650780677795),\n",
              " ('hospital', 0.5664480924606323),\n",
              " ('consulta', 0.556025505065918),\n",
              " ('empregada', 0.5505495071411133),\n",
              " ('licença', 0.5435192584991455),\n",
              " ('justiça', 0.5407251715660095)]"
            ]
          },
          "metadata": {},
          "execution_count": 20
        }
      ]
    },
    {
      "cell_type": "code",
      "metadata": {
        "colab": {
          "base_uri": "https://localhost:8080/"
        },
        "id": "qXDtvGpUfNn0",
        "outputId": "2c1d6424-dae1-423e-a9ea-7da58668d7d7"
      },
      "source": [
        "# !!!!!\n",
        "modelo.most_similar(positive=[\"chefe\", \"mulher\"], negative=[\"homem\"])"
      ],
      "execution_count": null,
      "outputs": [
        {
          "output_type": "stream",
          "name": "stderr",
          "text": [
            "/usr/local/lib/python3.7/dist-packages/ipykernel_launcher.py:2: DeprecationWarning: Call to deprecated `most_similar` (Method will be removed in 4.0.0, use self.wv.most_similar() instead).\n",
            "  \n"
          ]
        },
        {
          "output_type": "execute_result",
          "data": {
            "text/plain": [
              "[('funcionária', 0.673038899898529),\n",
              " ('assessora', 0.6624634861946106),\n",
              " ('servidora', 0.6509405970573425),\n",
              " ('secretária', 0.6493405103683472),\n",
              " ('ministra', 0.6452124714851379),\n",
              " ('advogada', 0.6380650997161865),\n",
              " ('deputada', 0.6340382695198059),\n",
              " ('coordenadora', 0.6303061246871948),\n",
              " ('delegada', 0.6270537376403809),\n",
              " ('clínica', 0.6263152360916138)]"
            ]
          },
          "metadata": {},
          "execution_count": 21
        }
      ]
    },
    {
      "cell_type": "code",
      "metadata": {
        "colab": {
          "base_uri": "https://localhost:8080/"
        },
        "id": "PRBxfER2fPjN",
        "outputId": "29d89d88-ffe6-44f9-dfc8-f4cfc49f4388"
      },
      "source": [
        "# !!!!!\n",
        "modelo.most_similar(positive=[\"patrão\", \"mulher\"], negative=[\"homem\"])"
      ],
      "execution_count": null,
      "outputs": [
        {
          "output_type": "stream",
          "name": "stderr",
          "text": [
            "/usr/local/lib/python3.7/dist-packages/ipykernel_launcher.py:2: DeprecationWarning: Call to deprecated `most_similar` (Method will be removed in 4.0.0, use self.wv.most_similar() instead).\n",
            "  \n"
          ]
        },
        {
          "output_type": "execute_result",
          "data": {
            "text/plain": [
              "[('noivo', 0.6392769813537598),\n",
              " ('ex-marido', 0.6256417036056519),\n",
              " ('interrompi', 0.6217308044433594),\n",
              " ('home-office', 0.6180417537689209),\n",
              " ('reassumiria', 0.6162540912628174),\n",
              " ('durona', 0.6150671243667603),\n",
              " ('abjeto', 0.6106442213058472),\n",
              " ('encaminhada', 0.6070759296417236),\n",
              " ('renovou', 0.6070022583007812),\n",
              " ('ginecologista', 0.601485550403595)]"
            ]
          },
          "metadata": {},
          "execution_count": 22
        }
      ]
    },
    {
      "cell_type": "code",
      "metadata": {
        "colab": {
          "base_uri": "https://localhost:8080/"
        },
        "id": "ByJUlshRfRRt",
        "outputId": "950a094b-7856-41ea-ca0b-d8a244f1559e"
      },
      "source": [
        "modelo.most_similar(positive=[\"futebol\", \"mulher\"], negative=[\"homem\"])"
      ],
      "execution_count": null,
      "outputs": [
        {
          "output_type": "stream",
          "name": "stderr",
          "text": [
            "/usr/local/lib/python3.7/dist-packages/ipykernel_launcher.py:1: DeprecationWarning: Call to deprecated `most_similar` (Method will be removed in 4.0.0, use self.wv.most_similar() instead).\n",
            "  \"\"\"Entry point for launching an IPython kernel.\n"
          ]
        },
        {
          "output_type": "execute_result",
          "data": {
            "text/plain": [
              "[('seleção', 0.5720950961112976),\n",
              " ('esporte', 0.5071049928665161),\n",
              " ('divisão', 0.48550620675086975),\n",
              " ('puiggarí', 0.4677638113498688),\n",
              " ('luta', 0.46607333421707153),\n",
              " ('pauta', 0.46528133749961853),\n",
              " ('confederação', 0.46430814266204834),\n",
              " ('modalidade', 0.45469653606414795),\n",
              " ('jogadora', 0.45335644483566284),\n",
              " ('liga', 0.45246607065200806)]"
            ]
          },
          "metadata": {},
          "execution_count": 23
        }
      ]
    },
    {
      "cell_type": "code",
      "metadata": {
        "colab": {
          "base_uri": "https://localhost:8080/"
        },
        "id": "7b8kiAX9fTZo",
        "outputId": "d0885ab4-2657-4fc1-f1c2-a533e60ffb2c"
      },
      "source": [
        "modelo.most_similar(positive=[\"inteligente\", \"mulher\"], negative=[\"homem\"])"
      ],
      "execution_count": null,
      "outputs": [
        {
          "output_type": "stream",
          "name": "stderr",
          "text": [
            "/usr/local/lib/python3.7/dist-packages/ipykernel_launcher.py:1: DeprecationWarning: Call to deprecated `most_similar` (Method will be removed in 4.0.0, use self.wv.most_similar() instead).\n",
            "  \"\"\"Entry point for launching an IPython kernel.\n"
          ]
        },
        {
          "output_type": "execute_result",
          "data": {
            "text/plain": [
              "[('denunciadora', 0.639595091342926),\n",
              " ('culpabilidade', 0.6226136684417725),\n",
              " ('essencia', 0.6197764873504639),\n",
              " ('escolha', 0.6154723167419434),\n",
              " ('justa', 0.6141875982284546),\n",
              " ('postura', 0.6118124723434448),\n",
              " ('septoé', 0.6094411611557007),\n",
              " ('sucesso!que', 0.608391523361206),\n",
              " ('tremendamente', 0.5950634479522705),\n",
              " ('corajosa', 0.5925163626670837)]"
            ]
          },
          "metadata": {},
          "execution_count": 24
        }
      ]
    },
    {
      "cell_type": "code",
      "metadata": {
        "colab": {
          "base_uri": "https://localhost:8080/"
        },
        "id": "cu1BTt8qfVJ1",
        "outputId": "1040438f-08dd-453f-b705-4b6cf92c410c"
      },
      "source": [
        "modelo.most_similar(positive=[\"inteligente\", \"homem\"], negative=[\"mulher\"])"
      ],
      "execution_count": null,
      "outputs": [
        {
          "output_type": "stream",
          "name": "stderr",
          "text": [
            "/usr/local/lib/python3.7/dist-packages/ipykernel_launcher.py:1: DeprecationWarning: Call to deprecated `most_similar` (Method will be removed in 4.0.0, use self.wv.most_similar() instead).\n",
            "  \"\"\"Entry point for launching an IPython kernel.\n"
          ]
        },
        {
          "output_type": "execute_result",
          "data": {
            "text/plain": [
              "[('poderoso', 0.6871511340141296),\n",
              " ('clichê', 0.6809435486793518),\n",
              " ('autêntico', 0.6674551367759705),\n",
              " ('sujeito', 0.6559524536132812),\n",
              " ('mistério', 0.6529712080955505),\n",
              " ('mito', 0.6337453126907349),\n",
              " ('animal', 0.6323901414871216),\n",
              " ('macho', 0.6319351196289062),\n",
              " ('moderno', 0.6318008899688721),\n",
              " ('invisível', 0.627173900604248)]"
            ]
          },
          "metadata": {},
          "execution_count": 25
        }
      ]
    },
    {
      "cell_type": "markdown",
      "metadata": {
        "id": "BeMQ7Fg38E53"
      },
      "source": [
        "## Gender Direction"
      ]
    },
    {
      "cell_type": "code",
      "metadata": {
        "id": "5qsyfnxzhGpO"
      },
      "source": [
        "from responsibly.we import BiasWordEmbedding\n",
        "from numpy.linalg import norm\n",
        "\n",
        "we_genero = BiasWordEmbedding(modelo.wv, only_lower=True)"
      ],
      "execution_count": null,
      "outputs": []
    },
    {
      "cell_type": "code",
      "metadata": {
        "id": "KjGV_9i8hITj"
      },
      "source": [
        "fem = ['mulher', 'menina', 'esposa', 'senhora', 'irmã', 'mãe', 'avó','feminino', 'garota', 'senhora', 'prima']\n",
        "masc = ['homem', 'menino', 'marido', 'senhor', 'irmão', 'pai', 'avô', 'masculino', 'garoto', 'senhor', 'primo']\n",
        "\n",
        "we_genero._identify_direction('Femenino', 'Masculino',\n",
        "                                          definitional=(fem, masc),\n",
        "                                          method='sum')"
      ],
      "execution_count": null,
      "outputs": []
    },
    {
      "cell_type": "code",
      "metadata": {
        "id": "24xNas_ehJ7U"
      },
      "source": [
        "gender_direction = we_genero.direction\n",
        "\n",
        "gender_direction /= norm(gender_direction)"
      ],
      "execution_count": null,
      "outputs": []
    },
    {
      "cell_type": "code",
      "metadata": {
        "id": "PqTEi5kxiAHd"
      },
      "source": [
        "modelo = modelo.wv"
      ],
      "execution_count": null,
      "outputs": []
    },
    {
      "cell_type": "code",
      "metadata": {
        "colab": {
          "base_uri": "https://localhost:8080/"
        },
        "id": "Axa9UwPKhMEr",
        "outputId": "2ca69349-3d05-42ae-cc74-7dfbc3edffb8"
      },
      "source": [
        "gender_direction @ modelo.word_vec('arquiteta')"
      ],
      "execution_count": null,
      "outputs": [
        {
          "output_type": "execute_result",
          "data": {
            "text/plain": [
              "0.32039428"
            ]
          },
          "metadata": {},
          "execution_count": 30
        }
      ]
    },
    {
      "cell_type": "code",
      "metadata": {
        "colab": {
          "base_uri": "https://localhost:8080/"
        },
        "id": "iLn0awJkh-Bb",
        "outputId": "3e4aa4c6-2a12-4992-8eee-a3d4a18793b8"
      },
      "source": [
        "gender_direction @ modelo.word_vec('arquiteto')"
      ],
      "execution_count": null,
      "outputs": [
        {
          "output_type": "execute_result",
          "data": {
            "text/plain": [
              "-0.19571309"
            ]
          },
          "metadata": {},
          "execution_count": 31
        }
      ]
    },
    {
      "cell_type": "code",
      "metadata": {
        "colab": {
          "base_uri": "https://localhost:8080/"
        },
        "id": "NnRXWxHfiF0G",
        "outputId": "7d724916-16ca-4439-fecf-26a84b10003c"
      },
      "source": [
        "# !!!!!\n",
        "gender_direction @ modelo.word_vec('médica')"
      ],
      "execution_count": null,
      "outputs": [
        {
          "output_type": "execute_result",
          "data": {
            "text/plain": [
              "0.18272007"
            ]
          },
          "metadata": {},
          "execution_count": 32
        }
      ]
    },
    {
      "cell_type": "code",
      "metadata": {
        "colab": {
          "base_uri": "https://localhost:8080/"
        },
        "id": "ZLKGDt-ViHfm",
        "outputId": "3bcb7a58-cfba-47ab-9948-c80c55f31b42"
      },
      "source": [
        "gender_direction @ modelo.word_vec('médico')"
      ],
      "execution_count": null,
      "outputs": [
        {
          "output_type": "execute_result",
          "data": {
            "text/plain": [
              "-0.2401868"
            ]
          },
          "metadata": {},
          "execution_count": 33
        }
      ]
    },
    {
      "cell_type": "code",
      "metadata": {
        "colab": {
          "base_uri": "https://localhost:8080/"
        },
        "id": "0NLwsVcgamD1",
        "outputId": "a67380b5-6b48-4f59-e2ba-6b07468120d6"
      },
      "source": [
        "# !!!!!\n",
        "gender_direction @ modelo.word_vec('pediatra')"
      ],
      "execution_count": null,
      "outputs": [
        {
          "output_type": "execute_result",
          "data": {
            "text/plain": [
              "-0.16669951"
            ]
          },
          "metadata": {},
          "execution_count": 34
        }
      ]
    },
    {
      "cell_type": "code",
      "metadata": {
        "colab": {
          "base_uri": "https://localhost:8080/"
        },
        "id": "ji1fk8CjauiS",
        "outputId": "e910c0b3-4025-4d08-eddd-21424749a942"
      },
      "source": [
        "gender_direction @ modelo.word_vec('dermatologista')"
      ],
      "execution_count": null,
      "outputs": [
        {
          "output_type": "execute_result",
          "data": {
            "text/plain": [
              "0.06768861"
            ]
          },
          "metadata": {},
          "execution_count": 35
        }
      ]
    },
    {
      "cell_type": "code",
      "metadata": {
        "colab": {
          "base_uri": "https://localhost:8080/"
        },
        "id": "IYJheP2-awAD",
        "outputId": "cc859fe8-fe27-4aa3-e79e-978dbf7dc2ed"
      },
      "source": [
        "gender_direction @ modelo.word_vec('psiquiatra')"
      ],
      "execution_count": null,
      "outputs": [
        {
          "output_type": "execute_result",
          "data": {
            "text/plain": [
              "-0.15505685"
            ]
          },
          "metadata": {},
          "execution_count": 36
        }
      ]
    },
    {
      "cell_type": "code",
      "metadata": {
        "colab": {
          "base_uri": "https://localhost:8080/"
        },
        "id": "i88RjM2BcsZo",
        "outputId": "aa2e7d9e-74e7-4f62-8dae-c30bf59fd4f8"
      },
      "source": [
        "gender_direction @ modelo.word_vec('ginecologista')"
      ],
      "execution_count": null,
      "outputs": [
        {
          "output_type": "execute_result",
          "data": {
            "text/plain": [
              "0.032614913"
            ]
          },
          "metadata": {},
          "execution_count": 37
        }
      ]
    },
    {
      "cell_type": "code",
      "metadata": {
        "colab": {
          "base_uri": "https://localhost:8080/"
        },
        "id": "sK8fuE8DiJEb",
        "outputId": "51401772-6b06-4896-c39b-8c7119263789"
      },
      "source": [
        "gender_direction @ modelo.word_vec('jogadora')"
      ],
      "execution_count": null,
      "outputs": [
        {
          "output_type": "execute_result",
          "data": {
            "text/plain": [
              "0.22711027"
            ]
          },
          "metadata": {},
          "execution_count": 38
        }
      ]
    },
    {
      "cell_type": "code",
      "metadata": {
        "colab": {
          "base_uri": "https://localhost:8080/"
        },
        "id": "uz5GEmm7iKYU",
        "outputId": "96346ec8-73a1-419e-a6e6-ceea8530cd4f"
      },
      "source": [
        "gender_direction @ modelo.word_vec('jogador')"
      ],
      "execution_count": null,
      "outputs": [
        {
          "output_type": "execute_result",
          "data": {
            "text/plain": [
              "-0.34597257"
            ]
          },
          "metadata": {},
          "execution_count": 39
        }
      ]
    },
    {
      "cell_type": "code",
      "metadata": {
        "colab": {
          "base_uri": "https://localhost:8080/"
        },
        "id": "HXpzzh4biLoi",
        "outputId": "d572cfb5-e904-4c32-d4db-f20ebe30112f"
      },
      "source": [
        "gender_direction @ modelo.word_vec('professora')"
      ],
      "execution_count": null,
      "outputs": [
        {
          "output_type": "execute_result",
          "data": {
            "text/plain": [
              "0.284392"
            ]
          },
          "metadata": {},
          "execution_count": 40
        }
      ]
    },
    {
      "cell_type": "code",
      "metadata": {
        "colab": {
          "base_uri": "https://localhost:8080/"
        },
        "id": "X3LEnYVYiNHw",
        "outputId": "d48a10b4-a2e3-4a4f-9cb8-08ed11ec0151"
      },
      "source": [
        "gender_direction @ modelo.word_vec('professor')"
      ],
      "execution_count": null,
      "outputs": [
        {
          "output_type": "execute_result",
          "data": {
            "text/plain": [
              "-0.29041293"
            ]
          },
          "metadata": {},
          "execution_count": 41
        }
      ]
    },
    {
      "cell_type": "code",
      "metadata": {
        "colab": {
          "base_uri": "https://localhost:8080/"
        },
        "id": "OEpe6vzriOro",
        "outputId": "0d3a31f6-5278-4ce1-b512-ab2f53687762"
      },
      "source": [
        "gender_direction @ modelo.word_vec('arquiteto')"
      ],
      "execution_count": null,
      "outputs": [
        {
          "output_type": "execute_result",
          "data": {
            "text/plain": [
              "-0.19571309"
            ]
          },
          "metadata": {},
          "execution_count": 42
        }
      ]
    },
    {
      "cell_type": "code",
      "metadata": {
        "colab": {
          "base_uri": "https://localhost:8080/"
        },
        "id": "sXVkDwIuiQl4",
        "outputId": "3a7c462a-dca2-4821-fdeb-1f3e4d0d2bba"
      },
      "source": [
        "gender_direction @ modelo.word_vec('engenharia')"
      ],
      "execution_count": null,
      "outputs": [
        {
          "output_type": "execute_result",
          "data": {
            "text/plain": [
              "-0.013302558"
            ]
          },
          "metadata": {},
          "execution_count": 43
        }
      ]
    },
    {
      "cell_type": "code",
      "metadata": {
        "colab": {
          "base_uri": "https://localhost:8080/"
        },
        "id": "TtQceXzniR-b",
        "outputId": "3559caff-6f09-4b2e-d338-14da68061e14"
      },
      "source": [
        "gender_direction @ modelo.word_vec('medicina')"
      ],
      "execution_count": null,
      "outputs": [
        {
          "output_type": "execute_result",
          "data": {
            "text/plain": [
              "0.07332701"
            ]
          },
          "metadata": {},
          "execution_count": 44
        }
      ]
    },
    {
      "cell_type": "code",
      "metadata": {
        "colab": {
          "base_uri": "https://localhost:8080/"
        },
        "id": "1WCO4IVjiTOu",
        "outputId": "af6cebe8-f2da-4090-d1ba-f10d2081be96"
      },
      "source": [
        "# !!!!!\n",
        "gender_direction @ modelo.word_vec('física')"
      ],
      "execution_count": null,
      "outputs": [
        {
          "output_type": "execute_result",
          "data": {
            "text/plain": [
              "-0.0061163707"
            ]
          },
          "metadata": {},
          "execution_count": 45
        }
      ]
    },
    {
      "cell_type": "code",
      "metadata": {
        "colab": {
          "base_uri": "https://localhost:8080/"
        },
        "id": "sMcRsA_AiUlU",
        "outputId": "a4333279-e56c-4927-dd61-9f2bc9954ae0"
      },
      "source": [
        "gender_direction @ modelo.word_vec('enfermagem')"
      ],
      "execution_count": null,
      "outputs": [
        {
          "output_type": "execute_result",
          "data": {
            "text/plain": [
              "0.011106563"
            ]
          },
          "metadata": {},
          "execution_count": 46
        }
      ]
    },
    {
      "cell_type": "code",
      "metadata": {
        "colab": {
          "base_uri": "https://localhost:8080/"
        },
        "id": "g6p9jb9iiarf",
        "outputId": "aeb71761-ec50-46f6-8774-605ab5d97a30"
      },
      "source": [
        "gender_direction @ modelo.word_vec('futebol')"
      ],
      "execution_count": null,
      "outputs": [
        {
          "output_type": "execute_result",
          "data": {
            "text/plain": [
              "-0.21011637"
            ]
          },
          "metadata": {},
          "execution_count": 47
        }
      ]
    },
    {
      "cell_type": "code",
      "metadata": {
        "colab": {
          "base_uri": "https://localhost:8080/"
        },
        "id": "wu1VgjfUicAM",
        "outputId": "cd7a392d-f79e-42cf-9eeb-159db2e864eb"
      },
      "source": [
        "gender_direction @ modelo.word_vec('vôlei')"
      ],
      "execution_count": null,
      "outputs": [
        {
          "output_type": "execute_result",
          "data": {
            "text/plain": [
              "-0.11268738"
            ]
          },
          "metadata": {},
          "execution_count": 48
        }
      ]
    },
    {
      "cell_type": "code",
      "metadata": {
        "colab": {
          "base_uri": "https://localhost:8080/"
        },
        "id": "96xoyU8sidWt",
        "outputId": "fa44eca2-f3a1-4c55-d940-10c9f69888f4"
      },
      "source": [
        "gender_direction @ modelo.word_vec('natação')"
      ],
      "execution_count": null,
      "outputs": [
        {
          "output_type": "execute_result",
          "data": {
            "text/plain": [
              "0.087047264"
            ]
          },
          "metadata": {},
          "execution_count": 49
        }
      ]
    },
    {
      "cell_type": "code",
      "metadata": {
        "colab": {
          "base_uri": "https://localhost:8080/"
        },
        "id": "z98UcyfdiemX",
        "outputId": "e7b687ce-7f46-42ac-98a3-b43bf7bb5391"
      },
      "source": [
        "gender_direction @ modelo.word_vec('ginástica')"
      ],
      "execution_count": null,
      "outputs": [
        {
          "output_type": "execute_result",
          "data": {
            "text/plain": [
              "0.3308209"
            ]
          },
          "metadata": {},
          "execution_count": 50
        }
      ]
    },
    {
      "cell_type": "code",
      "metadata": {
        "colab": {
          "base_uri": "https://localhost:8080/",
          "height": 621
        },
        "id": "0UNfNK3GigL8",
        "outputId": "0baee3ba-f1ab-45c2-f031-1dc2000d26af"
      },
      "source": [
        "profissoes_neutras = [\n",
        "    'chefe',\n",
        "    'colunista',\n",
        "    'assistente',\n",
        "    'taxista',\n",
        "    'psiquiatra',\n",
        "    'policial',\n",
        "    'dentista',\n",
        "    'eletricista',\n",
        "    'economista',\n",
        "    'atleta',\n",
        "    'terapeuta',\n",
        "    'piloto',\n",
        "    'modelo',\n",
        "    'estudante',\n",
        "    'comerciante',\n",
        "    'militar',\n",
        "    'cientista',\n",
        "    'designer',\n",
        "    'gerente',\n",
        "    'artista',\n",
        "    'analista',\n",
        "    'jornalista',\n",
        "    'diarista',\n",
        "    \"pediatra\",\n",
        "    'psiquiatra',\n",
        "    'dermatologista',\n",
        "    'ginecologista'\n",
        "]\n",
        "\n",
        "import matplotlib.pylab as plt\n",
        "\n",
        "f, ax = plt.subplots(1, figsize=(10, 10))\n",
        "\n",
        "we_genero.plot_projection_scores(\n",
        "    profissoes_neutras + fem[:1] + masc[:1],\n",
        "    n_extreme=20,\n",
        "    ax=ax);"
      ],
      "execution_count": null,
      "outputs": [
        {
          "output_type": "display_data",
          "data": {
            "image/png": "[encoded data removed]",
            "text/plain": [
              "<Figure size 720x720 with 1 Axes>"
            ]
          },
          "metadata": {
            "needs_background": "light"
          }
        }
      ]
    },
    {
      "cell_type": "code",
      "metadata": {
        "colab": {
          "base_uri": "https://localhost:8080/",
          "height": 621
        },
        "id": "2q_OqPxji235",
        "outputId": "d30c5ae4-e503-4223-aff0-99782d6075a2"
      },
      "source": [
        "profissoes_nao_neutras = [\n",
        "    'médico',\n",
        "    'médica',\n",
        "    'professor',\n",
        "    'professora',\n",
        "    'engenheiro',\n",
        "    'engenheira',\n",
        "    'patrão',\n",
        "    'patroa',\n",
        "    'secretário',\n",
        "    'secretária',\n",
        "    'advogado',\n",
        "    'advogada',\n",
        "    'enfermeira',\n",
        "    'enfermeiro',\n",
        "    'maquiador',\n",
        "    'maquiadora',\n",
        "    'jogador',\n",
        "    'jogadora',\n",
        "    'vendedor',\n",
        "    'vendedora',\n",
        "    'veterinária',\n",
        "    'veterinário'\n",
        "]\n",
        "\n",
        "import matplotlib.pylab as plt\n",
        "\n",
        "f, ax = plt.subplots(1, figsize=(10, 10))\n",
        "\n",
        "we_genero.plot_projection_scores(\n",
        "    profissoes_nao_neutras + fem[:1] + masc[:1],\n",
        "    n_extreme=20,\n",
        "    ax=ax);"
      ],
      "execution_count": null,
      "outputs": [
        {
          "output_type": "display_data",
          "data": {
            "image/png": "[encoded data removed]",
            "text/plain": [
              "<Figure size 720x720 with 1 Axes>"
            ]
          },
          "metadata": {
            "needs_background": "light"
          }
        }
      ]
    },
    {
      "cell_type": "code",
      "metadata": {
        "colab": {
          "base_uri": "https://localhost:8080/",
          "height": 621
        },
        "id": "koH94gf8jBKL",
        "outputId": "7bc5466e-408e-4321-fefe-dd22e5104003"
      },
      "source": [
        "profissoes = [\n",
        "    'médico',\n",
        "    'médica',\n",
        "    'professor',\n",
        "    'professora',\n",
        "    'engenheiro',\n",
        "    'engenheira',\n",
        "    'patrão',\n",
        "    'patroa',\n",
        "    'secretário',\n",
        "    'secretária',\n",
        "    'advogado',\n",
        "    'advogada',\n",
        "    'enfermeira',\n",
        "    'enfermeiro',\n",
        "    'maquiador',\n",
        "    'maquiadora',\n",
        "    'jogador',\n",
        "    'jogadora',\n",
        "    'vendedor',\n",
        "    'vendedora',\n",
        "    'chefe',\n",
        "    'colunista',\n",
        "    'assistente',\n",
        "    'taxista',\n",
        "    'psiquiatra',\n",
        "    'policial',\n",
        "    'dentista',\n",
        "    'eletricista',\n",
        "    'economista',\n",
        "    'atleta',\n",
        "    'terapeuta',\n",
        "    'piloto',\n",
        "    'modelo',\n",
        "    'estudante',\n",
        "    'comerciante',\n",
        "    'militar',\n",
        "    'cientista',\n",
        "    'designer',\n",
        "    'gerente',\n",
        "    'artista',\n",
        "    'analista',\n",
        "    'jornalista',\n",
        "    'diarista'\n",
        "]\n",
        "\n",
        "import matplotlib.pylab as plt\n",
        "\n",
        "f, ax = plt.subplots(1, figsize=(10, 10))\n",
        "\n",
        "we_genero.plot_projection_scores(\n",
        "    profissoes + fem[:1] + masc[:1],\n",
        "    n_extreme=20,\n",
        "    ax=ax);"
      ],
      "execution_count": null,
      "outputs": [
        {
          "output_type": "display_data",
          "data": {
            "image/png": "[encoded data removed]",
            "text/plain": [
              "<Figure size 720x720 with 1 Axes>"
            ]
          },
          "metadata": {
            "needs_background": "light"
          }
        }
      ]
    },
    {
      "cell_type": "code",
      "metadata": {
        "colab": {
          "base_uri": "https://localhost:8080/",
          "height": 621
        },
        "id": "RoVrS2jSjHuv",
        "outputId": "60360cfa-edfd-496c-a4fe-026b5480a843"
      },
      "source": [
        "adjetivos = [\n",
        "    'inteligente',\n",
        "    'humilde',\n",
        "    'amável',\n",
        "    'doce',\n",
        "    'paciente',\n",
        "    'popular',\n",
        "    'flexível',\n",
        "    'grande',\n",
        "    'brilhante',\n",
        "    'inocente',\n",
        "    'fácil',\n",
        "    'agradável',\n",
        "    'infeliz',\n",
        "    'capaz',\n",
        "    'difícil'\n",
        "]\n",
        "\n",
        "import matplotlib.pylab as plt\n",
        "\n",
        "f, ax = plt.subplots(1, figsize=(10, 10))\n",
        "\n",
        "we_genero.plot_projection_scores(\n",
        "    adjetivos + fem[:1] + masc[:1],\n",
        "    n_extreme=20,\n",
        "    ax=ax);"
      ],
      "execution_count": null,
      "outputs": [
        {
          "output_type": "display_data",
          "data": {
            "image/png": "[encoded data removed]",
            "text/plain": [
              "<Figure size 720x720 with 1 Axes>"
            ]
          },
          "metadata": {
            "needs_background": "light"
          }
        }
      ]
    },
    {
      "cell_type": "markdown",
      "metadata": {
        "id": "wRvNFip6gItX"
      },
      "source": [
        "## Trabalhando com frases"
      ]
    },
    {
      "cell_type": "code",
      "metadata": {
        "colab": {
          "base_uri": "https://localhost:8080/"
        },
        "id": "dIzVFA2UgKrr",
        "outputId": "19c32709-4cf6-4d73-c8ad-f70b8fb74b8a"
      },
      "source": [
        "import nltk\n",
        "import string\n",
        "nltk.download('punkt')\n",
        "\n",
        "def tokenizer(text):\n",
        "  text = text.lower()\n",
        "  alphanumeric_list = []\n",
        "\n",
        "  for valid_token in nltk.word_tokenize(text):\n",
        "    if valid_token in string.punctuation: continue\n",
        "    alphanumeric_list.append(valid_token)\n",
        "\n",
        "  return alphanumeric_list"
      ],
      "execution_count": null,
      "outputs": [
        {
          "output_type": "stream",
          "name": "stdout",
          "text": [
            "[nltk_data] Downloading package punkt to /root/nltk_data...\n",
            "[nltk_data]   Unzipping tokenizers/punkt.zip.\n"
          ]
        }
      ]
    },
    {
      "cell_type": "code",
      "metadata": {
        "id": "7li3P0xthKgf"
      },
      "source": [
        "import numpy as np\n",
        "def vectors_combination_by_sum(words_numbers): \n",
        "  result = np.zeros(300)\n",
        "\n",
        "  for wn in words_numbers:\n",
        "    result += modelo.get_vector(wn)\n",
        "\n",
        "  return result"
      ],
      "execution_count": null,
      "outputs": []
    },
    {
      "cell_type": "code",
      "metadata": {
        "colab": {
          "base_uri": "https://localhost:8080/"
        },
        "id": "8aa9JDx_iN7J",
        "outputId": "3b70dad7-d551-469d-9a1e-e3c96642cf9c"
      },
      "source": [
        "phrase_vector = vectors_combination_by_sum(tokenizer(\"ela uma médica\"))\n",
        "gender_direction @ phrase_vector"
      ],
      "execution_count": null,
      "outputs": [
        {
          "output_type": "execute_result",
          "data": {
            "text/plain": [
              "0.35280812836219455"
            ]
          },
          "metadata": {},
          "execution_count": 57
        }
      ]
    },
    {
      "cell_type": "code",
      "metadata": {
        "colab": {
          "base_uri": "https://localhost:8080/"
        },
        "id": "ZeB7sSbpi2Jn",
        "outputId": "0498db84-a9e1-47b5-8827-0d2562870d9a"
      },
      "source": [
        "phrase_vector = vectors_combination_by_sum(tokenizer(\"ele médico\"))\n",
        "gender_direction @ phrase_vector"
      ],
      "execution_count": null,
      "outputs": [
        {
          "output_type": "execute_result",
          "data": {
            "text/plain": [
              "-0.4482302520599403"
            ]
          },
          "metadata": {},
          "execution_count": 58
        }
      ]
    },
    {
      "cell_type": "code",
      "metadata": {
        "id": "n5ByLCH6qv4w",
        "colab": {
          "base_uri": "https://localhost:8080/"
        },
        "outputId": "5a17982b-a764-4b7a-c9d4-af0265dc57b5"
      },
      "source": [
        "phrase_vector = vectors_combination_by_sum(tokenizer(\"brinca boneca\"))\n",
        "gender_direction @ phrase_vector"
      ],
      "execution_count": null,
      "outputs": [
        {
          "output_type": "execute_result",
          "data": {
            "text/plain": [
              "0.32622241112023287"
            ]
          },
          "metadata": {},
          "execution_count": 59
        }
      ]
    },
    {
      "cell_type": "code",
      "metadata": {
        "id": "YytrBN4lqyDh",
        "colab": {
          "base_uri": "https://localhost:8080/"
        },
        "outputId": "49d68259-cc66-4e84-b6b4-d368c78dce24"
      },
      "source": [
        "phrase_vector = vectors_combination_by_sum(tokenizer(\"brinca boneco\"))\n",
        "gender_direction @ phrase_vector"
      ],
      "execution_count": null,
      "outputs": [
        {
          "output_type": "execute_result",
          "data": {
            "text/plain": [
              "-0.33286586711536953"
            ]
          },
          "metadata": {},
          "execution_count": 60
        }
      ]
    },
    {
      "cell_type": "code",
      "metadata": {
        "colab": {
          "base_uri": "https://localhost:8080/"
        },
        "id": "NSg_mV-Ni4Xp",
        "outputId": "7358beef-f24c-409e-a203-9cea770e43fa"
      },
      "source": [
        "phrase_vector = vectors_combination_by_sum(tokenizer(\"profissional sucesso\"))\n",
        "gender_direction @ phrase_vector"
      ],
      "execution_count": null,
      "outputs": [
        {
          "output_type": "execute_result",
          "data": {
            "text/plain": [
              "-0.31594428671986824"
            ]
          },
          "metadata": {},
          "execution_count": 61
        }
      ]
    },
    {
      "cell_type": "code",
      "metadata": {
        "colab": {
          "base_uri": "https://localhost:8080/"
        },
        "id": "d-NAkOGpqpmC",
        "outputId": "61a56a75-c5a6-43b2-8890-7aa728cb7d58"
      },
      "source": [
        "phrase_vector = vectors_combination_by_sum(tokenizer(\"lidera time\"))\n",
        "gender_direction @ phrase_vector"
      ],
      "execution_count": null,
      "outputs": [
        {
          "output_type": "execute_result",
          "data": {
            "text/plain": [
              "-0.3329701720277567"
            ]
          },
          "metadata": {},
          "execution_count": 62
        }
      ]
    },
    {
      "cell_type": "code",
      "metadata": {
        "colab": {
          "base_uri": "https://localhost:8080/"
        },
        "id": "2UY7w1-kjX80",
        "outputId": "4ebe9954-7674-4696-fd13-8a0b14a3a5c9"
      },
      "source": [
        "phrase_vector = vectors_combination_by_sum(tokenizer(\"limpa casa\"))\n",
        "gender_direction @ phrase_vector"
      ],
      "execution_count": null,
      "outputs": [
        {
          "output_type": "execute_result",
          "data": {
            "text/plain": [
              "0.4215467694051706"
            ]
          },
          "metadata": {},
          "execution_count": 63
        }
      ]
    },
    {
      "cell_type": "code",
      "metadata": {
        "colab": {
          "base_uri": "https://localhost:8080/"
        },
        "id": "FW8sSW6sjhYB",
        "outputId": "7e61ef62-c047-421e-b3a7-2fcc0ebbed64"
      },
      "source": [
        "phrase_vector = vectors_combination_by_sum(tokenizer(\"joga futebol\"))\n",
        "gender_direction @ phrase_vector"
      ],
      "execution_count": null,
      "outputs": [
        {
          "output_type": "execute_result",
          "data": {
            "text/plain": [
              "-0.25354974897187066"
            ]
          },
          "metadata": {},
          "execution_count": 64
        }
      ]
    },
    {
      "cell_type": "code",
      "metadata": {
        "colab": {
          "base_uri": "https://localhost:8080/"
        },
        "id": "zkI1x1nLjttz",
        "outputId": "fb7d57f2-09bb-4ab1-ffb1-259f8a060d49"
      },
      "source": [
        "phrase_vector = vectors_combination_by_sum(tokenizer(\"joga vôlei\"))\n",
        "gender_direction @ phrase_vector"
      ],
      "execution_count": null,
      "outputs": [
        {
          "output_type": "execute_result",
          "data": {
            "text/plain": [
              "-0.15612075718306917"
            ]
          },
          "metadata": {},
          "execution_count": 65
        }
      ]
    },
    {
      "cell_type": "code",
      "metadata": {
        "colab": {
          "base_uri": "https://localhost:8080/"
        },
        "id": "oYuCU_uxky7o",
        "outputId": "cca0106a-be1d-4213-8d19-a7addb91081b"
      },
      "source": [
        "# !!!\n",
        "phrase_vector = vectors_combination_by_sum(tokenizer(\"estudante medicina\"))\n",
        "gender_direction @ phrase_vector"
      ],
      "execution_count": null,
      "outputs": [
        {
          "output_type": "execute_result",
          "data": {
            "text/plain": [
              "0.17678821634109163"
            ]
          },
          "metadata": {},
          "execution_count": 66
        }
      ]
    },
    {
      "cell_type": "code",
      "metadata": {
        "colab": {
          "base_uri": "https://localhost:8080/"
        },
        "id": "9_-EY8xzqWxz",
        "outputId": "c8a32e0b-008c-43f9-cfb1-907f23abfaca"
      },
      "source": [
        "# !!!\n",
        "phrase_vector = vectors_combination_by_sum(tokenizer(\"estudante engenharia\"))\n",
        "gender_direction @ phrase_vector"
      ],
      "execution_count": null,
      "outputs": [
        {
          "output_type": "execute_result",
          "data": {
            "text/plain": [
              "0.09015864783213988"
            ]
          },
          "metadata": {},
          "execution_count": 67
        }
      ]
    },
    {
      "cell_type": "code",
      "metadata": {
        "colab": {
          "base_uri": "https://localhost:8080/"
        },
        "id": "rOy0-bKGqaO5",
        "outputId": "c4451fef-f5f8-4f5c-d1cb-f7c1c3dbb62f"
      },
      "source": [
        "# !!!\n",
        "phrase_vector = vectors_combination_by_sum(tokenizer(\"estudante enfermagem\"))\n",
        "gender_direction @ phrase_vector"
      ],
      "execution_count": null,
      "outputs": [
        {
          "output_type": "execute_result",
          "data": {
            "text/plain": [
              "0.1145677679565929"
            ]
          },
          "metadata": {},
          "execution_count": 68
        }
      ]
    },
    {
      "cell_type": "code",
      "metadata": {
        "colab": {
          "base_uri": "https://localhost:8080/"
        },
        "id": "HZhK0iUCrLYj",
        "outputId": "af4431a0-af50-477d-90c7-5bb0598dad50"
      },
      "source": [
        "phrase_vector = vectors_combination_by_sum(tokenizer(\"especialista assunto\"))\n",
        "gender_direction @ phrase_vector"
      ],
      "execution_count": null,
      "outputs": [
        {
          "output_type": "execute_result",
          "data": {
            "text/plain": [
              "-0.34314909608209765"
            ]
          },
          "metadata": {},
          "execution_count": 69
        }
      ]
    },
    {
      "cell_type": "code",
      "metadata": {
        "colab": {
          "base_uri": "https://localhost:8080/"
        },
        "id": "hjfcwdgWrWdz",
        "outputId": "1305095f-8066-471c-e026-82698d8ce312"
      },
      "source": [
        "phrase_vector = vectors_combination_by_sum(tokenizer(\"especialista área\"))\n",
        "gender_direction @ phrase_vector"
      ],
      "execution_count": null,
      "outputs": [
        {
          "output_type": "execute_result",
          "data": {
            "text/plain": [
              "-0.0794888883348415"
            ]
          },
          "metadata": {},
          "execution_count": 70
        }
      ]
    },
    {
      "cell_type": "code",
      "metadata": {
        "id": "oK8Jh7YXA-4g"
      },
      "source": [
        "import stylecloud\n",
        "%matplotlib inline\n",
        "def ciyun(res, name, style):#RES word vector output Correlation The highest word Name Save file name style word cloud picture style settings\n",
        "    result=''\n",
        "    for each in res:\n",
        "        result=result+' '+str(each[0])\n",
        "    stylecloud.gen_stylecloud(\n",
        "        text=result, # The result of the above word is passed to the text parameters\n",
        "        size=512,\n",
        "        # font_path = 'msyh.ttc', #      \n",
        "        palette='cartocolors.qualitative.Pastel_7', #      , select from PaletTable\n",
        "        gradient='horizontal', #              \n",
        "        icon_name=style,  #    , select from Font Awesome\n",
        "        output_name=name+\".png\"\n",
        "        ) #        "
      ],
      "execution_count": null,
      "outputs": []
    },
    {
      "cell_type": "code",
      "metadata": {
        "id": "4OO2zEHcLpFd"
      },
      "source": [
        "sum_vector = vectors_combination_by_sum(tokenizer(\"diarista chefe colunista assistente taxista psiquiatra policial dentista eletricista economista atleta terapeuta piloto modelo estudante comerciante militar cientista designer gerente artista analista jornalista diarista pediatra psiquiatra dermatologista ginecologista médico médica engenheiro engenheira advogado advogada empregado empregada\"))\n",
        "similar_words = modelo.similar_by_vector(sum_vector, topn=1500)"
      ],
      "execution_count": null,
      "outputs": []
    },
    {
      "cell_type": "code",
      "metadata": {
        "id": "iudFKnWXbjsj"
      },
      "source": [
        "f = []\n",
        "m = []\n",
        "for t in similar_words:\n",
        "  t = list(t)\n",
        "  if not \"ex\" in t[0]:\n",
        "    t[1] *= gender_direction @ modelo[t[0]]\n",
        "    if t[1] > 0:\n",
        "      f += [tuple(t)]\n",
        "    else:\n",
        "      t[1] -= 1\n",
        "      m += [tuple(t)]\n",
        "    "
      ],
      "execution_count": null,
      "outputs": []
    },
    {
      "cell_type": "code",
      "metadata": {
        "id": "XdEpXx-caSE3"
      },
      "source": [
        "f.sort(key=lambda tup: tup[1])\n",
        "f.reverse() \n",
        "\n",
        "m.sort(key=lambda tup: tup[1])\n",
        "m.reverse() "
      ],
      "execution_count": null,
      "outputs": []
    },
    {
      "cell_type": "code",
      "metadata": {
        "id": "3bApO2gIbjs2"
      },
      "source": [
        "ciyun(f, \"mulher\",'fas fa-book-open')"
      ],
      "execution_count": null,
      "outputs": []
    },
    {
      "cell_type": "code",
      "metadata": {
        "id": "lF0VsC4pbjs2"
      },
      "source": [
        "ciyun(m, \"homem\",'fas fa-book-open')"
      ],
      "execution_count": null,
      "outputs": []
    }
  ]
}